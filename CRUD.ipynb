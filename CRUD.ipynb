{
  "nbformat": 4,
  "nbformat_minor": 0,
  "metadata": {
    "colab": {
      "name": "CRUD",
      "provenance": [],
      "collapsed_sections": [],
      "toc_visible": true,
      "authorship_tag": "ABX9TyOvSS+wRjkdkvXLryktzlzw",
      "include_colab_link": true
    },
    "kernelspec": {
      "name": "python3",
      "display_name": "Python 3"
    }
  },
  "cells": [
    {
      "cell_type": "markdown",
      "metadata": {
        "id": "view-in-github",
        "colab_type": "text"
      },
      "source": [
        "<a href=\"https://colab.research.google.com/github/avellar1975/python/blob/master/CRUD.ipynb\" target=\"_parent\"><img src=\"https://colab.research.google.com/assets/colab-badge.svg\" alt=\"Open In Colab\"/></a>"
      ]
    },
    {
      "cell_type": "markdown",
      "metadata": {
        "id": "yOCXg_aySKDu",
        "colab_type": "text"
      },
      "source": [
        "# CRUD"
      ]
    },
    {
      "cell_type": "markdown",
      "metadata": {
        "id": "MvneuahN9nqs",
        "colab_type": "text"
      },
      "source": [
        "CRUD (acrónimo do inglês Create, Read, Update and Delete) são as quatro operações básicas (criação, consulta, atualização e destruição de dados) utilizadas em bases de dados relacionais (RDBMS) fornecidas aos utilizadores do sistema.\n",
        "\n",
        "Trata-se das 4 operações básicas de SQL: create (insert), read (select), update, delete."
      ]
    },
    {
      "cell_type": "markdown",
      "metadata": {
        "id": "QQ_l8yNqXcHD",
        "colab_type": "text"
      },
      "source": [
        "## SQLite"
      ]
    },
    {
      "cell_type": "markdown",
      "metadata": {
        "id": "G9qbxhPc3IUJ",
        "colab_type": "text"
      },
      "source": [
        "SQLite é uma biblioteca em linguagem C que implementa um banco de dados SQL embutido. Programas que usam a biblioteca SQLite podem ter acesso a banco de dados SQL sem executar um processo SGBD separado.\n",
        "\n",
        "Criar um banco de dados no SQLite é realmente muito simples, mas o processo requer que você conheça um pouco de SQL."
      ]
    },
    {
      "cell_type": "markdown",
      "metadata": {
        "id": "f-UDUO5sXN4v",
        "colab_type": "text"
      },
      "source": [
        " o SQLite pode ser usado. Em resumo:\n",
        "\n",
        "* Dispositivos móveis e embarcados\n",
        "* Formato de arquivos\n",
        "* \"Pequenos\" websites\n",
        "* Análise de dados\n",
        "* Cache para dados corporativos\n",
        "* Banco de dados apenas no lado do servidor\n",
        "* Arquivamento de dados\n",
        "* Substituto para operações com arquivos comuns\n",
        "* Bancos temporários ou internos\n",
        "* Substituto para outros SGDBs em tarefas de teste e demonstração\n",
        "* Treinamento em banco de dados.\n",
        "\n",
        "\n"
      ]
    },
    {
      "cell_type": "markdown",
      "metadata": {
        "id": "gVhJnOqDSXdH",
        "colab_type": "text"
      },
      "source": [
        "### Importando o módulo sqlite3"
      ]
    },
    {
      "cell_type": "code",
      "metadata": {
        "id": "ou5nFwSj1qm-",
        "colab_type": "code",
        "colab": {}
      },
      "source": [
        "import sqlite3"
      ],
      "execution_count": null,
      "outputs": []
    },
    {
      "cell_type": "markdown",
      "metadata": {
        "id": "vPDfgiYKSeYB",
        "colab_type": "text"
      },
      "source": [
        "### Criando funções"
      ]
    },
    {
      "cell_type": "code",
      "metadata": {
        "id": "aI782Ivx60KT",
        "colab_type": "code",
        "colab": {}
      },
      "source": [
        "def criar_tabela():\n",
        "    \"\"\" Recebe como parametro \"nomedobanco.db\" e nometabela.\"\"\"\n",
        "    conn=sqlite3.connect(\"livros.db\")\n",
        "    cur=conn.cursor()\n",
        "    cur.execute(\"\"\"CREATE TABLE IF NOT EXISTS livro \n",
        "        (id_livro INTEGER PRIMARY KEY AUTOINCREMENT,\n",
        "        titulo text,\n",
        "        autor text,\n",
        "        ano int,\n",
        "        isbn int)\"\"\"\n",
        "        )\n",
        "    conn.commit()\n",
        "    conn.close()\n",
        "\n",
        "def create(titulo,autor,ano,isbn):\n",
        "    conn=sqlite3.connect(\"livros.db\")\n",
        "    cur=conn.cursor()\n",
        "    cur.execute(\"\"\"INSERT INTO livro (titulo, autor, ano, isbn)\n",
        "        VALUES (?,?,?,?)\"\"\", (titulo,autor,ano,isbn))\n",
        "    conn.commit()\n",
        "    print('Dados criados com sucesso.')\n",
        "    conn.close()\n",
        "\n",
        "def read():\n",
        "    conn=sqlite3.connect(\"livros.db\")\n",
        "    cur=conn.cursor()\n",
        "    cur.execute(\"SELECT * FROM livro\")\n",
        "    rows=cur.fetchall()\n",
        "    conn.close()\n",
        "    return rows\n",
        "\n",
        "def update(id_livro, titulo, autor, ano, isbn):\n",
        "    conn=sqlite3.connect(\"livros.db\")\n",
        "    cur=conn.cursor()\n",
        "    cur.execute(\"\"\"UPDATE livro SET \n",
        "        titulo = ?, autor = ?, ano = ?, isbn= ? \n",
        "        WHERE id_livro = ?\"\"\", (titulo, autor, ano, isbn, id_livro))\n",
        "    conn.commit()\n",
        "    print('Dados atualizados com sucesso.')\n",
        "    conn.close()\n",
        "    \n",
        "def delete(id_livro):\n",
        "    conn=sqlite3.connect(\"livros.db\")\n",
        "    cur=conn.cursor()\n",
        "    cur.execute(\"\"\"DELETE FROM livro WHERE id_livro = ? \"\"\", (id_livro,))\n",
        "    conn.commit()\n",
        "    print('Registro excluido com sucesso.')\n",
        "    conn.close()"
      ],
      "execution_count": null,
      "outputs": []
    },
    {
      "cell_type": "code",
      "metadata": {
        "id": "4FBpkZE3_LVM",
        "colab_type": "code",
        "colab": {}
      },
      "source": [
        "criar_tabela()"
      ],
      "execution_count": null,
      "outputs": []
    },
    {
      "cell_type": "markdown",
      "metadata": {
        "id": "WFFYIDA8CUMa",
        "colab_type": "text"
      },
      "source": [
        "## CREATE"
      ]
    },
    {
      "cell_type": "code",
      "metadata": {
        "id": "0-i-ncSrCJun",
        "colab_type": "code",
        "colab": {
          "base_uri": "https://localhost:8080/",
          "height": 34
        },
        "outputId": "ce9290d9-350b-480a-8b9d-38d9aa4a8366"
      },
      "source": [
        "create(\"Python para Iniciantes\",\"Roberto Ramalho\",2003,123456)"
      ],
      "execution_count": null,
      "outputs": [
        {
          "output_type": "stream",
          "text": [
            "Dados criados com sucesso.\n"
          ],
          "name": "stdout"
        }
      ]
    },
    {
      "cell_type": "code",
      "metadata": {
        "id": "BsjrD_scWNsP",
        "colab_type": "code",
        "colab": {
          "base_uri": "https://localhost:8080/",
          "height": 34
        },
        "outputId": "e42814b2-5f38-490c-99cd-5ec07bd1c57c"
      },
      "source": [
        "create(\"ABAP para Zombies\",\"Fábio de Souza\",2020,22558123456)"
      ],
      "execution_count": null,
      "outputs": [
        {
          "output_type": "stream",
          "text": [
            "Dados criados com sucesso.\n"
          ],
          "name": "stdout"
        }
      ]
    },
    {
      "cell_type": "markdown",
      "metadata": {
        "id": "ogUVVF3yCXv_",
        "colab_type": "text"
      },
      "source": [
        "## READ"
      ]
    },
    {
      "cell_type": "code",
      "metadata": {
        "id": "4unD1t7d6JGj",
        "colab_type": "code",
        "colab": {
          "base_uri": "https://localhost:8080/",
          "height": 52
        },
        "outputId": "f7410fe1-ab9c-4953-ad9e-9e1a4166a2bf"
      },
      "source": [
        "read()"
      ],
      "execution_count": null,
      "outputs": [
        {
          "output_type": "execute_result",
          "data": {
            "text/plain": [
              "[(1, 'Python para Iniciantes', 'Roberto Ramalho', 2003, 123456),\n",
              " (2, 'ABAP para Zombies', 'Fábio de Souza', 2020, 22558123456)]"
            ]
          },
          "metadata": {
            "tags": []
          },
          "execution_count": 9
        }
      ]
    },
    {
      "cell_type": "code",
      "metadata": {
        "id": "45Hl90u1CPmc",
        "colab_type": "code",
        "colab": {
          "base_uri": "https://localhost:8080/",
          "height": 122
        },
        "outputId": "54a70891-ee01-4edd-919b-e9995641b61e"
      },
      "source": [
        "def visualizar():\n",
        "    resultado = read()\n",
        "\n",
        "    for registro in resultado:\n",
        "        print(f'id_livro: {registro[0]}')\n",
        "        print(f'Título: {registro[1]}')\n",
        "        print(f'Autor: {registro[2]}')\n",
        "        print(f'Ano: {registro[3]}')\n",
        "        print(f'ISBN: {registro[4]}')\n",
        "        print('-'*52)\n",
        "\n",
        "visualizar()"
      ],
      "execution_count": null,
      "outputs": [
        {
          "output_type": "stream",
          "text": [
            "id_livro: 1\n",
            "Título: Python Fluente\n",
            "Autor: Luciano Ramalho\n",
            "Ano: 2009\n",
            "ISBN: 9999994\n",
            "----------------------------------------------------\n"
          ],
          "name": "stdout"
        }
      ]
    },
    {
      "cell_type": "markdown",
      "metadata": {
        "id": "eWkkmcZTCgYx",
        "colab_type": "text"
      },
      "source": [
        "## UPDATE"
      ]
    },
    {
      "cell_type": "code",
      "metadata": {
        "id": "lnqfBnWZCh50",
        "colab_type": "code",
        "colab": {
          "base_uri": "https://localhost:8080/",
          "height": 34
        },
        "outputId": "6255f47e-d3ac-4100-e4d9-4f3bbb28c596"
      },
      "source": [
        "update(1, 'Python Fluente', 'Luciano Ramalho', 2009, 9999994)"
      ],
      "execution_count": null,
      "outputs": [
        {
          "output_type": "stream",
          "text": [
            "Dados atualizados com sucesso.\n"
          ],
          "name": "stdout"
        }
      ]
    },
    {
      "cell_type": "markdown",
      "metadata": {
        "id": "kvFdVFP9PpGd",
        "colab_type": "text"
      },
      "source": [
        "## DELETE"
      ]
    },
    {
      "cell_type": "code",
      "metadata": {
        "id": "XlCqGLxoERu6",
        "colab_type": "code",
        "colab": {
          "base_uri": "https://localhost:8080/",
          "height": 34
        },
        "outputId": "9ad41901-46eb-412a-c9c3-5845fd9b6b02"
      },
      "source": [
        "delete('2')"
      ],
      "execution_count": null,
      "outputs": [
        {
          "output_type": "stream",
          "text": [
            "Registro excluido com sucesso.\n"
          ],
          "name": "stdout"
        }
      ]
    },
    {
      "cell_type": "markdown",
      "metadata": {
        "id": "60IbWHU26Dir",
        "colab_type": "text"
      },
      "source": [
        "## Exemplo"
      ]
    },
    {
      "cell_type": "code",
      "metadata": {
        "id": "VIQ_mpXjfMOt",
        "colab_type": "code",
        "colab": {
          "base_uri": "https://localhost:8080/",
          "height": 738
        },
        "outputId": "6fa57806-b0dd-4e35-f25a-538add76b49e"
      },
      "source": [
        "print('Bem vindo ao catálogo de livros')\n",
        "\n",
        "print('\\n O que você deseja fazer?')\n",
        "\n",
        "opcao = 'x'\n",
        "\n",
        "def entrada():\n",
        "    titulo = input('Digite o título: ')\n",
        "    autor = input('Digite o nome do autor: ')\n",
        "    ano = input('Digite o ano do auditor: ')\n",
        "    isbn = input('Digite o número do ISBN: ')\n",
        "    return titulo,autor,ano,isbn\n",
        "\n",
        "while opcao != 's':\n",
        "    \n",
        "    opcao = input('Cadastrar[c], consultar[r], atualizar[u], apagar[d] ou sair[s]: ')\n",
        "    \n",
        "    if opcao == 'c':\n",
        "        titulo,autor,ano,isbn = entrada()\n",
        "        create(titulo, autor, ano, isbn)\n",
        "    elif opcao == 'r':\n",
        "        visualizar()\n",
        "    elif opcao == 'u':\n",
        "        id_livro = input('Digite o id do livro: ')\n",
        "        titulo,autor,ano,isbn = entrada()\n",
        "        update(id_livro, titulo, autor, ano, isbn)\n",
        "    elif opcao == 'd':\n",
        "        id_livro = input('Digite o id do livro para apagar: ')\n",
        "        delete(id_livro)\n",
        "    elif opcao == 's':\n",
        "        print('Saindo...')\n",
        "        break\n",
        "    else:\n",
        "        print('Opção inválida')"
      ],
      "execution_count": null,
      "outputs": [
        {
          "output_type": "stream",
          "text": [
            "Bem vindo ao catálogo de livros\n",
            "\n",
            " O que você deseja fazer?\n",
            "Cadastrar[c], consultar[r], atualizar[u], apagar[d] ou sair[s]: c\n",
            "Digite o título: Primeira e última liberdade\n",
            "Digite o nome do autor: Jiddu Krishnamurti\n",
            "Digite o ano do auditor: 1978\n",
            "Digite o número do ISBN: 25858555\n",
            "Dados criados com sucesso.\n",
            "Cadastrar[c], consultar[r], atualizar[u], apagar[d] ou sair[s]: r\n",
            "id_livro: 1\n",
            "Título: Python Fluente\n",
            "Autor: Luciano Ramalho\n",
            "Ano: 2009\n",
            "ISBN: 9999994\n",
            "----------------------------------------------------\n",
            "id_livro: 3\n",
            "Título: Primeira e última liberdade\n",
            "Autor: Jiddu Krishnamurti\n",
            "Ano: 1978\n",
            "ISBN: 25858555\n",
            "----------------------------------------------------\n",
            "Cadastrar[c], consultar[r], atualizar[u], apagar[d] ou sair[s]: u\n",
            "Digite o id do livro: 1\n",
            "Digite o título: Python Fluente - 2020\n",
            "Digite o nome do autor: Luciano Ramalho\n",
            "Digite o ano do auditor: 2020\n",
            "Digite o número do ISBN: 9999995\n",
            "Dados atualizados com sucesso.\n",
            "Cadastrar[c], consultar[r], atualizar[u], apagar[d] ou sair[s]: d\n",
            "Digite o id do livro para apagar: 3\n",
            "Registro excluido com sucesso.\n",
            "Cadastrar[c], consultar[r], atualizar[u], apagar[d] ou sair[s]: r\n",
            "id_livro: 1\n",
            "Título: Python Fluente - 2020\n",
            "Autor: Luciano Ramalho\n",
            "Ano: 2020\n",
            "ISBN: 9999995\n",
            "----------------------------------------------------\n",
            "Cadastrar[c], consultar[r], atualizar[u], apagar[d] ou sair[s]: s\n",
            "Saindo...\n"
          ],
          "name": "stdout"
        }
      ]
    }
  ]
}