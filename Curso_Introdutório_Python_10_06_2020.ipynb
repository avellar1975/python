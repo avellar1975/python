{
  "nbformat": 4,
  "nbformat_minor": 0,
  "metadata": {
    "colab": {
      "name": "Curso Introdutório Python 10-06-2020",
      "provenance": [],
      "collapsed_sections": [],
      "mount_file_id": "1Vb-sg18USAJRSjVDW8LU9z-gOkpDexPs",
      "authorship_tag": "ABX9TyNINWZhwrdM9Gmh+ESyOg9E",
      "include_colab_link": true
    },
    "kernelspec": {
      "name": "python3",
      "display_name": "Python 3"
    }
  },
  "cells": [
    {
      "cell_type": "markdown",
      "metadata": {
        "id": "view-in-github",
        "colab_type": "text"
      },
      "source": [
        "<a href=\"https://colab.research.google.com/github/avellar1975/python/blob/master/Curso_Introdut%C3%B3rio_Python_10_06_2020.ipynb\" target=\"_parent\"><img src=\"https://colab.research.google.com/assets/colab-badge.svg\" alt=\"Open In Colab\"/></a>"
      ]
    },
    {
      "cell_type": "markdown",
      "metadata": {
        "id": "zyhtTrcC8fZG",
        "colab_type": "text"
      },
      "source": [
        "# O que é um programa?"
      ]
    },
    {
      "cell_type": "markdown",
      "metadata": {
        "id": "-PWZ5LMS8qjd",
        "colab_type": "text"
      },
      "source": [
        "Um **programa** é uma sequência de instruções que especifica como executar uma operação de computação. A operação de computação pode ser algo matemático, como solucionar um sistema de equações ou encontrar as raízes de um polinômio, mas também pode ser uma operação de computação simbólica, como a busca e a substituição de textos em um documento; ou algo gráfico, como o processamento de uma imagem ou a reprodução de um vídeo.\n",
        "\n",
        "Os detalhes parecem diferentes em linguagens diferentes, mas algumas instruções básicas aparecem em quase todas as linguagens:\n",
        "\n",
        "* **entrada**\n",
        " - Receber dados do teclado, de um arquivo, da rede ou de algum outro dispositivo.\n",
        "* **saída**\n",
        "  - Exibir dados na tela, salvá-los em um arquivo, enviá-los pela rede etc.\n",
        "* **matemática**\n",
        "  - Executar operações matemáticas básicas como adição e multiplicação.\n",
        "* **execução condicional**\n",
        "  - Verificar a existência de certas condições e executar o código adequado.\n",
        "* **repetição**\n",
        " - Executar várias vezes alguma ação, normalmente com algumas variações.\n",
        "  \n",
        "Acredite ou não, isto é basicamente tudo o que é preciso saber. Cada programa que você já usou, complicado ou não, é composto de instruções muito parecidas com essas. Podemos então chegar à conclusão de que programar é o processo de quebrar uma tarefa grande e complexa em subtarefas cada vez menores, até que estas sejam simples o suficiente para serem executadas por uma dessas instruções básicas."
      ]
    },
    {
      "cell_type": "markdown",
      "metadata": {
        "id": "OlVe5HmVHd1c",
        "colab_type": "text"
      },
      "source": [
        "![Diagrama](https://github.com/avellar1975/python/blob/master/iniciante/diagrama_01.png?raw=true)"
      ]
    },
    {
      "cell_type": "markdown",
      "metadata": {
        "id": "3MnQeI1HLdZY",
        "colab_type": "text"
      },
      "source": [
        "![Diagrama expandido](https://github.com/avellar1975/python/blob/master/iniciante/diagrama_02.png?raw=true)"
      ]
    },
    {
      "cell_type": "markdown",
      "metadata": {
        "id": "fLwp61Ced2X3",
        "colab_type": "text"
      },
      "source": [
        "Receita de bolo"
      ]
    },
    {
      "cell_type": "code",
      "metadata": {
        "id": "0-lVWgIRuhUY",
        "colab_type": "code",
        "outputId": "8a75bdd7-44ea-4b87-96ea-a2c782addf4e",
        "colab": {
          "base_uri": "https://localhost:8080/",
          "height": 158
        }
      },
      "source": [
        "\"\"\"\n",
        "Programa Conceitual.\n",
        "\n",
        "Autor: Evandro Avellar\n",
        "\"\"\"\n",
        "# -- Entrada -------------------------------------------------------------------\n",
        "# Pode ser digitado, leitura de um arquivo batch, interface on-line...\n",
        "num_01 = int(input('Digite um número: '))\n",
        "num_02 = int(input('Digite outro número: '))\n",
        "\n",
        "\n",
        "# -- Processamento -------------------------------------------------------------\n",
        "# ---- Operações matemática ------------\n",
        "\n",
        "produto = num_01 * num_02\n",
        "\n",
        "# ---- Execução Condicional ------------\n",
        "\n",
        "if produto % 2 == 0:   # % - Resto da divisão\n",
        "  par_impar = 'par'\n",
        "else:\n",
        "  par_impar = 'impar'\n",
        "\n",
        "# ---- Repetição -----------------------\n",
        "# Repetição\n",
        "multiplos = [] # Uma lista vazia\n",
        "\n",
        "for i in range(11):\n",
        "  multiplos.append(i * produto)\n",
        "\n",
        "# -- Saída --------------------------------------------------------------------\n",
        "# Pode ser um arquivo, uma saída na tela, uma interface on-line ...\n",
        "print()\n",
        "print('*'*79)\n",
        "print('Saída:')\n",
        "print(f'Números escolhidos: {num_01} e {num_02}.')\n",
        "print(f'O produtos dos números foi {produto}, que é um número {par_impar}.')\n",
        "print(f'Lista de múltiplos de {produto}: {multiplos}.')"
      ],
      "execution_count": 0,
      "outputs": [
        {
          "output_type": "stream",
          "text": [
            "Digite um número: 5\n",
            "Digite outro número: 6\n",
            "\n",
            "*******************************************************************************\n",
            "Saída:\n",
            "Números escolhidos: 5 e 6.\n",
            "O produtos dos números foi 30, que é um número par.\n",
            "Lista de múltiplos de 30: [0, 30, 60, 90, 120, 150, 180, 210, 240, 270, 300].\n"
          ],
          "name": "stdout"
        }
      ]
    },
    {
      "cell_type": "markdown",
      "metadata": {
        "id": "06Kp36CYL2rz",
        "colab_type": "text"
      },
      "source": [
        "# Python\n",
        "\n",
        "Python é uma linguagem de programação de **alto nível**, **interpretada**, **de script**, **imperativa**, **orientada a objetos**, **funcional** (e por isso multi-paradigma), de **tipagem dinâmica e forte**. Foi lançada por Guido van Rossum em 1991.Atualmente possui um modelo de desenvolvimento comunitário, aberto e gerenciado pela organização sem fins lucrativos Python Software Foundation."
      ]
    },
    {
      "cell_type": "markdown",
      "metadata": {
        "id": "HyQ8nowBvUrL",
        "colab_type": "text"
      },
      "source": [
        "## Linguagem de Alto Nível - Nível de abstração\n",
        "(mais distantes da linguagem de máquina)"
      ]
    },
    {
      "cell_type": "markdown",
      "metadata": {
        "id": "q2c4F-pIwBvg",
        "colab_type": "text"
      },
      "source": [
        "### Assembly (baixo nível)\n",
        "(mais próxima de linguagem de máquina)\n",
        "\n",
        "```\n",
        "section     .text\n",
        "global      _start\n",
        "\n",
        "_start:\n",
        "\n",
        "    mov     edx,len\n",
        "    mov     ecx,msg\n",
        "    mov     ebx,1\n",
        "    mov     eax,4\n",
        "    int     0x80\n",
        "\n",
        "    mov     eax,1\n",
        "    int     0x80\n",
        "\n",
        "section     .data\n",
        "\n",
        "msg     db  'Olá mundo!',0xa \n",
        "len     equ $ - msg\n",
        "```\n",
        "\n"
      ]
    },
    {
      "cell_type": "markdown",
      "metadata": {
        "id": "lYp3LAsLxGZh",
        "colab_type": "text"
      },
      "source": [
        "### Python - Alto nível"
      ]
    },
    {
      "cell_type": "code",
      "metadata": {
        "id": "DZt2ENGEwaQF",
        "colab_type": "code",
        "outputId": "63d8f850-897f-4fd8-8747-91fa88ab7d2c",
        "colab": {
          "base_uri": "https://localhost:8080/",
          "height": 34
        }
      },
      "source": [
        "print('Olá mundo!')"
      ],
      "execution_count": 0,
      "outputs": [
        {
          "output_type": "stream",
          "text": [
            "Olá mundo!\n"
          ],
          "name": "stdout"
        }
      ]
    },
    {
      "cell_type": "markdown",
      "metadata": {
        "id": "eCjqjy4XJ3Br",
        "colab_type": "text"
      },
      "source": [
        "## Compilado x Interpretado"
      ]
    },
    {
      "cell_type": "markdown",
      "metadata": {
        "id": "tonHm0Ig2wDF",
        "colab_type": "text"
      },
      "source": [
        "Aplicações que rodam interpretadas precisam do código fonte enquanto que as compiladas só precisam do código alvo para funcionar.\n",
        "\n",
        "O compilador é o que transforma o código em um programa executável.\n",
        "O interpretador é um programa que executa diretamente os comandos da linguagem.\n"
      ]
    },
    {
      "cell_type": "markdown",
      "metadata": {
        "id": "JimcMOSfIywn",
        "colab_type": "text"
      },
      "source": [
        "## Multiparadigma"
      ]
    },
    {
      "cell_type": "markdown",
      "metadata": {
        "id": "HxfFBt_8yvqM",
        "colab_type": "text"
      },
      "source": [
        "![Linguagens](https://www.robertonovaes.com.br/wp-content/uploads/2019/04/languagesptable.png)"
      ]
    },
    {
      "cell_type": "markdown",
      "metadata": {
        "id": "uBFdK3BZiE2j",
        "colab_type": "text"
      },
      "source": [
        "## Tipagem dinâmica\n",
        "Significa que o próprio interpretador do Python infere o tipo dos dados que uma variável recebe, sem a necessidade que você, o usuário da linguagem diga de que tipo determinada variável é. Exemplo de um script Python:\n",
        "\n"
      ]
    },
    {
      "cell_type": "markdown",
      "metadata": {
        "id": "HVRSA7ywi5F4",
        "colab_type": "text"
      },
      "source": [
        "Ambos os programas acima fazem a mesma coisa, somam 10 e 20 e mostram um resultado na tela, a diferença é que em C os tipos são estáticos então é necessário que o programador diga quais os tipos que i e j receberão como valores aceitáveis."
      ]
    },
    {
      "cell_type": "code",
      "metadata": {
        "id": "7pbcHJ89iOZ8",
        "colab_type": "code",
        "outputId": "d6d17f9f-a92b-406b-e6b4-610be7fd71e8",
        "colab": {
          "base_uri": "https://localhost:8080/",
          "height": 34
        }
      },
      "source": [
        "i, j = 10.5 , 20.5\n",
        "print('resultado é: ', i + j)"
      ],
      "execution_count": 0,
      "outputs": [
        {
          "output_type": "stream",
          "text": [
            "resultado é:  31.0\n"
          ],
          "name": "stdout"
        }
      ]
    },
    {
      "cell_type": "code",
      "metadata": {
        "id": "zvVEswICH6zF",
        "colab_type": "code",
        "outputId": "c37b982a-c091-4688-e690-8a4ee9d83aad",
        "colab": {
          "base_uri": "https://localhost:8080/",
          "height": 34
        }
      },
      "source": [
        "type(i)"
      ],
      "execution_count": 0,
      "outputs": [
        {
          "output_type": "execute_result",
          "data": {
            "text/plain": [
              "float"
            ]
          },
          "metadata": {
            "tags": []
          },
          "execution_count": 10
        }
      ]
    },
    {
      "cell_type": "markdown",
      "metadata": {
        "id": "INnPANMxileG",
        "colab_type": "text"
      },
      "source": [
        "Vamos melhorar esta explicação com um exemplo de tipagem estática, a linguagem C. A linguagem C é estaticamente tipada, isso significa que deveremos sempre determinar qual o tipo de dados uma variável irá receber, exemplo de um programa em C:"
      ]
    },
    {
      "cell_type": "markdown",
      "metadata": {
        "id": "DFTBl70XixM4",
        "colab_type": "text"
      },
      "source": [
        "\n",
        "\n",
        "```\n",
        "#include <stdio.h>\n",
        "\n",
        "int main(){\n",
        "   int i = 10, j = 20;\n",
        "   printf(\"O resultado é: %d\\n\", i+j);\n",
        "}\n",
        "```\n",
        "\n"
      ]
    },
    {
      "cell_type": "markdown",
      "metadata": {
        "id": "ivCFBLuwjhtk",
        "colab_type": "text"
      },
      "source": [
        "## Tipagem Forte"
      ]
    },
    {
      "cell_type": "markdown",
      "metadata": {
        "id": "4dfi2qluk9n0",
        "colab_type": "text"
      },
      "source": [
        " Tipagem forte significa que o interpretador do Python avalia as expressões (evaluate) e não faz coerções automáticas entre tipos não compatíveis (conversões de valores), ou seja:"
      ]
    },
    {
      "cell_type": "code",
      "metadata": {
        "id": "aYEtaThSipd3",
        "colab_type": "code",
        "outputId": "3addfc24-1b18-4374-ed99-698990c22049",
        "colab": {
          "base_uri": "https://localhost:8080/",
          "height": 202
        }
      },
      "source": [
        "i = 'Pedro'\n",
        "j = 6.0\n",
        "i + j"
      ],
      "execution_count": 0,
      "outputs": [
        {
          "output_type": "error",
          "ename": "TypeError",
          "evalue": "ignored",
          "traceback": [
            "\u001b[0;31m---------------------------------------------------------------------------\u001b[0m",
            "\u001b[0;31mTypeError\u001b[0m                                 Traceback (most recent call last)",
            "\u001b[0;32m<ipython-input-11-e9c384e52968>\u001b[0m in \u001b[0;36m<module>\u001b[0;34m()\u001b[0m\n\u001b[1;32m      1\u001b[0m \u001b[0mi\u001b[0m \u001b[0;34m=\u001b[0m \u001b[0;34m'Pedro'\u001b[0m\u001b[0;34m\u001b[0m\u001b[0;34m\u001b[0m\u001b[0m\n\u001b[1;32m      2\u001b[0m \u001b[0mj\u001b[0m \u001b[0;34m=\u001b[0m \u001b[0;36m6.0\u001b[0m\u001b[0;34m\u001b[0m\u001b[0;34m\u001b[0m\u001b[0m\n\u001b[0;32m----> 3\u001b[0;31m \u001b[0mi\u001b[0m \u001b[0;34m+\u001b[0m \u001b[0mj\u001b[0m\u001b[0;34m\u001b[0m\u001b[0;34m\u001b[0m\u001b[0m\n\u001b[0m",
            "\u001b[0;31mTypeError\u001b[0m: must be str, not float"
          ]
        }
      ]
    },
    {
      "cell_type": "markdown",
      "metadata": {
        "id": "FjciYmkFlQcb",
        "colab_type": "text"
      },
      "source": [
        "Agora assim como temos linguagens com tipagem forte, temos também linguagens com **tipagem fraca** como por exemplo Javascript, vejamos o código Javascript a seguir:"
      ]
    },
    {
      "cell_type": "markdown",
      "metadata": {
        "id": "T4-6KGkeo71X",
        "colab_type": "text"
      },
      "source": [
        "![Java Script](https://github.com/avellar1975/python/blob/master/iniciante/note.jpg?raw=true)\n"
      ]
    },
    {
      "cell_type": "markdown",
      "metadata": {
        "id": "CWxvg8Mjqhdb",
        "colab_type": "text"
      },
      "source": [
        "Isso prova que o Javascript diferente do Python converte (faz coerção de tipos) ao executar operações de forma automática, isso faz com que seja uma linguagem de tipagem fraca."
      ]
    },
    {
      "cell_type": "markdown",
      "metadata": {
        "id": "sGRt2cJC3B6P",
        "colab_type": "text"
      },
      "source": [
        "## Qual versão usar?"
      ]
    },
    {
      "cell_type": "code",
      "metadata": {
        "id": "3KYhd9zTMPnv",
        "colab_type": "code",
        "colab": {}
      },
      "source": [
        "!python --version"
      ],
      "execution_count": 0,
      "outputs": []
    },
    {
      "cell_type": "markdown",
      "metadata": {
        "id": "14ehc_WJBjyO",
        "colab_type": "text"
      },
      "source": [
        "## Ferramentas de Trabalho"
      ]
    },
    {
      "cell_type": "markdown",
      "metadata": {
        "id": "SA2xpEtdogL1",
        "colab_type": "text"
      },
      "source": [
        "- Editores de texto: \n",
        " - Atom, Notepad++, etc\n",
        "- IDEs( é um editor de texto com funções extras para programação):\n",
        " - PyCharm, Visual Studio Code, Eclipse, IDLE, etc\n",
        "- Por meio do terminal\n",
        "- Online (sem instalar nada)\n",
        " - Colab Google\n"
      ]
    },
    {
      "cell_type": "markdown",
      "metadata": {
        "id": "Lk2Vh1SwIoJW",
        "colab_type": "text"
      },
      "source": [
        "# Mãos a obra"
      ]
    },
    {
      "cell_type": "code",
      "metadata": {
        "id": "zNIKXZ5T9VeC",
        "colab_type": "code",
        "outputId": "4813814c-f22f-436d-e883-1e601b44a2d8",
        "colab": {
          "base_uri": "https://localhost:8080/",
          "height": 34
        }
      },
      "source": [
        "# Iniciar algumas demonstrações simples:\n",
        "\n",
        "    # operadores aritméticas, parenteses\n",
        "    # comentários\n",
        "    # função type(), id(), str(), int(), float()\n",
        "    # erros\n",
        "\n",
        "'''\n",
        "Caso o programa não esteja de acordo com as regras da linguagem, erros\n",
        "de compilação ocorrerão. Ler e entender estes erros é muito importante.\n",
        "'''\n",
        "\n",
        "# Você sabe dizer qual erro existe neste programa?\n",
        "d = 3.0\n",
        "c = 2.5\n",
        "b = 4\n",
        "d = b + 90\n",
        "e = c * d\n",
        "a = e + 1\n",
        "print(a)"
      ],
      "execution_count": 0,
      "outputs": [
        {
          "output_type": "stream",
          "text": [
            "236.0\n"
          ],
          "name": "stdout"
        }
      ]
    },
    {
      "cell_type": "code",
      "metadata": {
        "id": "vhBJ7xdsYB5B",
        "colab_type": "code",
        "outputId": "0c7e5028-c875-4685-929a-3e3ee678de47",
        "colab": {
          "base_uri": "https://localhost:8080/",
          "height": 34
        }
      },
      "source": [
        "id(a)\n"
      ],
      "execution_count": 0,
      "outputs": [
        {
          "output_type": "execute_result",
          "data": {
            "text/plain": [
              "139693202419480"
            ]
          },
          "metadata": {
            "tags": []
          },
          "execution_count": 11
        }
      ]
    },
    {
      "cell_type": "code",
      "metadata": {
        "id": "iIsc5DUEYIEH",
        "colab_type": "code",
        "outputId": "8f55347d-b80c-4479-ad7e-cac0626830de",
        "colab": {
          "base_uri": "https://localhost:8080/",
          "height": 34
        }
      },
      "source": [
        "b = a\n",
        "id(b)"
      ],
      "execution_count": 0,
      "outputs": [
        {
          "output_type": "execute_result",
          "data": {
            "text/plain": [
              "139693202419480"
            ]
          },
          "metadata": {
            "tags": []
          },
          "execution_count": 13
        }
      ]
    },
    {
      "cell_type": "code",
      "metadata": {
        "id": "6bxQ3btCYQmT",
        "colab_type": "code",
        "outputId": "93ee65b9-2769-4f7d-afa5-7f044416a2d3",
        "colab": {
          "base_uri": "https://localhost:8080/",
          "height": 34
        }
      },
      "source": [
        "variavel = (9 + 10) * 10\n",
        "id(variavel)"
      ],
      "execution_count": 0,
      "outputs": [
        {
          "output_type": "execute_result",
          "data": {
            "text/plain": [
              "10920544"
            ]
          },
          "metadata": {
            "tags": []
          },
          "execution_count": 20
        }
      ]
    },
    {
      "cell_type": "code",
      "metadata": {
        "id": "Ymb3MNW8Yx6j",
        "colab_type": "code",
        "colab": {}
      },
      "source": [
        "variavel = 100\n",
        "id(variavel)\n",
        "del variavel"
      ],
      "execution_count": 0,
      "outputs": []
    },
    {
      "cell_type": "code",
      "metadata": {
        "id": "W23F3JWdY_3P",
        "colab_type": "code",
        "outputId": "c575d7de-d4c9-41a8-bb83-66f49a17a257",
        "colab": {
          "base_uri": "https://localhost:8080/",
          "height": 167
        }
      },
      "source": [
        "variavel"
      ],
      "execution_count": 0,
      "outputs": [
        {
          "output_type": "error",
          "ename": "NameError",
          "evalue": "ignored",
          "traceback": [
            "\u001b[0;31m---------------------------------------------------------------------------\u001b[0m",
            "\u001b[0;31mNameError\u001b[0m                                 Traceback (most recent call last)",
            "\u001b[0;32m<ipython-input-23-7f8ddc9a0888>\u001b[0m in \u001b[0;36m<module>\u001b[0;34m()\u001b[0m\n\u001b[0;32m----> 1\u001b[0;31m \u001b[0mvariavel\u001b[0m\u001b[0;34m\u001b[0m\u001b[0;34m\u001b[0m\u001b[0m\n\u001b[0m",
            "\u001b[0;31mNameError\u001b[0m: name 'variavel' is not defined"
          ]
        }
      ]
    },
    {
      "cell_type": "code",
      "metadata": {
        "id": "DKZmWB-2WMRo",
        "colab_type": "code",
        "outputId": "dd307a8f-58e2-4da5-e3c2-b77e508c4223",
        "colab": {
          "base_uri": "https://localhost:8080/",
          "height": 34
        }
      },
      "source": [
        "nome = 'Evandro'\n",
        "idade = 44\n",
        "temperatura = 19.5\n",
        "print('Meu nome é',nome)"
      ],
      "execution_count": 0,
      "outputs": [
        {
          "output_type": "stream",
          "text": [
            "Meu nome é Evandro\n"
          ],
          "name": "stdout"
        }
      ]
    },
    {
      "cell_type": "code",
      "metadata": {
        "id": "597h89mHZVj1",
        "colab_type": "code",
        "outputId": "a4c43050-fb3c-44b5-c2c4-543b1f66a14c",
        "colab": {
          "base_uri": "https://localhost:8080/",
          "height": 34
        }
      },
      "source": [
        "type(temperatura) # tipo da variável"
      ],
      "execution_count": 0,
      "outputs": [
        {
          "output_type": "execute_result",
          "data": {
            "text/plain": [
              "float"
            ]
          },
          "metadata": {
            "tags": []
          },
          "execution_count": 44
        }
      ]
    },
    {
      "cell_type": "code",
      "metadata": {
        "id": "sBiuAMO7ZsEh",
        "colab_type": "code",
        "outputId": "d4169808-1200-4cbf-8af0-1447f4c741fa",
        "colab": {
          "base_uri": "https://localhost:8080/",
          "height": 167
        }
      },
      "source": [
        "nome + idade"
      ],
      "execution_count": 0,
      "outputs": [
        {
          "output_type": "error",
          "ename": "TypeError",
          "evalue": "ignored",
          "traceback": [
            "\u001b[0;31m---------------------------------------------------------------------------\u001b[0m",
            "\u001b[0;31mTypeError\u001b[0m                                 Traceback (most recent call last)",
            "\u001b[0;32m<ipython-input-34-820cc347d132>\u001b[0m in \u001b[0;36m<module>\u001b[0;34m()\u001b[0m\n\u001b[0;32m----> 1\u001b[0;31m \u001b[0mnome\u001b[0m \u001b[0;34m+\u001b[0m \u001b[0midade\u001b[0m\u001b[0;34m\u001b[0m\u001b[0;34m\u001b[0m\u001b[0m\n\u001b[0m",
            "\u001b[0;31mTypeError\u001b[0m: must be str, not int"
          ]
        }
      ]
    },
    {
      "cell_type": "code",
      "metadata": {
        "id": "gl53C8AXalYL",
        "colab_type": "code",
        "outputId": "cad38231-b146-4dec-941b-c04b6630d9bc",
        "colab": {
          "base_uri": "https://localhost:8080/",
          "height": 34
        }
      },
      "source": [
        "idade = str(idade)\n",
        "nome + idade"
      ],
      "execution_count": 0,
      "outputs": [
        {
          "output_type": "execute_result",
          "data": {
            "text/plain": [
              "'Evandro44'"
            ]
          },
          "metadata": {
            "tags": []
          },
          "execution_count": 35
        }
      ]
    },
    {
      "cell_type": "code",
      "metadata": {
        "id": "oGvmE7QXaryI",
        "colab_type": "code",
        "outputId": "c7f638e8-9239-4027-c016-b0dce1298b5e",
        "colab": {
          "base_uri": "https://localhost:8080/",
          "height": 34
        }
      },
      "source": [
        "temperatura = int(temperatura)\n",
        "temperatura"
      ],
      "execution_count": 0,
      "outputs": [
        {
          "output_type": "execute_result",
          "data": {
            "text/plain": [
              "19"
            ]
          },
          "metadata": {
            "tags": []
          },
          "execution_count": 45
        }
      ]
    },
    {
      "cell_type": "code",
      "metadata": {
        "id": "NmexQqAebEVJ",
        "colab_type": "code",
        "outputId": "8b9f7ff7-b086-4c2f-ba10-0c3729cc9856",
        "colab": {
          "base_uri": "https://localhost:8080/",
          "height": 34
        }
      },
      "source": [
        "type(temperatura)"
      ],
      "execution_count": 0,
      "outputs": [
        {
          "output_type": "execute_result",
          "data": {
            "text/plain": [
              "int"
            ]
          },
          "metadata": {
            "tags": []
          },
          "execution_count": 46
        }
      ]
    },
    {
      "cell_type": "code",
      "metadata": {
        "id": "CCLpDfPFa8ZE",
        "colab_type": "code",
        "outputId": "a5cb319b-4e5f-4dfd-8d5d-af709495e560",
        "colab": {
          "base_uri": "https://localhost:8080/",
          "height": 34
        }
      },
      "source": [
        "temperatura = float(temperatura)\n",
        "temperatura"
      ],
      "execution_count": 0,
      "outputs": [
        {
          "output_type": "execute_result",
          "data": {
            "text/plain": [
              "19.0"
            ]
          },
          "metadata": {
            "tags": []
          },
          "execution_count": 47
        }
      ]
    },
    {
      "cell_type": "markdown",
      "metadata": {
        "id": "39dKEaPMp1yr",
        "colab_type": "text"
      },
      "source": [
        "# Duas funções nativas (internas) para começar"
      ]
    },
    {
      "cell_type": "markdown",
      "metadata": {
        "id": "x6RaBWfM0FRp",
        "colab_type": "text"
      },
      "source": [
        "## Função print( )\n",
        "Para imprimir um texto, utilizamos o comando print.\n"
      ]
    },
    {
      "cell_type": "code",
      "metadata": {
        "id": "bv2khsldpenj",
        "colab_type": "code",
        "outputId": "0d6475cf-91a1-4c42-f972-46254af54772",
        "colab": {
          "base_uri": "https://localhost:8080/",
          "height": 34
        }
      },
      "source": [
        "# Exercio 1\n",
        "\n",
        "print('oi, meu nome é Evandro')\n"
      ],
      "execution_count": 1,
      "outputs": [
        {
          "output_type": "stream",
          "text": [
            "oi, meu nome é Evandro\n"
          ],
          "name": "stdout"
        }
      ]
    },
    {
      "cell_type": "code",
      "metadata": {
        "id": "mcFVjG3Np_4Z",
        "colab_type": "code",
        "outputId": "94abbe60-3b25-4553-a0fd-322f54dceb3d",
        "colab": {
          "base_uri": "https://localhost:8080/",
          "height": 52
        }
      },
      "source": [
        "a = 10\n",
        "b = 20\n",
        "print('a contem o valor',a,', já b contem o valor',b)\n",
        "print('Outra frase qualquer')"
      ],
      "execution_count": 0,
      "outputs": [
        {
          "output_type": "stream",
          "text": [
            "a contem o valor 10 , já b contem o valor 20\n",
            "Outra frase qualquer\n"
          ],
          "name": "stdout"
        }
      ]
    },
    {
      "cell_type": "markdown",
      "metadata": {
        "id": "xoeeO_tsiK71",
        "colab_type": "text"
      },
      "source": [
        "**DESAFIO:** *A função print sempre pula uma linha ao final da impressão. Descubra na internet como usar o print de forma que ele nao mude de linha no final*\n",
        "\n"
      ]
    },
    {
      "cell_type": "markdown",
      "metadata": {
        "id": "fVeqXz7AzsNU",
        "colab_type": "text"
      },
      "source": [
        "### Exercício 1\n",
        " - Faça um programa que escreva 'Olá Mundo!' na tela\n",
        "\n",
        " Salvar num arquivo hello.py e subir na tarefa da plataforma suporte.caixaintegrada.caixa"
      ]
    },
    {
      "cell_type": "code",
      "metadata": {
        "id": "GFn-BXjus3Hg",
        "colab_type": "code",
        "colab": {}
      },
      "source": [
        "# Escrever 'Olá mundo!' na tela"
      ],
      "execution_count": 0,
      "outputs": []
    },
    {
      "cell_type": "code",
      "metadata": {
        "id": "pzTAzhCCEGZt",
        "colab_type": "code",
        "outputId": "692dae03-92b3-4e03-9595-d57c363ac48d",
        "colab": {
          "base_uri": "https://localhost:8080/",
          "height": 34
        }
      },
      "source": [
        "print('Olá mundo! Hoje é sexta!!!! #fiqueemcasa')\n",
        "\n",
        "\n",
        "\n"
      ],
      "execution_count": 0,
      "outputs": [
        {
          "output_type": "stream",
          "text": [
            "Olá mundo! Hoje é sexta!!!! #fiqueemcasa\n"
          ],
          "name": "stdout"
        }
      ]
    },
    {
      "cell_type": "markdown",
      "metadata": {
        "id": "2a5EGr6M0bPe",
        "colab_type": "text"
      },
      "source": [
        "## Função input( )\n",
        "\n",
        "Realiza a leitura de dados a partir do teclado.\n",
        "\n",
        "Aguarda que o usuário digite um valor e atribui o valor digitado à uma variável.\n",
        "\n",
        "Todos os dados lidos são do tipo string. \n",
        "\n",
        "Podemos converter uma string lida do teclado em um número inteiro usando a função int(), por exemplo.\n"
      ]
    },
    {
      "cell_type": "code",
      "metadata": {
        "id": "14jXu8SeqFf8",
        "colab_type": "code",
        "colab": {}
      },
      "source": [
        "# a variável dá um nome ao valor que será digitado, é uma etiqueta"
      ],
      "execution_count": 0,
      "outputs": []
    },
    {
      "cell_type": "code",
      "metadata": {
        "id": "JjQS2XwprxiM",
        "colab_type": "code",
        "outputId": "92d03874-2ccf-45b7-ac3c-928fd1141a5c",
        "colab": {
          "base_uri": "https://localhost:8080/",
          "height": 34
        }
      },
      "source": [
        "meu_nome = input('Qual é o seu nome? ')"
      ],
      "execution_count": 0,
      "outputs": [
        {
          "output_type": "stream",
          "text": [
            "Qual é o seu nome? Evandro\n"
          ],
          "name": "stdout"
        }
      ]
    },
    {
      "cell_type": "code",
      "metadata": {
        "id": "toZAeOI9sfGR",
        "colab_type": "code",
        "outputId": "dac2c132-2311-4b02-c42a-227c0c337b07",
        "colab": {
          "base_uri": "https://localhost:8080/",
          "height": 34
        }
      },
      "source": [
        "meu_nome"
      ],
      "execution_count": 0,
      "outputs": [
        {
          "output_type": "execute_result",
          "data": {
            "text/plain": [
              "'Evandro'"
            ]
          },
          "metadata": {
            "tags": []
          },
          "execution_count": 55
        }
      ]
    },
    {
      "cell_type": "code",
      "metadata": {
        "id": "IHY8_yLVs1Zd",
        "colab_type": "code",
        "outputId": "5758b54a-3e5d-4364-8470-248c99256a83",
        "colab": {
          "base_uri": "https://localhost:8080/",
          "height": 34
        }
      },
      "source": [
        "idade = int(input('Qual é a sua idade?'))"
      ],
      "execution_count": 0,
      "outputs": [
        {
          "output_type": "stream",
          "text": [
            "Qual é a sua idade?44\n"
          ],
          "name": "stdout"
        }
      ]
    },
    {
      "cell_type": "code",
      "metadata": {
        "id": "-zBC8_zEda2H",
        "colab_type": "code",
        "outputId": "d1d56021-96cd-4fdf-aaaa-1fb3576498d0",
        "colab": {
          "base_uri": "https://localhost:8080/",
          "height": 34
        }
      },
      "source": [
        "type(idade)"
      ],
      "execution_count": 0,
      "outputs": [
        {
          "output_type": "execute_result",
          "data": {
            "text/plain": [
              "int"
            ]
          },
          "metadata": {
            "tags": []
          },
          "execution_count": 62
        }
      ]
    },
    {
      "cell_type": "markdown",
      "metadata": {
        "id": "e_j5NpVBuKKg",
        "colab_type": "text"
      },
      "source": [
        "#### Exercício 2\n",
        "- Escreva um programa que lê o nome e idade e escreve na tela:\n"
      ]
    },
    {
      "cell_type": "markdown",
      "metadata": {
        "id": "mFihAaw4u0BL",
        "colab_type": "text"
      },
      "source": [
        "\n",
        "```\n",
        "\"Bem vindo <nome> fico feliz em saber que tem <idade> anos.\n",
        "```\n",
        "\n"
      ]
    },
    {
      "cell_type": "code",
      "metadata": {
        "id": "NJgE_U--0xJy",
        "colab_type": "code",
        "outputId": "9e29a093-073c-40a4-c653-b4ca42362739",
        "colab": {
          "base_uri": "https://localhost:8080/",
          "height": 68
        }
      },
      "source": [
        "nome = input('Digite seu nome: ')\n",
        "idade = input('Digite sua idade: ')\n",
        "\n",
        "print(\"Bem vindo\",nome,\"fico feliz em saber que tem\",idade,\"anos.\")"
      ],
      "execution_count": 3,
      "outputs": [
        {
          "output_type": "stream",
          "text": [
            "Digite seu nome: Evandro\n",
            "Digite sua idade: 44\n",
            "Bem vindo Evandro fico feliz em saber que tem 44 anos.\n"
          ],
          "name": "stdout"
        }
      ]
    },
    {
      "cell_type": "code",
      "metadata": {
        "id": "fH2OXaiGHwLy",
        "colab_type": "code",
        "outputId": "28306e12-7cf3-44f1-d4a5-8752db063b2d",
        "colab": {
          "base_uri": "https://localhost:8080/",
          "height": 34
        }
      },
      "source": [
        "nome='Isabela'\n",
        "idade= 41\n",
        "print(\"Bem vinda\",nome,\" fico feliz em saber que tem \",idade,\" anos.\")"
      ],
      "execution_count": 4,
      "outputs": [
        {
          "output_type": "stream",
          "text": [
            "Bem vinda Isabela  fico feliz em saber que tem  41  anos.\n"
          ],
          "name": "stdout"
        }
      ]
    },
    {
      "cell_type": "markdown",
      "metadata": {
        "id": "o--ldYszovWw",
        "colab_type": "text"
      },
      "source": [
        "# Variáveis não são caixas"
      ]
    },
    {
      "cell_type": "markdown",
      "metadata": {
        "id": "-eg45JMswRtu",
        "colab_type": "text"
      },
      "source": [
        "Em Python, variáveis são referências a objetos.\n",
        "\n",
        "Variáveis são rótulos (ou post-its) que identificam objetos. Objetos existem antes das variáveis.\n",
        "\n",
        "Uma variável é um nome que se refere a um valor. Um comando de atribuição ( = ) cria uma nova variável do lado direito e lhe dá um valor.\n",
        "\n",
        "Cada nome de variáveis deve começar por uma letra ou o símbolo '\\_' (underscore) seguida de letras, números e '_'. \n",
        "\n",
        "Não pode-se utilizar como parte do nome de uma variável: { ( + - * / \\ ; . , ?\n",
        "\n",
        "Atenção, maiúscula é diferente de minúscula. Assim <i>maior</i> e <i>Maior</i> são duas variáveis diferentes."
      ]
    },
    {
      "cell_type": "code",
      "metadata": {
        "id": "dNdkYSxDIfQE",
        "colab_type": "code",
        "outputId": "a587f9ba-c3b1-4353-d90d-14e45be62ee7",
        "colab": {
          "base_uri": "https://localhost:8080/",
          "height": 199
        }
      },
      "source": [
        "Meu_nome = \"Evandro\"\n",
        "\n",
        "print(meu_nome) # Maiúscula é diferente de minúscula."
      ],
      "execution_count": 0,
      "outputs": [
        {
          "output_type": "error",
          "ename": "NameError",
          "evalue": "ignored",
          "traceback": [
            "\u001b[0;31m---------------------------------------------------------------------------\u001b[0m",
            "\u001b[0;31mNameError\u001b[0m                                 Traceback (most recent call last)",
            "\u001b[0;32m<ipython-input-12-594e6e69bdca>\u001b[0m in \u001b[0;36m<module>\u001b[0;34m()\u001b[0m\n\u001b[1;32m      1\u001b[0m \u001b[0mMeu_nome\u001b[0m \u001b[0;34m=\u001b[0m \u001b[0;34m\"Evandro\"\u001b[0m\u001b[0;34m\u001b[0m\u001b[0;34m\u001b[0m\u001b[0m\n\u001b[1;32m      2\u001b[0m \u001b[0;34m\u001b[0m\u001b[0m\n\u001b[0;32m----> 3\u001b[0;31m \u001b[0mprint\u001b[0m\u001b[0;34m(\u001b[0m\u001b[0mmeu_nome\u001b[0m\u001b[0;34m)\u001b[0m\u001b[0;34m\u001b[0m\u001b[0;34m\u001b[0m\u001b[0m\n\u001b[0m",
            "\u001b[0;31mNameError\u001b[0m: name 'meu_nome' is not defined"
          ]
        }
      ]
    },
    {
      "cell_type": "code",
      "metadata": {
        "id": "P4vk3fxYI44O",
        "colab_type": "code",
        "colab": {}
      },
      "source": [
        "name = 'Evandro'\n",
        "idade = 44\n",
        "pi = 3.1416\n",
        "opcao = True\n",
        "complexo = 1.5 + 3j\n"
      ],
      "execution_count": 0,
      "outputs": []
    },
    {
      "cell_type": "code",
      "metadata": {
        "id": "yoWRCOIkJEAY",
        "colab_type": "code",
        "outputId": "91880bdf-ba44-4986-9d53-1f895d6d2457",
        "colab": {
          "base_uri": "https://localhost:8080/",
          "height": 103
        }
      },
      "source": [
        "print(type(name))\n",
        "print(type(idade))\n",
        "print(type(pi))\n",
        "print(type(opcao))\n",
        "print(type(complexo))"
      ],
      "execution_count": 0,
      "outputs": [
        {
          "output_type": "stream",
          "text": [
            "<class 'str'>\n",
            "<class 'int'>\n",
            "<class 'float'>\n",
            "<class 'bool'>\n",
            "<class 'complex'>\n"
          ],
          "name": "stdout"
        }
      ]
    },
    {
      "cell_type": "code",
      "metadata": {
        "id": "zKuomsuGJWCA",
        "colab_type": "code",
        "outputId": "47da649e-e571-4060-a77b-15712e4e89c9",
        "colab": {
          "base_uri": "https://localhost:8080/",
          "height": 34
        }
      },
      "source": [
        "letra = '19'\n",
        "letra = int(letra) # Função int(x) converte x em inteiro\n",
        "type(letra)"
      ],
      "execution_count": 0,
      "outputs": [
        {
          "output_type": "execute_result",
          "data": {
            "text/plain": [
              "int"
            ]
          },
          "metadata": {
            "tags": []
          },
          "execution_count": 21
        }
      ]
    },
    {
      "cell_type": "code",
      "metadata": {
        "id": "7apaeKc8J5eW",
        "colab_type": "code",
        "outputId": "c526d654-9e36-4ef6-93d4-b80ff08bbb61",
        "colab": {
          "base_uri": "https://localhost:8080/",
          "height": 34
        }
      },
      "source": [
        "a = 23 + 90 * 98\n",
        "b = a\n",
        "\n",
        "id(a) # id() mostra o endereço do objeto, ou identificador"
      ],
      "execution_count": 0,
      "outputs": [
        {
          "output_type": "execute_result",
          "data": {
            "text/plain": [
              "140584872234480"
            ]
          },
          "metadata": {
            "tags": []
          },
          "execution_count": 30
        }
      ]
    },
    {
      "cell_type": "code",
      "metadata": {
        "id": "ojnNb1thKGH5",
        "colab_type": "code",
        "outputId": "d65e8f05-9a31-44d1-c98d-f65eb9671224",
        "colab": {
          "base_uri": "https://localhost:8080/",
          "height": 34
        }
      },
      "source": [
        "id(b)"
      ],
      "execution_count": 0,
      "outputs": [
        {
          "output_type": "execute_result",
          "data": {
            "text/plain": [
              "140584872234480"
            ]
          },
          "metadata": {
            "tags": []
          },
          "execution_count": 31
        }
      ]
    },
    {
      "cell_type": "code",
      "metadata": {
        "id": "SQsSRm2_KNXy",
        "colab_type": "code",
        "outputId": "ac227350-4dde-43a6-bf10-13b163dce5d1",
        "colab": {
          "base_uri": "https://localhost:8080/",
          "height": 34
        }
      },
      "source": [
        "b"
      ],
      "execution_count": 0,
      "outputs": [
        {
          "output_type": "execute_result",
          "data": {
            "text/plain": [
              "8843"
            ]
          },
          "metadata": {
            "tags": []
          },
          "execution_count": 26
        }
      ]
    },
    {
      "cell_type": "code",
      "metadata": {
        "id": "IhefHI62KoYQ",
        "colab_type": "code",
        "outputId": "a724fdd3-a331-46b0-97d6-af50f45ab8a5",
        "colab": {
          "base_uri": "https://localhost:8080/",
          "height": 216
        }
      },
      "source": [
        "x = y = z = 0.0\n",
        "x = c\n",
        "y = 7/10\n",
        "y"
      ],
      "execution_count": 0,
      "outputs": [
        {
          "output_type": "error",
          "ename": "NameError",
          "evalue": "ignored",
          "traceback": [
            "\u001b[0;31m---------------------------------------------------------------------------\u001b[0m",
            "\u001b[0;31mNameError\u001b[0m                                 Traceback (most recent call last)",
            "\u001b[0;32m<ipython-input-37-73282038d0ab>\u001b[0m in \u001b[0;36m<module>\u001b[0;34m()\u001b[0m\n\u001b[1;32m      1\u001b[0m \u001b[0mx\u001b[0m \u001b[0;34m=\u001b[0m \u001b[0my\u001b[0m \u001b[0;34m=\u001b[0m \u001b[0mz\u001b[0m \u001b[0;34m=\u001b[0m \u001b[0;36m0.0\u001b[0m\u001b[0;34m\u001b[0m\u001b[0;34m\u001b[0m\u001b[0m\n\u001b[0;32m----> 2\u001b[0;31m \u001b[0mx\u001b[0m \u001b[0;34m=\u001b[0m \u001b[0mc\u001b[0m\u001b[0;34m\u001b[0m\u001b[0;34m\u001b[0m\u001b[0m\n\u001b[0m\u001b[1;32m      3\u001b[0m \u001b[0my\u001b[0m \u001b[0;34m=\u001b[0m \u001b[0;36m7\u001b[0m\u001b[0;34m/\u001b[0m\u001b[0;36m10\u001b[0m\u001b[0;34m\u001b[0m\u001b[0;34m\u001b[0m\u001b[0m\n\u001b[1;32m      4\u001b[0m \u001b[0my\u001b[0m\u001b[0;34m\u001b[0m\u001b[0;34m\u001b[0m\u001b[0m\n",
            "\u001b[0;31mNameError\u001b[0m: name 'c' is not defined"
          ]
        }
      ]
    },
    {
      "cell_type": "code",
      "metadata": {
        "id": "LGJvq4xnun-Q",
        "colab_type": "code",
        "outputId": "c13f8fb4-6381-4ef7-9d41-ed2cf4e06488",
        "colab": {
          "base_uri": "https://localhost:8080/",
          "height": 234
        }
      },
      "source": [
        "d = 3.0\n",
        "c = 2.5\n",
        "b = 4\n",
        "d = b + 90\n",
        "e = c * d\n",
        "a = a + 1\n",
        "print(a)\n",
        "print(e)"
      ],
      "execution_count": 0,
      "outputs": [
        {
          "output_type": "error",
          "ename": "NameError",
          "evalue": "ignored",
          "traceback": [
            "\u001b[0;31m---------------------------------------------------------------------------\u001b[0m",
            "\u001b[0;31mNameError\u001b[0m                                 Traceback (most recent call last)",
            "\u001b[0;32m<ipython-input-40-c747e657c638>\u001b[0m in \u001b[0;36m<module>\u001b[0;34m()\u001b[0m\n\u001b[1;32m      4\u001b[0m \u001b[0md\u001b[0m \u001b[0;34m=\u001b[0m \u001b[0mb\u001b[0m \u001b[0;34m+\u001b[0m \u001b[0;36m90\u001b[0m\u001b[0;34m\u001b[0m\u001b[0;34m\u001b[0m\u001b[0m\n\u001b[1;32m      5\u001b[0m \u001b[0me\u001b[0m \u001b[0;34m=\u001b[0m \u001b[0mc\u001b[0m \u001b[0;34m*\u001b[0m \u001b[0md\u001b[0m\u001b[0;34m\u001b[0m\u001b[0;34m\u001b[0m\u001b[0m\n\u001b[0;32m----> 6\u001b[0;31m \u001b[0ma\u001b[0m \u001b[0;34m=\u001b[0m \u001b[0ma\u001b[0m \u001b[0;34m+\u001b[0m \u001b[0;36m1\u001b[0m\u001b[0;34m\u001b[0m\u001b[0;34m\u001b[0m\u001b[0m\n\u001b[0m\u001b[1;32m      7\u001b[0m \u001b[0mprint\u001b[0m\u001b[0;34m(\u001b[0m\u001b[0ma\u001b[0m\u001b[0;34m)\u001b[0m\u001b[0;34m\u001b[0m\u001b[0;34m\u001b[0m\u001b[0m\n\u001b[1;32m      8\u001b[0m \u001b[0mprint\u001b[0m\u001b[0;34m(\u001b[0m\u001b[0me\u001b[0m\u001b[0;34m)\u001b[0m\u001b[0;34m\u001b[0m\u001b[0;34m\u001b[0m\u001b[0m\n",
            "\u001b[0;31mNameError\u001b[0m: name 'a' is not defined"
          ]
        }
      ]
    },
    {
      "cell_type": "code",
      "metadata": {
        "id": "nX4Ze97OMHot",
        "colab_type": "code",
        "outputId": "fde4cde0-9710-440b-c398-fe1a402a74a9",
        "colab": {
          "base_uri": "https://localhost:8080/",
          "height": 165
        }
      },
      "source": [
        "y = 7/0"
      ],
      "execution_count": 0,
      "outputs": [
        {
          "output_type": "error",
          "ename": "ZeroDivisionError",
          "evalue": "ignored",
          "traceback": [
            "\u001b[0;31m---------------------------------------------------------------------------\u001b[0m",
            "\u001b[0;31mZeroDivisionError\u001b[0m                         Traceback (most recent call last)",
            "\u001b[0;32m<ipython-input-47-da8ddcaa7d1a>\u001b[0m in \u001b[0;36m<module>\u001b[0;34m()\u001b[0m\n\u001b[0;32m----> 1\u001b[0;31m \u001b[0my\u001b[0m \u001b[0;34m=\u001b[0m \u001b[0;36m7\u001b[0m\u001b[0;34m/\u001b[0m\u001b[0;36m0\u001b[0m\u001b[0;34m\u001b[0m\u001b[0;34m\u001b[0m\u001b[0m\n\u001b[0m",
            "\u001b[0;31mZeroDivisionError\u001b[0m: division by zero"
          ]
        }
      ]
    },
    {
      "cell_type": "code",
      "metadata": {
        "id": "Pf7nj-7hI_ru",
        "colab_type": "code",
        "outputId": "94e729c5-c4fa-41fc-8e97-49537d2f1b0e",
        "colab": {
          "base_uri": "https://localhost:8080/",
          "height": 165
        }
      },
      "source": [
        "y"
      ],
      "execution_count": 0,
      "outputs": [
        {
          "output_type": "error",
          "ename": "NameError",
          "evalue": "ignored",
          "traceback": [
            "\u001b[0;31m---------------------------------------------------------------------------\u001b[0m",
            "\u001b[0;31mNameError\u001b[0m                                 Traceback (most recent call last)",
            "\u001b[0;32m<ipython-input-48-9063a9f0e032>\u001b[0m in \u001b[0;36m<module>\u001b[0;34m()\u001b[0m\n\u001b[0;32m----> 1\u001b[0;31m \u001b[0my\u001b[0m\u001b[0;34m\u001b[0m\u001b[0;34m\u001b[0m\u001b[0m\n\u001b[0m",
            "\u001b[0;31mNameError\u001b[0m: name 'y' is not defined"
          ]
        }
      ]
    },
    {
      "cell_type": "code",
      "metadata": {
        "id": "20yuCsfx08e4",
        "colab_type": "code",
        "outputId": "94e28b6e-0203-471a-9c2a-002ecfc5f659",
        "colab": {
          "base_uri": "https://localhost:8080/",
          "height": 34
        }
      },
      "source": [
        "numero  = 8 # inteiros são imutáveis\n",
        "print(numero, id(numero))"
      ],
      "execution_count": 0,
      "outputs": [
        {
          "output_type": "stream",
          "text": [
            "8 10914720\n"
          ],
          "name": "stdout"
        }
      ]
    },
    {
      "cell_type": "code",
      "metadata": {
        "id": "ADEQau7czC3h",
        "colab_type": "code",
        "outputId": "db7ca8c5-78da-4582-9fc3-7e526e517fc6",
        "colab": {
          "base_uri": "https://localhost:8080/",
          "height": 34
        }
      },
      "source": [
        "numero  = 9\n",
        "print(numero, id(numero))"
      ],
      "execution_count": 0,
      "outputs": [
        {
          "output_type": "stream",
          "text": [
            "9 10914752\n"
          ],
          "name": "stdout"
        }
      ]
    },
    {
      "cell_type": "markdown",
      "metadata": {
        "id": "cVxdQ8KBZ5z9",
        "colab_type": "text"
      },
      "source": [
        "**Tipos mutáveis vs. imutáveis - tópico avançado**\n",
        "\n",
        "*Os tipos internos do Python podem ser divididos em duas categorias principais – tipos mutáveis e imutáveis . Mutabilidade é apenas uma maneira sofisticada de especificar se um objeto pode ser modificado depois de ter sido declarado.*"
      ]
    },
    {
      "cell_type": "markdown",
      "metadata": {
        "id": "NyCEO5Mo3g3O",
        "colab_type": "text"
      },
      "source": [
        "# Tudo é objeto\n",
        "\n",
        "*O termo orientação a objetos significa organizar o mundo real como uma coleção de objetos que incorporam estrutura de dados e um conjunto de operações que manipulam estes dados.*\n",
        "\n",
        "Uma classe associa dados (**atributos**) e operações (**métodos**) numa só estrutura. Um objeto é uma instância de uma classe. Ou seja, uma representação da classe. "
      ]
    },
    {
      "cell_type": "markdown",
      "metadata": {
        "id": "kbMIdJJmcaCG",
        "colab_type": "text"
      },
      "source": [
        "![Classe](https://raw.githubusercontent.com/avellar1975/python/master/iniciante/classe_objeto.jpg)"
      ]
    },
    {
      "cell_type": "code",
      "metadata": {
        "id": "aFYYfwNVdZsd",
        "colab_type": "code",
        "colab": {}
      },
      "source": [
        "#implementar a classe Rato (cor, peso, nome), metodos correr, comer, dormir ...\n",
        "# Instanciar os objetos Mickey, Jerry, Stuart Little, Ligeirinho ...\n"
      ],
      "execution_count": 0,
      "outputs": []
    },
    {
      "cell_type": "code",
      "metadata": {
        "id": "lJ2gmmpPyL3-",
        "colab_type": "code",
        "colab": {}
      },
      "source": [
        "class Rato:\n",
        "    def __init__(self, cor, peso, nome):\n",
        "        self.cor = cor\n",
        "        self.peso = peso\n",
        "        self.nome = nome\n",
        "        \n",
        "    def correr(self):\n",
        "        self.peso -= 10\n",
        "        return f'Peso é igual a {self.peso}'\n",
        "\n",
        "    def comer(self):\n",
        "        self.peso += 20\n",
        "        return f'Peso é igual a {self.peso}'\n"
      ],
      "execution_count": 0,
      "outputs": []
    },
    {
      "cell_type": "code",
      "metadata": {
        "id": "IbSFo96dOC39",
        "colab_type": "code",
        "outputId": "89fd43c4-aef1-4aa9-9466-9658f8e04203",
        "colab": {
          "base_uri": "https://localhost:8080/",
          "height": 34
        }
      },
      "source": [
        "mickey = Rato('preto',25, 'Mickey')\n",
        "mickey.cor"
      ],
      "execution_count": 0,
      "outputs": [
        {
          "output_type": "execute_result",
          "data": {
            "text/plain": [
              "'preto'"
            ]
          },
          "metadata": {
            "tags": []
          },
          "execution_count": 54
        }
      ]
    },
    {
      "cell_type": "code",
      "metadata": {
        "id": "Ocr9DFE2OTBl",
        "colab_type": "code",
        "outputId": "850e8c13-fb85-4e4f-e587-a3d7c9da008d",
        "colab": {
          "base_uri": "https://localhost:8080/",
          "height": 34
        }
      },
      "source": [
        "mickey.nome"
      ],
      "execution_count": 0,
      "outputs": [
        {
          "output_type": "execute_result",
          "data": {
            "text/plain": [
              "'Mickey'"
            ]
          },
          "metadata": {
            "tags": []
          },
          "execution_count": 55
        }
      ]
    },
    {
      "cell_type": "code",
      "metadata": {
        "id": "P6t56HAfOWZ_",
        "colab_type": "code",
        "outputId": "52984292-b18e-443e-a30e-c57d7f7dc875",
        "colab": {
          "base_uri": "https://localhost:8080/",
          "height": 34
        }
      },
      "source": [
        "mickey.correr()"
      ],
      "execution_count": 0,
      "outputs": [
        {
          "output_type": "execute_result",
          "data": {
            "text/plain": [
              "'Peso é igual a 15'"
            ]
          },
          "metadata": {
            "tags": []
          },
          "execution_count": 56
        }
      ]
    },
    {
      "cell_type": "code",
      "metadata": {
        "id": "s5eI59g-OdCF",
        "colab_type": "code",
        "outputId": "7a98bd36-7e6a-4635-84e9-549f2b318d3c",
        "colab": {
          "base_uri": "https://localhost:8080/",
          "height": 34
        }
      },
      "source": [
        "mickey.comer()"
      ],
      "execution_count": 0,
      "outputs": [
        {
          "output_type": "execute_result",
          "data": {
            "text/plain": [
              "'Peso é igual a 35'"
            ]
          },
          "metadata": {
            "tags": []
          },
          "execution_count": 57
        }
      ]
    },
    {
      "cell_type": "markdown",
      "metadata": {
        "id": "FNHPVzew8f_w",
        "colab_type": "text"
      },
      "source": [
        "# Operações com números"
      ]
    },
    {
      "cell_type": "markdown",
      "metadata": {
        "id": "0FhYzdie8mW5",
        "colab_type": "text"
      },
      "source": [
        "## +, -, \\*, **, /, //, %"
      ]
    },
    {
      "cell_type": "code",
      "metadata": {
        "id": "Bg159IL18OFb",
        "colab_type": "code",
        "outputId": "55a34f0d-028e-4dcd-b26a-936aab257b8c",
        "colab": {
          "base_uri": "https://localhost:8080/",
          "height": 34
        }
      },
      "source": [
        "8 + 25"
      ],
      "execution_count": 0,
      "outputs": [
        {
          "output_type": "execute_result",
          "data": {
            "text/plain": [
              "33"
            ]
          },
          "metadata": {
            "tags": []
          },
          "execution_count": 58
        }
      ]
    },
    {
      "cell_type": "code",
      "metadata": {
        "id": "1_2P9JC_9HYF",
        "colab_type": "code",
        "outputId": "2f505e68-02f2-4556-8a07-811ddbcc9978",
        "colab": {
          "base_uri": "https://localhost:8080/",
          "height": 34
        }
      },
      "source": [
        "52 - 100"
      ],
      "execution_count": 0,
      "outputs": [
        {
          "output_type": "execute_result",
          "data": {
            "text/plain": [
              "-48"
            ]
          },
          "metadata": {
            "tags": []
          },
          "execution_count": 59
        }
      ]
    },
    {
      "cell_type": "code",
      "metadata": {
        "id": "YRFN4H5i7WVy",
        "colab_type": "code",
        "outputId": "10ccab8f-fa21-476a-f0a1-43a167926142",
        "colab": {
          "base_uri": "https://localhost:8080/",
          "height": 34
        }
      },
      "source": [
        "25 * 69"
      ],
      "execution_count": 0,
      "outputs": [
        {
          "output_type": "execute_result",
          "data": {
            "text/plain": [
              "1725"
            ]
          },
          "metadata": {
            "tags": []
          },
          "execution_count": 60
        }
      ]
    },
    {
      "cell_type": "code",
      "metadata": {
        "id": "NvqPJHPIO1Ai",
        "colab_type": "code",
        "outputId": "6556aae0-821a-4ce8-a500-b121b789fd98",
        "colab": {
          "base_uri": "https://localhost:8080/",
          "height": 34
        }
      },
      "source": [
        "100 / 40"
      ],
      "execution_count": 0,
      "outputs": [
        {
          "output_type": "execute_result",
          "data": {
            "text/plain": [
              "2.5"
            ]
          },
          "metadata": {
            "tags": []
          },
          "execution_count": 66
        }
      ]
    },
    {
      "cell_type": "code",
      "metadata": {
        "id": "YaJaRcKHO4rK",
        "colab_type": "code",
        "outputId": "cb7a94ef-1d23-41e9-a458-f9dfc19e1499",
        "colab": {
          "base_uri": "https://localhost:8080/",
          "height": 34
        }
      },
      "source": [
        "100 % 40 # resto da divisão inteira"
      ],
      "execution_count": 0,
      "outputs": [
        {
          "output_type": "execute_result",
          "data": {
            "text/plain": [
              "20"
            ]
          },
          "metadata": {
            "tags": []
          },
          "execution_count": 64
        }
      ]
    },
    {
      "cell_type": "code",
      "metadata": {
        "id": "5AskMoDBPAin",
        "colab_type": "code",
        "outputId": "fd2776e4-9257-42eb-c7b9-7ec612401c6d",
        "colab": {
          "base_uri": "https://localhost:8080/",
          "height": 34
        }
      },
      "source": [
        "100 // 40 # quociente da divisão inteira"
      ],
      "execution_count": 0,
      "outputs": [
        {
          "output_type": "execute_result",
          "data": {
            "text/plain": [
              "2"
            ]
          },
          "metadata": {
            "tags": []
          },
          "execution_count": 67
        }
      ]
    },
    {
      "cell_type": "code",
      "metadata": {
        "id": "yxRaE6tf9XvQ",
        "colab_type": "code",
        "outputId": "de5015e5-1c8c-4afc-911d-4efebb7c1df0",
        "colab": {
          "base_uri": "https://localhost:8080/",
          "height": 34
        }
      },
      "source": [
        "a = 2e3 # 2 * 10² # representação exponencial de grandes números\n",
        "type(a)\n",
        "a"
      ],
      "execution_count": 0,
      "outputs": [
        {
          "output_type": "execute_result",
          "data": {
            "text/plain": [
              "2000.0"
            ]
          },
          "metadata": {
            "tags": []
          },
          "execution_count": 71
        }
      ]
    },
    {
      "cell_type": "code",
      "metadata": {
        "id": "56hbrJkeZRLb",
        "colab_type": "code",
        "outputId": "ccaf6278-5859-43ee-aa22-4a0c41b00b0f",
        "colab": {
          "base_uri": "https://localhost:8080/",
          "height": 34
        }
      },
      "source": [
        "2**3 # exponenciação"
      ],
      "execution_count": 0,
      "outputs": [
        {
          "output_type": "execute_result",
          "data": {
            "text/plain": [
              "8"
            ]
          },
          "metadata": {
            "tags": []
          },
          "execution_count": 4
        }
      ]
    },
    {
      "cell_type": "markdown",
      "metadata": {
        "id": "dBC5K8fJCk7l",
        "colab_type": "text"
      },
      "source": [
        "# Tipos Booleanos\n",
        "\n",
        "True, False, None e conectivos"
      ]
    },
    {
      "cell_type": "markdown",
      "metadata": {
        "id": "wjS2GjhWDM5o",
        "colab_type": "text"
      },
      "source": [
        "### Operadores LÓGICOS\n",
        "\n",
        "```\n",
        "<, >, <=, >=, ==, !=\n",
        "```\n",
        "\n"
      ]
    },
    {
      "cell_type": "code",
      "metadata": {
        "id": "vLIdJ6hnZekl",
        "colab_type": "code",
        "outputId": "0674bd85-e07f-4dc6-9d7a-7f93f2a18bc3",
        "colab": {
          "base_uri": "https://localhost:8080/",
          "height": 34
        }
      },
      "source": [
        "2 > 3"
      ],
      "execution_count": 0,
      "outputs": [
        {
          "output_type": "execute_result",
          "data": {
            "text/plain": [
              "False"
            ]
          },
          "metadata": {
            "tags": []
          },
          "execution_count": 5
        }
      ]
    },
    {
      "cell_type": "code",
      "metadata": {
        "id": "_6WDqfNDZiDk",
        "colab_type": "code",
        "outputId": "b3fa154f-a9b5-42a4-bd80-703d884d42e8",
        "colab": {
          "base_uri": "https://localhost:8080/",
          "height": 34
        }
      },
      "source": [
        "nome_01 = \"Fausto\"\n",
        "nome_02 = \"Maria\"\n",
        "nome_01 == nome_02"
      ],
      "execution_count": 0,
      "outputs": [
        {
          "output_type": "execute_result",
          "data": {
            "text/plain": [
              "False"
            ]
          },
          "metadata": {
            "tags": []
          },
          "execution_count": 6
        }
      ]
    },
    {
      "cell_type": "code",
      "metadata": {
        "id": "pLDas2fmZxjN",
        "colab_type": "code",
        "outputId": "f6db8afa-937d-4c1a-fe25-ebda6f3b41ac",
        "colab": {
          "base_uri": "https://localhost:8080/",
          "height": 34
        }
      },
      "source": [
        "nome_03 = 'Maria'\n",
        "nome_02 == nome_03"
      ],
      "execution_count": 0,
      "outputs": [
        {
          "output_type": "execute_result",
          "data": {
            "text/plain": [
              "True"
            ]
          },
          "metadata": {
            "tags": []
          },
          "execution_count": 7
        }
      ]
    },
    {
      "cell_type": "code",
      "metadata": {
        "id": "G6erkdt0Z5xp",
        "colab_type": "code",
        "outputId": "f898f1da-e51f-4ed7-919a-7cfc00df81e2",
        "colab": {
          "base_uri": "https://localhost:8080/",
          "height": 34
        }
      },
      "source": [
        "nome_01 = \"Fausto\"\n",
        "nome_02 = \"Maria\"\n",
        "nome_01 != nome_02"
      ],
      "execution_count": 0,
      "outputs": [
        {
          "output_type": "execute_result",
          "data": {
            "text/plain": [
              "True"
            ]
          },
          "metadata": {
            "tags": []
          },
          "execution_count": 8
        }
      ]
    },
    {
      "cell_type": "code",
      "metadata": {
        "id": "znwLroaYaFnZ",
        "colab_type": "code",
        "colab": {}
      },
      "source": [
        "idade_1 = 20\n",
        "idade_2 = 30\n",
        "idade_3 = 40"
      ],
      "execution_count": 0,
      "outputs": []
    },
    {
      "cell_type": "markdown",
      "metadata": {
        "id": "LnrPFM-vbRwd",
        "colab_type": "text"
      },
      "source": [
        "#### Utilização de or, and e not"
      ]
    },
    {
      "cell_type": "code",
      "metadata": {
        "id": "fApKqOc1aLgL",
        "colab_type": "code",
        "outputId": "95cc7dd5-5d96-4572-98ab-391f5f2d4983",
        "colab": {
          "base_uri": "https://localhost:8080/",
          "height": 34
        }
      },
      "source": [
        "idade_1 < idade_2 and idade_2 < 40 # As duas sentenças precisarm ser verdadeiras"
      ],
      "execution_count": 0,
      "outputs": [
        {
          "output_type": "execute_result",
          "data": {
            "text/plain": [
              "True"
            ]
          },
          "metadata": {
            "tags": []
          },
          "execution_count": 11
        }
      ]
    },
    {
      "cell_type": "code",
      "metadata": {
        "id": "LL9pSWroanBZ",
        "colab_type": "code",
        "outputId": "22689d21-1f65-4ccb-ddaa-d39027f79d4d",
        "colab": {
          "base_uri": "https://localhost:8080/",
          "height": 34
        }
      },
      "source": [
        "idade_1 == idade_2 or idade_2 < 40 # Um dass sentenças precisarm ser verdadeiras"
      ],
      "execution_count": 0,
      "outputs": [
        {
          "output_type": "execute_result",
          "data": {
            "text/plain": [
              "True"
            ]
          },
          "metadata": {
            "tags": []
          },
          "execution_count": 12
        }
      ]
    },
    {
      "cell_type": "code",
      "metadata": {
        "id": "NtvOwKOea2JJ",
        "colab_type": "code",
        "outputId": "8fdf8698-ddf7-410c-def8-9eb543fbeb40",
        "colab": {
          "base_uri": "https://localhost:8080/",
          "height": 34
        }
      },
      "source": [
        "idade_1 == idade_2 or idade_2 > 40"
      ],
      "execution_count": 0,
      "outputs": [
        {
          "output_type": "execute_result",
          "data": {
            "text/plain": [
              "False"
            ]
          },
          "metadata": {
            "tags": []
          },
          "execution_count": 13
        }
      ]
    },
    {
      "cell_type": "code",
      "metadata": {
        "id": "bvU0dUxva-j9",
        "colab_type": "code",
        "outputId": "284b1d38-8dc0-45fd-d61a-d7d3ac19b6c9",
        "colab": {
          "base_uri": "https://localhost:8080/",
          "height": 34
        }
      },
      "source": [
        "not True"
      ],
      "execution_count": 0,
      "outputs": [
        {
          "output_type": "execute_result",
          "data": {
            "text/plain": [
              "False"
            ]
          },
          "metadata": {
            "tags": []
          },
          "execution_count": 14
        }
      ]
    },
    {
      "cell_type": "code",
      "metadata": {
        "id": "g5KcWE-ubB-S",
        "colab_type": "code",
        "outputId": "46091cfa-e7cf-4f13-bcf7-96388e3d1ad6",
        "colab": {
          "base_uri": "https://localhost:8080/",
          "height": 34
        }
      },
      "source": [
        "not False"
      ],
      "execution_count": 0,
      "outputs": [
        {
          "output_type": "execute_result",
          "data": {
            "text/plain": [
              "True"
            ]
          },
          "metadata": {
            "tags": []
          },
          "execution_count": 15
        }
      ]
    },
    {
      "cell_type": "code",
      "metadata": {
        "id": "7JDcAJ6WbHzR",
        "colab_type": "code",
        "outputId": "9355a051-2e28-4b2b-86f2-b68cfbe4dd02",
        "colab": {
          "base_uri": "https://localhost:8080/",
          "height": 34
        }
      },
      "source": [
        "not idade_1 == idade_2 or idade_2 > 40 # Inverte o resultado final"
      ],
      "execution_count": 0,
      "outputs": [
        {
          "output_type": "execute_result",
          "data": {
            "text/plain": [
              "True"
            ]
          },
          "metadata": {
            "tags": []
          },
          "execution_count": 17
        }
      ]
    },
    {
      "cell_type": "code",
      "metadata": {
        "id": "qNS07MpvCpo4",
        "colab_type": "code",
        "outputId": "372a377f-a01a-48b2-b146-b80d2bab8286",
        "colab": {
          "base_uri": "https://localhost:8080/",
          "height": 68
        }
      },
      "source": [
        "# O que será impresso pelo programa?\n",
        "print(9 > 3) # True\n",
        "print ((3 * 4) / 2 != (2 * 3)) # False\n",
        "a = 1\n",
        "b = -1\n",
        "print(a != b) # True"
      ],
      "execution_count": 0,
      "outputs": [
        {
          "output_type": "stream",
          "text": [
            "True\n",
            "False\n",
            "True\n"
          ],
          "name": "stdout"
        }
      ]
    },
    {
      "cell_type": "code",
      "metadata": {
        "id": "wMizvf5LcBCq",
        "colab_type": "code",
        "outputId": "f9f487b3-385b-42dc-f1e5-fa4656989edd",
        "colab": {
          "base_uri": "https://localhost:8080/",
          "height": 34
        }
      },
      "source": [
        "x = 0\n",
        "y = 0\n",
        "x <= y"
      ],
      "execution_count": 0,
      "outputs": [
        {
          "output_type": "execute_result",
          "data": {
            "text/plain": [
              "True"
            ]
          },
          "metadata": {
            "tags": []
          },
          "execution_count": 21
        }
      ]
    },
    {
      "cell_type": "markdown",
      "metadata": {
        "id": "mxhRK9L8c2C_",
        "colab_type": "text"
      },
      "source": [
        "# Estrutura de decisão"
      ]
    },
    {
      "cell_type": "code",
      "metadata": {
        "id": "yWCCuFo9G8Ym",
        "colab_type": "code",
        "colab": {}
      },
      "source": [
        "## Blocos por indentação -> while, for, if, elif, else, def ... "
      ],
      "execution_count": 0,
      "outputs": []
    },
    {
      "cell_type": "code",
      "metadata": {
        "id": "CGau1Uf8IfgV",
        "colab_type": "code",
        "outputId": "e30c140c-f898-4c9d-c583-021aa58fb6e5",
        "colab": {
          "base_uri": "https://localhost:8080/",
          "height": 51
        }
      },
      "source": [
        "x = 600\n",
        "y = 60\n",
        "\n",
        "if x == y:\n",
        "    print('Mesmo valor')\n",
        "    print('x é igual a ',x)\n",
        "    print('y é igual a ',y)\n",
        "elif x > y:\n",
        "    print('x é maior que y')\n",
        "else:\n",
        "    print('não sei resolver x e y')\n",
        "    print('Sei sim, o y é maior que x')\n",
        "\n",
        "print('Acabou')"
      ],
      "execution_count": 0,
      "outputs": [
        {
          "output_type": "stream",
          "text": [
            "x é maior que y\n",
            "Acabou\n"
          ],
          "name": "stdout"
        }
      ]
    },
    {
      "cell_type": "markdown",
      "metadata": {
        "id": "s4254JNq75Jp",
        "colab_type": "text"
      },
      "source": [
        "### Exercício Resolvido\n",
        "\n",
        "Crie um programa que lê o numero de segundos (um inteiro) e diz\n",
        "quantos dias, horas, minutos e segundos são essa quantidade de\n",
        "segundos."
      ]
    },
    {
      "cell_type": "code",
      "metadata": {
        "id": "MMLq6otW8GMA",
        "colab_type": "code",
        "outputId": "6c5a206a-afac-43d3-b367-2c98416ab09e",
        "colab": {
          "base_uri": "https://localhost:8080/",
          "height": 51
        }
      },
      "source": [
        "segundos_original = int(input('Digite um número inteiro: '))\n",
        "\n",
        "minutos = segundos_original // 60\n",
        "segundos = segundos_original % 60\n",
        "\n",
        "horas = minutos // 60\n",
        "minutos = minutos % 60\n",
        "\n",
        "dias = horas // 24\n",
        "horas = horas % 24\n",
        "\n",
        "print(segundos_original,'segundos representa',dias,'dias,',horas,'horas,',minutos,'minutos e',segundos,'segundos.')"
      ],
      "execution_count": 0,
      "outputs": [
        {
          "output_type": "stream",
          "text": [
            "Digite um número inteiro: 2592005\n",
            "2592005 segundos representa 30 dias, 0 horas, 0 minutos e 5 segundos.\n"
          ],
          "name": "stdout"
        }
      ]
    },
    {
      "cell_type": "markdown",
      "metadata": {
        "id": "itu7dcvB5B4Y",
        "colab_type": "text"
      },
      "source": [
        "### Exercício 3\n",
        "\n",
        "Faça um programa para uma loja de tintas. O programa deverá pedir o tamanho em metros quadrados da área a ser pintada. Considere que a cobertura da tinta é de 1 litro para cada 3 metros quadrados e que a tinta é vendida em latas de 18 litros, que custam R$ 80,00. Informe ao usuário a quantidades de latas de tinta a serem compradas e o preço total. "
      ]
    },
    {
      "cell_type": "code",
      "metadata": {
        "id": "Y_JzUufSjOVI",
        "colab_type": "code",
        "outputId": "195a344c-53b3-4c68-9d19-1e355c0a6d6b",
        "colab": {
          "base_uri": "https://localhost:8080/",
          "height": 51
        }
      },
      "source": [
        "area = int(input('Digite a area em m²: '))\n",
        "\n",
        "litros = area / 3\n",
        "\n",
        "latas = litros / 18\n",
        "\n",
        "if latas < 1:\n",
        "    latas = 1\n",
        "    \n",
        "print(f'Litros = {litros}, latas = {latas}')"
      ],
      "execution_count": 6,
      "outputs": [
        {
          "output_type": "stream",
          "text": [
            "Digite a area em m²: 20\n",
            "Litros = 6.666666666666667, latas = 1\n"
          ],
          "name": "stdout"
        }
      ]
    },
    {
      "cell_type": "markdown",
      "metadata": {
        "id": "k2XVULpkAvL4",
        "colab_type": "text"
      },
      "source": [
        "### Exercício 4\n",
        "Faça um programa que peça 2 números inteiros e um número float. Calcule e mostre:\n",
        "- O produto do dobro do primeiro com a metade do seguno\n",
        "- A soma o triplo do primeiro com o terceiro\n",
        "- O terceiro elevado ao cubo"
      ]
    },
    {
      "cell_type": "markdown",
      "metadata": {
        "id": "SGMsPznCMDGy",
        "colab_type": "text"
      },
      "source": [
        "# Condições Falsas"
      ]
    },
    {
      "cell_type": "code",
      "metadata": {
        "id": "Z0OHdvTyMPEp",
        "colab_type": "code",
        "colab": {
          "base_uri": "https://localhost:8080/",
          "height": 34
        },
        "outputId": "a9cc694e-cc4a-41ed-995f-54e42301f35d"
      },
      "source": [
        "# False, 0, None\n",
        "\n",
        "if 1:\n",
        "    print('1 é melhor que nada')"
      ],
      "execution_count": 11,
      "outputs": [
        {
          "output_type": "stream",
          "text": [
            "1 é melhor que nada\n"
          ],
          "name": "stdout"
        }
      ]
    },
    {
      "cell_type": "code",
      "metadata": {
        "id": "sZDf47Jc23GR",
        "colab_type": "code",
        "colab": {}
      },
      "source": [
        "if None:\n",
        "    print('Nada será impresso')"
      ],
      "execution_count": 0,
      "outputs": []
    },
    {
      "cell_type": "code",
      "metadata": {
        "id": "pqvxH6y_3EnR",
        "colab_type": "code",
        "colab": {
          "base_uri": "https://localhost:8080/",
          "height": 51
        },
        "outputId": "61104e72-3731-47a5-f0f3-fb7fbb6f99b9"
      },
      "source": [
        "# '', [], {} vazios também são falsos\n",
        "\n",
        "resposta = input('Pergunta 1: ')\n",
        "\n",
        "if resposta:\n",
        "    print('tem alguma coisa aí nesse texto')\n",
        "else:\n",
        "    print('Não respondeu, fala aí')"
      ],
      "execution_count": 15,
      "outputs": [
        {
          "output_type": "stream",
          "text": [
            "Pergunta 1: \n",
            "Não respondeu, fala aí\n"
          ],
          "name": "stdout"
        }
      ]
    },
    {
      "cell_type": "code",
      "metadata": {
        "id": "4C4h9ManLkOi",
        "colab_type": "code",
        "colab": {
          "base_uri": "https://localhost:8080/",
          "height": 51
        },
        "outputId": "e9dab9f8-e49c-411f-98fd-fa8a28c12264"
      },
      "source": [
        "numero = int(input('Digite um  número [0-10]: '))\n",
        "\n",
        "if numero > 8:\n",
        "    print('Um bom número para nota de prova!!!')\n",
        "elif numero > 5 and numero <=8:\n",
        "    print('Sua nota tá mais ou menos')\n",
        "else:\n",
        "    print('Qualquer nota serve quando sua nota é baixa')"
      ],
      "execution_count": 21,
      "outputs": [
        {
          "output_type": "stream",
          "text": [
            "Digite um  número [0-10]: 5\n",
            "Qualquer nota serve quando sua nota é baixa\n"
          ],
          "name": "stdout"
        }
      ]
    },
    {
      "cell_type": "markdown",
      "metadata": {
        "id": "_up5A-406LwG",
        "colab_type": "text"
      },
      "source": [
        "### Exercício 5\n",
        "Faça um programa para a leitura de duas notas parciais de um aluno. O programa deve calcular a média alcançada por aluno e apresentar:\n",
        "- A mensagem \"Aprovado\", se a média for maior ou igual a sete;\n",
        "-  A mensagem \"Reprovado\", se a média for menor que sete;\n",
        "-  A mensagem \"Aprovado com Distinção\", se a média for igual a dez."
      ]
    },
    {
      "cell_type": "code",
      "metadata": {
        "id": "OTrcSZyH7RfC",
        "colab_type": "code",
        "colab": {}
      },
      "source": [
        ""
      ],
      "execution_count": 0,
      "outputs": []
    },
    {
      "cell_type": "markdown",
      "metadata": {
        "id": "vrbc2o7D3poj",
        "colab_type": "text"
      },
      "source": [
        "### Exercício 6\n",
        "\n",
        "- Pedir o preço de 3 produtos e escolher o menor preço"
      ]
    },
    {
      "cell_type": "code",
      "metadata": {
        "id": "fUF7sRFt7SJV",
        "colab_type": "code",
        "colab": {}
      },
      "source": [
        ""
      ],
      "execution_count": 0,
      "outputs": []
    },
    {
      "cell_type": "markdown",
      "metadata": {
        "id": "y-o6tKvT5_RQ",
        "colab_type": "text"
      },
      "source": [
        "# Strings"
      ]
    },
    {
      "cell_type": "code",
      "metadata": {
        "id": "bWbYC9x44S0m",
        "colab_type": "code",
        "colab": {}
      },
      "source": [
        "brian = 'ROMANES EUNT DOMUS' # aspas simples\n",
        "virgilio = \"Omnia tempus habent\" # aspas duplas\n",
        "\n",
        "# multilinhas:\n",
        "horacio = \"\"\"Carpie diem,\n",
        "quam minimum\n",
        "credula postero\"\"\""
      ],
      "execution_count": 0,
      "outputs": []
    },
    {
      "cell_type": "code",
      "metadata": {
        "id": "kvZwhQVs7DxF",
        "colab_type": "code",
        "colab": {
          "base_uri": "https://localhost:8080/",
          "height": 34
        },
        "outputId": "4b415c6a-2296-46ba-cfc8-0db73b4a5a2c"
      },
      "source": [
        "brian"
      ],
      "execution_count": 23,
      "outputs": [
        {
          "output_type": "execute_result",
          "data": {
            "text/plain": [
              "'ROMANES EUNT DOMUS'"
            ]
          },
          "metadata": {
            "tags": []
          },
          "execution_count": 23
        }
      ]
    },
    {
      "cell_type": "code",
      "metadata": {
        "id": "Ol_gBgza7KW8",
        "colab_type": "code",
        "colab": {
          "base_uri": "https://localhost:8080/",
          "height": 68
        },
        "outputId": "3bcd43ab-478c-4d99-c515-53e3e8e4c8bf"
      },
      "source": [
        "print(horacio)"
      ],
      "execution_count": 24,
      "outputs": [
        {
          "output_type": "stream",
          "text": [
            "Carpie diem,\n",
            "quam minimum\n",
            "credula postero\n"
          ],
          "name": "stdout"
        }
      ]
    },
    {
      "cell_type": "code",
      "metadata": {
        "id": "JMYs255L7ima",
        "colab_type": "code",
        "colab": {}
      },
      "source": [
        "frase = 'eu sei \"um pouco\" de programacao'"
      ],
      "execution_count": 0,
      "outputs": []
    },
    {
      "cell_type": "code",
      "metadata": {
        "id": "nZGS6DZM72Hy",
        "colab_type": "code",
        "colab": {
          "base_uri": "https://localhost:8080/",
          "height": 34
        },
        "outputId": "61dd16d2-7eb3-420f-9496-37b14dd3b27d"
      },
      "source": [
        "frase"
      ],
      "execution_count": 26,
      "outputs": [
        {
          "output_type": "execute_result",
          "data": {
            "text/plain": [
              "'eu sei \"um pouco\" de programacao'"
            ]
          },
          "metadata": {
            "tags": []
          },
          "execution_count": 26
        }
      ]
    },
    {
      "cell_type": "code",
      "metadata": {
        "id": "-u-V92EU73A-",
        "colab_type": "code",
        "colab": {
          "base_uri": "https://localhost:8080/",
          "height": 34
        },
        "outputId": "894f5d37-4c3d-4722-ce30-dd926cb0c63a"
      },
      "source": [
        "print(frase)"
      ],
      "execution_count": 27,
      "outputs": [
        {
          "output_type": "stream",
          "text": [
            "eu sei \"um pouco\" de programacao\n"
          ],
          "name": "stdout"
        }
      ]
    },
    {
      "cell_type": "markdown",
      "metadata": {
        "id": "Dnk02RXU7-vN",
        "colab_type": "text"
      },
      "source": [
        "### Concatenação"
      ]
    },
    {
      "cell_type": "code",
      "metadata": {
        "id": "bmWse02474pj",
        "colab_type": "code",
        "colab": {
          "base_uri": "https://localhost:8080/",
          "height": 34
        },
        "outputId": "81174eb4-d4c8-4549-a802-3481eac7f6a8"
      },
      "source": [
        "brian.capitalize()"
      ],
      "execution_count": 28,
      "outputs": [
        {
          "output_type": "execute_result",
          "data": {
            "text/plain": [
              "'Romanes eunt domus'"
            ]
          },
          "metadata": {
            "tags": []
          },
          "execution_count": 28
        }
      ]
    },
    {
      "cell_type": "code",
      "metadata": {
        "id": "XQhRsrUL8FDH",
        "colab_type": "code",
        "colab": {
          "base_uri": "https://localhost:8080/",
          "height": 34
        },
        "outputId": "83f57f3e-dcd7-4c74-84b9-99ebe718e942"
      },
      "source": [
        "brian.lower()"
      ],
      "execution_count": 29,
      "outputs": [
        {
          "output_type": "execute_result",
          "data": {
            "text/plain": [
              "'romanes eunt domus'"
            ]
          },
          "metadata": {
            "tags": []
          },
          "execution_count": 29
        }
      ]
    },
    {
      "cell_type": "code",
      "metadata": {
        "id": "bzmea1E48Jrw",
        "colab_type": "code",
        "colab": {
          "base_uri": "https://localhost:8080/",
          "height": 34
        },
        "outputId": "208b14aa-a3b1-41ef-b49f-443d81ca6211"
      },
      "source": [
        "brian + brian.capitalize()"
      ],
      "execution_count": 30,
      "outputs": [
        {
          "output_type": "execute_result",
          "data": {
            "text/plain": [
              "'ROMANES EUNT DOMUSRomanes eunt domus'"
            ]
          },
          "metadata": {
            "tags": []
          },
          "execution_count": 30
        }
      ]
    },
    {
      "cell_type": "code",
      "metadata": {
        "id": "TJQBWyVVNq4y",
        "colab_type": "code",
        "colab": {
          "base_uri": "https://localhost:8080/",
          "height": 34
        },
        "outputId": "df2bf582-1426-469e-b5b4-ce59edb6f05f"
      },
      "source": [
        "virgilio * 2"
      ],
      "execution_count": 31,
      "outputs": [
        {
          "output_type": "execute_result",
          "data": {
            "text/plain": [
              "'Omnia tempus habentOmnia tempus habent'"
            ]
          },
          "metadata": {
            "tags": []
          },
          "execution_count": 31
        }
      ]
    },
    {
      "cell_type": "code",
      "metadata": {
        "id": "__Fwzhi_NwD2",
        "colab_type": "code",
        "colab": {
          "base_uri": "https://localhost:8080/",
          "height": 51
        },
        "outputId": "576d052b-57ca-4d78-c829-429c9bf65e4d"
      },
      "source": [
        "minha_mensagem = 'Olá Aline, você é muito legal.'\n",
        "outra_mensagem = 'Você tem quantos anos?'\n",
        "print(minha_mensagem + ' ' + outra_mensagem)\n",
        "print('*' * 54)"
      ],
      "execution_count": 35,
      "outputs": [
        {
          "output_type": "stream",
          "text": [
            "Olá Aline, você é muito legal. Você tem quantos anos?\n",
            "******************************************************\n"
          ],
          "name": "stdout"
        }
      ]
    },
    {
      "cell_type": "markdown",
      "metadata": {
        "id": "lN_cDwwp9bOY",
        "colab_type": "text"
      },
      "source": [
        "## Métodos - String"
      ]
    },
    {
      "cell_type": "code",
      "metadata": {
        "id": "cOfT9NyV86L0",
        "colab_type": "code",
        "colab": {
          "base_uri": "https://localhost:8080/",
          "height": 34
        },
        "outputId": "0e3ef2ef-00d1-46d1-868e-69d2804fb437"
      },
      "source": [
        "a = 'Abracadabra'\n",
        "a.count('a')"
      ],
      "execution_count": 36,
      "outputs": [
        {
          "output_type": "execute_result",
          "data": {
            "text/plain": [
              "4"
            ]
          },
          "metadata": {
            "tags": []
          },
          "execution_count": 36
        }
      ]
    },
    {
      "cell_type": "code",
      "metadata": {
        "id": "K_PpRXwA9PPI",
        "colab_type": "code",
        "colab": {
          "base_uri": "https://localhost:8080/",
          "height": 34
        },
        "outputId": "17aa0270-c6ea-40d0-a8c0-ad88332d2820"
      },
      "source": [
        "a.lower()"
      ],
      "execution_count": 37,
      "outputs": [
        {
          "output_type": "execute_result",
          "data": {
            "text/plain": [
              "'abracadabra'"
            ]
          },
          "metadata": {
            "tags": []
          },
          "execution_count": 37
        }
      ]
    },
    {
      "cell_type": "code",
      "metadata": {
        "id": "VIt2ERu39rh7",
        "colab_type": "code",
        "colab": {
          "base_uri": "https://localhost:8080/",
          "height": 34
        },
        "outputId": "7e21da5b-e1a4-44cb-b164-4611bcf7e775"
      },
      "source": [
        "a.index('c')"
      ],
      "execution_count": 38,
      "outputs": [
        {
          "output_type": "execute_result",
          "data": {
            "text/plain": [
              "4"
            ]
          },
          "metadata": {
            "tags": []
          },
          "execution_count": 38
        }
      ]
    },
    {
      "cell_type": "code",
      "metadata": {
        "id": "SmjNhb1l9vRz",
        "colab_type": "code",
        "colab": {
          "base_uri": "https://localhost:8080/",
          "height": 34
        },
        "outputId": "ab8f719d-ec42-4546-cf6a-7f6064502a02"
      },
      "source": [
        "a.replace('a','c')"
      ],
      "execution_count": 39,
      "outputs": [
        {
          "output_type": "execute_result",
          "data": {
            "text/plain": [
              "'Abrcccdcbrc'"
            ]
          },
          "metadata": {
            "tags": []
          },
          "execution_count": 39
        }
      ]
    },
    {
      "cell_type": "code",
      "metadata": {
        "id": "tiSCHgkT9x9d",
        "colab_type": "code",
        "colab": {
          "base_uri": "https://localhost:8080/",
          "height": 34
        },
        "outputId": "bf0710e6-0c46-4be5-d112-755e32e82da5"
      },
      "source": [
        "b = 'nome,email,telefone,endereco'\n",
        "b.split(',') # retorna uma lista"
      ],
      "execution_count": 44,
      "outputs": [
        {
          "output_type": "execute_result",
          "data": {
            "text/plain": [
              "['nome', 'email', 'telefone', 'endereco']"
            ]
          },
          "metadata": {
            "tags": []
          },
          "execution_count": 44
        }
      ]
    },
    {
      "cell_type": "code",
      "metadata": {
        "id": "upC80bIJ91f7",
        "colab_type": "code",
        "colab": {
          "base_uri": "https://localhost:8080/",
          "height": 34
        },
        "outputId": "fa9ae918-54f1-4a8c-fd62-c8e2e94c281d"
      },
      "source": [
        "type(b)"
      ],
      "execution_count": 45,
      "outputs": [
        {
          "output_type": "execute_result",
          "data": {
            "text/plain": [
              "str"
            ]
          },
          "metadata": {
            "tags": []
          },
          "execution_count": 45
        }
      ]
    },
    {
      "cell_type": "code",
      "metadata": {
        "id": "sXUDzGVt97C_",
        "colab_type": "code",
        "colab": {
          "base_uri": "https://localhost:8080/",
          "height": 1000
        },
        "outputId": "070e68e9-448f-4f65-a036-792ae3316b8e"
      },
      "source": [
        "dir(b) # lista os métodos que podem ser usados com o objeto"
      ],
      "execution_count": 46,
      "outputs": [
        {
          "output_type": "execute_result",
          "data": {
            "text/plain": [
              "['__add__',\n",
              " '__class__',\n",
              " '__contains__',\n",
              " '__delattr__',\n",
              " '__dir__',\n",
              " '__doc__',\n",
              " '__eq__',\n",
              " '__format__',\n",
              " '__ge__',\n",
              " '__getattribute__',\n",
              " '__getitem__',\n",
              " '__getnewargs__',\n",
              " '__gt__',\n",
              " '__hash__',\n",
              " '__init__',\n",
              " '__init_subclass__',\n",
              " '__iter__',\n",
              " '__le__',\n",
              " '__len__',\n",
              " '__lt__',\n",
              " '__mod__',\n",
              " '__mul__',\n",
              " '__ne__',\n",
              " '__new__',\n",
              " '__reduce__',\n",
              " '__reduce_ex__',\n",
              " '__repr__',\n",
              " '__rmod__',\n",
              " '__rmul__',\n",
              " '__setattr__',\n",
              " '__sizeof__',\n",
              " '__str__',\n",
              " '__subclasshook__',\n",
              " 'capitalize',\n",
              " 'casefold',\n",
              " 'center',\n",
              " 'count',\n",
              " 'encode',\n",
              " 'endswith',\n",
              " 'expandtabs',\n",
              " 'find',\n",
              " 'format',\n",
              " 'format_map',\n",
              " 'index',\n",
              " 'isalnum',\n",
              " 'isalpha',\n",
              " 'isdecimal',\n",
              " 'isdigit',\n",
              " 'isidentifier',\n",
              " 'islower',\n",
              " 'isnumeric',\n",
              " 'isprintable',\n",
              " 'isspace',\n",
              " 'istitle',\n",
              " 'isupper',\n",
              " 'join',\n",
              " 'ljust',\n",
              " 'lower',\n",
              " 'lstrip',\n",
              " 'maketrans',\n",
              " 'partition',\n",
              " 'replace',\n",
              " 'rfind',\n",
              " 'rindex',\n",
              " 'rjust',\n",
              " 'rpartition',\n",
              " 'rsplit',\n",
              " 'rstrip',\n",
              " 'split',\n",
              " 'splitlines',\n",
              " 'startswith',\n",
              " 'strip',\n",
              " 'swapcase',\n",
              " 'title',\n",
              " 'translate',\n",
              " 'upper',\n",
              " 'zfill']"
            ]
          },
          "metadata": {
            "tags": []
          },
          "execution_count": 46
        }
      ]
    },
    {
      "cell_type": "code",
      "metadata": {
        "id": "SuFO4CAG-BT1",
        "colab_type": "code",
        "colab": {
          "base_uri": "https://localhost:8080/",
          "height": 34
        },
        "outputId": "d1e47fb6-9a87-4f92-ca5f-1b7b01b07f5d"
      },
      "source": [
        "'Evandro Aline Wander Aline'.count('Aline')"
      ],
      "execution_count": 48,
      "outputs": [
        {
          "output_type": "execute_result",
          "data": {
            "text/plain": [
              "2"
            ]
          },
          "metadata": {
            "tags": []
          },
          "execution_count": 48
        }
      ]
    },
    {
      "cell_type": "code",
      "metadata": {
        "id": "AhGAAPZ5-JEi",
        "colab_type": "code",
        "colab": {
          "base_uri": "https://localhost:8080/",
          "height": 34
        },
        "outputId": "ce3a6af5-d573-41b1-eb41-5eb68c399b3b"
      },
      "source": [
        "frase_02 = 'Eu te odeio!'\n",
        "frase_02.replace('odeio', 'adoro')"
      ],
      "execution_count": 49,
      "outputs": [
        {
          "output_type": "execute_result",
          "data": {
            "text/plain": [
              "'Eu te adoro!'"
            ]
          },
          "metadata": {
            "tags": []
          },
          "execution_count": 49
        }
      ]
    },
    {
      "cell_type": "code",
      "metadata": {
        "id": "r3PbhwEZ-USf",
        "colab_type": "code",
        "colab": {
          "base_uri": "https://localhost:8080/",
          "height": 34
        },
        "outputId": "f3f7320f-59f1-4312-ef2f-4baf3a049d70"
      },
      "source": [
        "'z' in frase_02"
      ],
      "execution_count": 50,
      "outputs": [
        {
          "output_type": "execute_result",
          "data": {
            "text/plain": [
              "False"
            ]
          },
          "metadata": {
            "tags": []
          },
          "execution_count": 50
        }
      ]
    },
    {
      "cell_type": "code",
      "metadata": {
        "id": "zmG1-VNG-nGV",
        "colab_type": "code",
        "colab": {
          "base_uri": "https://localhost:8080/",
          "height": 34
        },
        "outputId": "0bb5839a-528b-4d42-ba4e-a10ef80a705b"
      },
      "source": [
        "'Eu' in frase_02"
      ],
      "execution_count": 52,
      "outputs": [
        {
          "output_type": "execute_result",
          "data": {
            "text/plain": [
              "True"
            ]
          },
          "metadata": {
            "tags": []
          },
          "execution_count": 52
        }
      ]
    },
    {
      "cell_type": "code",
      "metadata": {
        "id": "Bli3X1r-_FnX",
        "colab_type": "code",
        "colab": {
          "base_uri": "https://localhost:8080/",
          "height": 34
        },
        "outputId": "12db1208-919e-4ed3-f28b-e17b32be1552"
      },
      "source": [
        "msg = 'Arthur foi fazer um show de blues'\n",
        "\n",
        "if 'show' in msg:\n",
        "    print('Teve show')\n",
        "else:\n",
        "    print('Não teve show')"
      ],
      "execution_count": 53,
      "outputs": [
        {
          "output_type": "stream",
          "text": [
            "Teve show\n"
          ],
          "name": "stdout"
        }
      ]
    },
    {
      "cell_type": "markdown",
      "metadata": {
        "id": "XZBP939nA7NL",
        "colab_type": "text"
      },
      "source": [
        "## Formatação de Strings"
      ]
    },
    {
      "cell_type": "code",
      "metadata": {
        "id": "_uDV1ZcbAul_",
        "colab_type": "code",
        "colab": {
          "base_uri": "https://localhost:8080/",
          "height": 34
        },
        "outputId": "52eed878-2ab1-4ffa-dfd0-3d37d37009f9"
      },
      "source": [
        "nome = 'Andrea'\n",
        "idade = 40\n",
        "\n",
        "# f-string\n",
        "f'Nome: {nome}, Idade: {idade}'"
      ],
      "execution_count": 54,
      "outputs": [
        {
          "output_type": "execute_result",
          "data": {
            "text/plain": [
              "'Nome: Andrea, Idade: 40'"
            ]
          },
          "metadata": {
            "tags": []
          },
          "execution_count": 54
        }
      ]
    },
    {
      "cell_type": "code",
      "metadata": {
        "id": "CvD0W51fBwUv",
        "colab_type": "code",
        "colab": {
          "base_uri": "https://localhost:8080/",
          "height": 34
        },
        "outputId": "f590db46-a63f-4282-f234-00dedf45322a"
      },
      "source": [
        "# str.format() -> método .format() dos objetos da classe string\n",
        "\n",
        "'Nome: {}, Idade: {}'.format(nome, idade)"
      ],
      "execution_count": 55,
      "outputs": [
        {
          "output_type": "execute_result",
          "data": {
            "text/plain": [
              "'Nome: Andrea, Idade: 40'"
            ]
          },
          "metadata": {
            "tags": []
          },
          "execution_count": 55
        }
      ]
    },
    {
      "cell_type": "code",
      "metadata": {
        "id": "Y9sASgFERMZg",
        "colab_type": "code",
        "colab": {
          "base_uri": "https://localhost:8080/",
          "height": 34
        },
        "outputId": "34a5b5d9-2e3a-4fc7-bfcf-3efa15502bfb"
      },
      "source": [
        "print(f'Nome: {nome}, Idade: {idade}')"
      ],
      "execution_count": 56,
      "outputs": [
        {
          "output_type": "stream",
          "text": [
            "Nome: Andrea, Idade: 40\n"
          ],
          "name": "stdout"
        }
      ]
    },
    {
      "cell_type": "markdown",
      "metadata": {
        "id": "UQEzqZ3-CKg8",
        "colab_type": "text"
      },
      "source": [
        "### Exercicio 7\n",
        "Faça um programa que receba uma data de nascimento (15/07/87), neste formato, e imprima: \n",
        "`\"Você nasceu em <dia> de <mes> de <ano>\"`"
      ]
    },
    {
      "cell_type": "code",
      "metadata": {
        "id": "-879zaYmRlhR",
        "colab_type": "code",
        "colab": {
          "base_uri": "https://localhost:8080/",
          "height": 34
        },
        "outputId": "33cd086a-cb5a-478a-de0c-931bc7fcfa69"
      },
      "source": [
        "data = '1987-11-15'\n",
        "ano,mes,dia = data.split('-')\n",
        "print(ano)"
      ],
      "execution_count": 59,
      "outputs": [
        {
          "output_type": "stream",
          "text": [
            "1987\n"
          ],
          "name": "stdout"
        }
      ]
    },
    {
      "cell_type": "markdown",
      "metadata": {
        "id": "fZg1THRPF2oF",
        "colab_type": "text"
      },
      "source": [
        "# Laços de repetição"
      ]
    },
    {
      "cell_type": "code",
      "metadata": {
        "id": "cx1f0UKDFAB3",
        "colab_type": "code",
        "colab": {}
      },
      "source": [
        ""
      ],
      "execution_count": 0,
      "outputs": []
    },
    {
      "cell_type": "code",
      "metadata": {
        "id": "caGMSTfrHBFW",
        "colab_type": "code",
        "colab": {}
      },
      "source": [
        ""
      ],
      "execution_count": 0,
      "outputs": []
    },
    {
      "cell_type": "code",
      "metadata": {
        "id": "SzHwr5AjIcHK",
        "colab_type": "code",
        "colab": {}
      },
      "source": [
        ""
      ],
      "execution_count": 0,
      "outputs": []
    },
    {
      "cell_type": "markdown",
      "metadata": {
        "id": "7-yg_89nOD72",
        "colab_type": "text"
      },
      "source": [
        "### Exercicio 8\n",
        "Peça para o usuário digite uma nota de 1 a 10 e exiba uma mensagem caso o valor seja inválido, solicitando um novo valor"
      ]
    },
    {
      "cell_type": "code",
      "metadata": {
        "id": "INgYza1y88ZA",
        "colab_type": "code",
        "colab": {}
      },
      "source": [
        "   "
      ],
      "execution_count": 0,
      "outputs": []
    },
    {
      "cell_type": "markdown",
      "metadata": {
        "id": "V5-Mwaxg88_b",
        "colab_type": "text"
      },
      "source": [
        "### Exercício 9\n",
        "Faça um programa que leia 5 números e informe o maior número.\n",
        "\n",
        "Utilize estrutura de while, crie uma variavel para guardar o maior valor, iniciando ela com valor = 0"
      ]
    },
    {
      "cell_type": "code",
      "metadata": {
        "id": "fD7n7qEk9D3A",
        "colab_type": "code",
        "colab": {}
      },
      "source": [
        ""
      ],
      "execution_count": 0,
      "outputs": []
    },
    {
      "cell_type": "code",
      "metadata": {
        "id": "GXAq-H_y93vX",
        "colab_type": "code",
        "colab": {}
      },
      "source": [
        ""
      ],
      "execution_count": 0,
      "outputs": []
    },
    {
      "cell_type": "markdown",
      "metadata": {
        "id": "Vh2x6VErOVXj",
        "colab_type": "text"
      },
      "source": [
        "# FOR"
      ]
    },
    {
      "cell_type": "markdown",
      "metadata": {
        "id": "OXNaVZaMOy7V",
        "colab_type": "text"
      },
      "source": [
        "\n",
        "\n",
        "```\n",
        "for elemento in <iterável>\n",
        "  faça algo\n",
        "else:\n",
        "  faça algo\n",
        "  \n",
        "```\n",
        "\n"
      ]
    },
    {
      "cell_type": "code",
      "metadata": {
        "id": "cxXDw7oYNcP0",
        "colab_type": "code",
        "colab": {}
      },
      "source": [
        ""
      ],
      "execution_count": 0,
      "outputs": []
    },
    {
      "cell_type": "code",
      "metadata": {
        "id": "_s2FJ5FUOvAo",
        "colab_type": "code",
        "colab": {}
      },
      "source": [
        ""
      ],
      "execution_count": 0,
      "outputs": []
    },
    {
      "cell_type": "code",
      "metadata": {
        "id": "Sh2JG-uSP962",
        "colab_type": "code",
        "colab": {}
      },
      "source": [
        ""
      ],
      "execution_count": 0,
      "outputs": []
    },
    {
      "cell_type": "code",
      "metadata": {
        "id": "ODuodKPnQfkX",
        "colab_type": "code",
        "colab": {}
      },
      "source": [
        ""
      ],
      "execution_count": 0,
      "outputs": []
    },
    {
      "cell_type": "markdown",
      "metadata": {
        "id": "mw0Rui429Les",
        "colab_type": "text"
      },
      "source": [
        "### Exercício 10\n",
        "Faça um programa que itera em uma string e toda vez que uma vogal aparecer na sua string imprima a palavra 'vogal' entre as letras\n",
        "\n",
        "\n",
        "```\n",
        "string = banana\n",
        "\n",
        "b\n",
        "vogal\n",
        "n\n",
        "vogal\n",
        "...\n",
        "```\n",
        "\n"
      ]
    },
    {
      "cell_type": "markdown",
      "metadata": {
        "id": "MsvfuNO_SzXT",
        "colab_type": "text"
      },
      "source": [
        "# Listas"
      ]
    },
    {
      "cell_type": "code",
      "metadata": {
        "id": "c_hGFyC3SStf",
        "colab_type": "code",
        "colab": {}
      },
      "source": [
        ""
      ],
      "execution_count": 0,
      "outputs": []
    },
    {
      "cell_type": "code",
      "metadata": {
        "id": "MvZl_PscT0ow",
        "colab_type": "code",
        "colab": {}
      },
      "source": [
        ""
      ],
      "execution_count": 0,
      "outputs": []
    },
    {
      "cell_type": "code",
      "metadata": {
        "id": "1psoazHmT-4i",
        "colab_type": "code",
        "colab": {}
      },
      "source": [
        ""
      ],
      "execution_count": 0,
      "outputs": []
    },
    {
      "cell_type": "code",
      "metadata": {
        "id": "IM3iL10CUE0o",
        "colab_type": "code",
        "colab": {}
      },
      "source": [
        ""
      ],
      "execution_count": 0,
      "outputs": []
    },
    {
      "cell_type": "code",
      "metadata": {
        "id": "plXnVLrFUcKY",
        "colab_type": "code",
        "colab": {}
      },
      "source": [
        ""
      ],
      "execution_count": 0,
      "outputs": []
    },
    {
      "cell_type": "code",
      "metadata": {
        "id": "3-xpCgmOUwmM",
        "colab_type": "code",
        "colab": {}
      },
      "source": [
        ""
      ],
      "execution_count": 0,
      "outputs": []
    },
    {
      "cell_type": "code",
      "metadata": {
        "id": "UZsbgXcMU3fd",
        "colab_type": "code",
        "colab": {}
      },
      "source": [
        ""
      ],
      "execution_count": 0,
      "outputs": []
    },
    {
      "cell_type": "code",
      "metadata": {
        "id": "JThOQPjnVED9",
        "colab_type": "code",
        "colab": {}
      },
      "source": [
        ""
      ],
      "execution_count": 0,
      "outputs": []
    },
    {
      "cell_type": "code",
      "metadata": {
        "id": "Lvvk4OxtVG-G",
        "colab_type": "code",
        "colab": {}
      },
      "source": [
        ""
      ],
      "execution_count": 0,
      "outputs": []
    },
    {
      "cell_type": "markdown",
      "metadata": {
        "id": "hjcgW7bV9nPn",
        "colab_type": "text"
      },
      "source": [
        "### Exercício 11\n",
        "Faça um programa que receba uma string, com um número de ponto flutuante, e imprima qual a parte dele que não é inteira\n",
        "\n",
        "\n",
        "```\n",
        "n = '3.14'\n",
        "resposta: 14\n",
        "```\n",
        "\n"
      ]
    },
    {
      "cell_type": "code",
      "metadata": {
        "id": "CicFGvA1aHEu",
        "colab_type": "code",
        "colab": {}
      },
      "source": [
        ""
      ],
      "execution_count": 0,
      "outputs": []
    },
    {
      "cell_type": "markdown",
      "metadata": {
        "id": "hiz0nHRXVeWc",
        "colab_type": "text"
      },
      "source": [
        "## Slice - Listas\n",
        "\n",
        "[\\<de onde inclusive\\>**:**\\<até onde não inclusive\\>**:**\\<passos\\>]"
      ]
    },
    {
      "cell_type": "code",
      "metadata": {
        "id": "92nYzkGQVMXH",
        "colab_type": "code",
        "colab": {}
      },
      "source": [
        ""
      ],
      "execution_count": 0,
      "outputs": []
    },
    {
      "cell_type": "code",
      "metadata": {
        "id": "ImAaRZJKVkjF",
        "colab_type": "code",
        "colab": {}
      },
      "source": [
        ""
      ],
      "execution_count": 0,
      "outputs": []
    },
    {
      "cell_type": "code",
      "metadata": {
        "id": "aFvOvNHzVmNW",
        "colab_type": "code",
        "colab": {}
      },
      "source": [
        ""
      ],
      "execution_count": 0,
      "outputs": []
    },
    {
      "cell_type": "code",
      "metadata": {
        "id": "AGAo-Wo5VoU5",
        "colab_type": "code",
        "colab": {}
      },
      "source": [
        ""
      ],
      "execution_count": 0,
      "outputs": []
    },
    {
      "cell_type": "code",
      "metadata": {
        "id": "uKMWsh26VrMR",
        "colab_type": "code",
        "colab": {}
      },
      "source": [
        ""
      ],
      "execution_count": 0,
      "outputs": []
    },
    {
      "cell_type": "code",
      "metadata": {
        "id": "dmV4eaVhVvBD",
        "colab_type": "code",
        "colab": {}
      },
      "source": [
        ""
      ],
      "execution_count": 0,
      "outputs": []
    },
    {
      "cell_type": "code",
      "metadata": {
        "id": "KPEWGfgzV0Yz",
        "colab_type": "code",
        "colab": {}
      },
      "source": [
        ""
      ],
      "execution_count": 0,
      "outputs": []
    },
    {
      "cell_type": "code",
      "metadata": {
        "id": "FZMn4TCDXTwB",
        "colab_type": "code",
        "colab": {}
      },
      "source": [
        ""
      ],
      "execution_count": 0,
      "outputs": []
    },
    {
      "cell_type": "code",
      "metadata": {
        "id": "VveJO0KcXW6h",
        "colab_type": "code",
        "colab": {}
      },
      "source": [
        ""
      ],
      "execution_count": 0,
      "outputs": []
    },
    {
      "cell_type": "code",
      "metadata": {
        "id": "LlpVi9HeXaXZ",
        "colab_type": "code",
        "colab": {}
      },
      "source": [
        ""
      ],
      "execution_count": 0,
      "outputs": []
    },
    {
      "cell_type": "code",
      "metadata": {
        "id": "kLBGfUEbXeM7",
        "colab_type": "code",
        "colab": {}
      },
      "source": [
        ""
      ],
      "execution_count": 0,
      "outputs": []
    },
    {
      "cell_type": "code",
      "metadata": {
        "id": "r6_u5lwAXh38",
        "colab_type": "code",
        "colab": {}
      },
      "source": [
        ""
      ],
      "execution_count": 0,
      "outputs": []
    },
    {
      "cell_type": "code",
      "metadata": {
        "id": "Xjp2h8udX-hq",
        "colab_type": "code",
        "colab": {}
      },
      "source": [
        ""
      ],
      "execution_count": 0,
      "outputs": []
    },
    {
      "cell_type": "code",
      "metadata": {
        "id": "gj6ve887YQ0G",
        "colab_type": "code",
        "colab": {}
      },
      "source": [
        ""
      ],
      "execution_count": 0,
      "outputs": []
    },
    {
      "cell_type": "code",
      "metadata": {
        "id": "lXYynY5kYZjz",
        "colab_type": "code",
        "colab": {}
      },
      "source": [
        ""
      ],
      "execution_count": 0,
      "outputs": []
    },
    {
      "cell_type": "code",
      "metadata": {
        "id": "ERXaWC17YefA",
        "colab_type": "code",
        "colab": {}
      },
      "source": [
        ""
      ],
      "execution_count": 0,
      "outputs": []
    },
    {
      "cell_type": "markdown",
      "metadata": {
        "id": "xdpF5BhqZrdp",
        "colab_type": "text"
      },
      "source": [
        "## Métodos - Listas"
      ]
    },
    {
      "cell_type": "code",
      "metadata": {
        "id": "J5GxI70fYwwr",
        "colab_type": "code",
        "colab": {}
      },
      "source": [
        ""
      ],
      "execution_count": 0,
      "outputs": []
    },
    {
      "cell_type": "code",
      "metadata": {
        "id": "Cy2GfCoLZzOD",
        "colab_type": "code",
        "colab": {}
      },
      "source": [
        ""
      ],
      "execution_count": 0,
      "outputs": []
    },
    {
      "cell_type": "code",
      "metadata": {
        "id": "2kw4kti8Z1sI",
        "colab_type": "code",
        "colab": {}
      },
      "source": [
        ""
      ],
      "execution_count": 0,
      "outputs": []
    },
    {
      "cell_type": "code",
      "metadata": {
        "id": "xUxkZ1MdaA5a",
        "colab_type": "code",
        "colab": {}
      },
      "source": [
        ""
      ],
      "execution_count": 0,
      "outputs": []
    },
    {
      "cell_type": "code",
      "metadata": {
        "id": "psWBMq52aLo9",
        "colab_type": "code",
        "colab": {}
      },
      "source": [
        ""
      ],
      "execution_count": 0,
      "outputs": []
    },
    {
      "cell_type": "code",
      "metadata": {
        "id": "bhac3NthaRRw",
        "colab_type": "code",
        "colab": {}
      },
      "source": [
        ""
      ],
      "execution_count": 0,
      "outputs": []
    },
    {
      "cell_type": "code",
      "metadata": {
        "id": "oUrTiTzPaULr",
        "colab_type": "code",
        "colab": {}
      },
      "source": [
        ""
      ],
      "execution_count": 0,
      "outputs": []
    },
    {
      "cell_type": "code",
      "metadata": {
        "id": "OqwciaPNaawt",
        "colab_type": "code",
        "colab": {}
      },
      "source": [
        ""
      ],
      "execution_count": 0,
      "outputs": []
    },
    {
      "cell_type": "markdown",
      "metadata": {
        "id": "yrBINqRC-DPN",
        "colab_type": "text"
      },
      "source": [
        "### Exercício 12\n",
        "Faça um programa que: Dada uma lista [1, 2, 3, 4, 5, 6, 7, 8, 9, 10] e um número inteiro, imprima a tabuada desse número."
      ]
    },
    {
      "cell_type": "code",
      "metadata": {
        "id": "12AVWQ5NacW2",
        "colab_type": "code",
        "colab": {}
      },
      "source": [
        ""
      ],
      "execution_count": 0,
      "outputs": []
    },
    {
      "cell_type": "markdown",
      "metadata": {
        "id": "etJPXwxm-WcC",
        "colab_type": "text"
      },
      "source": [
        "### Exercício 13\n",
        "Faça um programa que dada a entrada de uma lista ele faça o cálculo acumulativo da mesma:\n",
        "\n",
        "\n",
        "\n",
        "```\n",
        "Exemplo:\n",
        "Entrada: [1, 2, 3, 4]\n",
        "Saída: [1, 3, 6, 10]\n",
        "```\n",
        "\n"
      ]
    },
    {
      "cell_type": "code",
      "metadata": {
        "id": "ZD0IXEAK-xRN",
        "colab_type": "code",
        "colab": {}
      },
      "source": [
        ""
      ],
      "execution_count": 0,
      "outputs": []
    },
    {
      "cell_type": "markdown",
      "metadata": {
        "id": "6CZr5Qrc-vzY",
        "colab_type": "text"
      },
      "source": [
        "### Exercício 14\n",
        "Faça um programa que dada a entrada de uma lista o programa calcule a combinatória de dois elementos e nos retorne as combinações em uma nova lista.\n",
        "\n",
        "######## Resolver ao vivo\n",
        "\n",
        "```\n",
        "Exemplo de entrada: [1, 2, 3, 4]\n",
        "Exemplo de saída: [[1, 2], [1, 3], [1, 4], [2, 3], [2, 4], [3, 4]]\n",
        "\n",
        "```\n",
        "\n"
      ]
    },
    {
      "cell_type": "code",
      "metadata": {
        "id": "FbMxPHDWguSv",
        "colab_type": "code",
        "colab": {}
      },
      "source": [
        ""
      ],
      "execution_count": 0,
      "outputs": []
    },
    {
      "cell_type": "markdown",
      "metadata": {
        "id": "Xkdayh80CklV",
        "colab_type": "text"
      },
      "source": [
        "# Funções\n",
        "![alt text](https://github.com/avellar1975/python/raw/master/img/funcoes.jpg)\n",
        "\n",
        "- O foco deste curso será nas funções nomeadas com return"
      ]
    },
    {
      "cell_type": "markdown",
      "metadata": {
        "id": "xLcQEEndFgFS",
        "colab_type": "text"
      },
      "source": [
        "## Funções Geradoras (yield)\n",
        "A palavra-chave yield, já é conhecida em outras linguagens, como Python, por exemplo. Na verdade, o comando yield é bastante parecido com o comando return, com a diferença que usando yield, a função continua em execução, ou seja, o valor será retornado e a função continuará executando o restante do código.\n",
        "\n"
      ]
    },
    {
      "cell_type": "code",
      "metadata": {
        "id": "IzXs6arKRgAs",
        "colab_type": "code",
        "colab": {}
      },
      "source": [
        ""
      ],
      "execution_count": 0,
      "outputs": []
    },
    {
      "cell_type": "code",
      "metadata": {
        "id": "kyvot1bCR3TS",
        "colab_type": "code",
        "colab": {}
      },
      "source": [
        ""
      ],
      "execution_count": 0,
      "outputs": []
    },
    {
      "cell_type": "code",
      "metadata": {
        "id": "580qYxz7SD0T",
        "colab_type": "code",
        "colab": {}
      },
      "source": [
        ""
      ],
      "execution_count": 0,
      "outputs": []
    },
    {
      "cell_type": "code",
      "metadata": {
        "id": "nLknUmvwSGf6",
        "colab_type": "code",
        "colab": {}
      },
      "source": [
        ""
      ],
      "execution_count": 0,
      "outputs": []
    },
    {
      "cell_type": "markdown",
      "metadata": {
        "id": "hDQSjPGtT-58",
        "colab_type": "text"
      },
      "source": [
        "## Funções lambda (anônimas)\n",
        "\n",
        "Funções lambda nada mais são do que funções anônimas. Enquanto funções normais podem ser criada utilizando def como prefixo, as funções lambda são criadas utilizando lambda."
      ]
    },
    {
      "cell_type": "code",
      "metadata": {
        "id": "9KqPsp-eUSQf",
        "colab_type": "code",
        "colab": {}
      },
      "source": [
        ""
      ],
      "execution_count": 0,
      "outputs": []
    },
    {
      "cell_type": "code",
      "metadata": {
        "id": "m4S92Ra_UZJF",
        "colab_type": "code",
        "colab": {}
      },
      "source": [
        ""
      ],
      "execution_count": 0,
      "outputs": []
    },
    {
      "cell_type": "markdown",
      "metadata": {
        "id": "pzQIOGxCVHGW",
        "colab_type": "text"
      },
      "source": [
        "## Funções nomeadas (\"normais\")\n",
        "Funções são blocos de códigos que podemos identificá-los por um determinado nome e passar parâmetros predeterminados.\n",
        "\n"
      ]
    },
    {
      "cell_type": "markdown",
      "metadata": {
        "id": "mDwdNMQ2YDLJ",
        "colab_type": "text"
      },
      "source": [
        "\n",
        "\n",
        "```\n",
        "def nome_funcao(parâmetros):\n",
        "    código\n",
        "    código\n",
        "    código\n",
        "    ...\n",
        "    return algo\n",
        "```\n",
        "\n"
      ]
    },
    {
      "cell_type": "code",
      "metadata": {
        "id": "jJbcYyqCnxWO",
        "colab_type": "code",
        "colab": {}
      },
      "source": [
        ""
      ],
      "execution_count": 0,
      "outputs": []
    },
    {
      "cell_type": "code",
      "metadata": {
        "id": "jEuVq9zyorvj",
        "colab_type": "code",
        "colab": {}
      },
      "source": [
        ""
      ],
      "execution_count": 0,
      "outputs": []
    },
    {
      "cell_type": "code",
      "metadata": {
        "id": "BsOTOs0IYMSP",
        "colab_type": "code",
        "colab": {}
      },
      "source": [
        ""
      ],
      "execution_count": 0,
      "outputs": []
    },
    {
      "cell_type": "code",
      "metadata": {
        "id": "iDEzRIyIpbhE",
        "colab_type": "code",
        "colab": {}
      },
      "source": [
        "# como seria uma funcao para calcular a media dos valores de uma lista?"
      ],
      "execution_count": 0,
      "outputs": []
    },
    {
      "cell_type": "code",
      "metadata": {
        "id": "1WmB8TK_sxe1",
        "colab_type": "code",
        "colab": {}
      },
      "source": [
        ""
      ],
      "execution_count": 0,
      "outputs": []
    },
    {
      "cell_type": "code",
      "metadata": {
        "id": "wUqrUukCs7hH",
        "colab_type": "code",
        "colab": {}
      },
      "source": [
        ""
      ],
      "execution_count": 0,
      "outputs": []
    },
    {
      "cell_type": "code",
      "metadata": {
        "id": "j61FFzBitBc6",
        "colab_type": "code",
        "colab": {}
      },
      "source": [
        ""
      ],
      "execution_count": 0,
      "outputs": []
    },
    {
      "cell_type": "markdown",
      "metadata": {
        "id": "TzRtAlWkujN6",
        "colab_type": "text"
      },
      "source": [
        "### *args\n",
        "É usado para passar um lista de argumentos variável sem palavras-chave em forma de tupla, pois a função que o recebe não necessariamente saberá quantos argumentos serão passados."
      ]
    },
    {
      "cell_type": "code",
      "metadata": {
        "id": "rIi863AXuJMA",
        "colab_type": "code",
        "colab": {}
      },
      "source": [
        ""
      ],
      "execution_count": 0,
      "outputs": []
    },
    {
      "cell_type": "markdown",
      "metadata": {
        "id": "zRrfRbWUwFm0",
        "colab_type": "text"
      },
      "source": [
        "### **kwargs\n",
        "Como a abreviação sugere, kwargs significa keyword arguments (argumentos de palavras chave). Ele permite passar um dicionário com inúmeras keys para a função."
      ]
    },
    {
      "cell_type": "code",
      "metadata": {
        "id": "NM9jIzbrwL1j",
        "colab_type": "code",
        "colab": {}
      },
      "source": [
        ""
      ],
      "execution_count": 0,
      "outputs": []
    },
    {
      "cell_type": "code",
      "metadata": {
        "id": "RpI6iexfw3JN",
        "colab_type": "code",
        "colab": {}
      },
      "source": [
        ""
      ],
      "execution_count": 0,
      "outputs": []
    },
    {
      "cell_type": "code",
      "metadata": {
        "id": "nJLmJRRgw-0T",
        "colab_type": "code",
        "colab": {}
      },
      "source": [
        ""
      ],
      "execution_count": 0,
      "outputs": []
    },
    {
      "cell_type": "markdown",
      "metadata": {
        "id": "Br5Qu2Ly2AyK",
        "colab_type": "text"
      },
      "source": [
        "### Exercício 15\n",
        "Faça um programa, com uma função, que calcule a média de uma lista.\n",
        "Funções nativas que pode ajudar:\n",
        "- len(lista) -> calcula o tamanho da lista\n",
        "- sum(lista) -> faz o somatória dos valores\n",
        "\n",
        "\n",
        "\n",
        "```\n",
        "Exemplo de entrada: [1, 3, 4, 6, 11]\n",
        "Exemplo de saída: Média: 5.0\n",
        "```"
      ]
    },
    {
      "cell_type": "markdown",
      "metadata": {
        "id": "FJaHpo6Q2k1p",
        "colab_type": "text"
      },
      "source": [
        "### Exercício 16\n",
        "Faça um programa, com uma função, que calcula a mediana de uma lista.\n",
        "Funções embutidas que podem te ajudar:\n",
        "- sorted(lista) -> ordena a lista\n",
        "\n",
        "\n",
        "\n",
        "```\n",
        "lista = [7, 4, 4, 5, 1, 7, 7, 6]\n",
        "Mediana: 5.5\n",
        "\n",
        "lista = [9, 2, 8, 9, 3, 2, 7]\n",
        "Mediana: 7\n",
        "```\n",
        "\n"
      ]
    },
    {
      "cell_type": "code",
      "metadata": {
        "id": "xLprJZTP2roj",
        "colab_type": "code",
        "colab": {}
      },
      "source": [
        ""
      ],
      "execution_count": 0,
      "outputs": []
    },
    {
      "cell_type": "markdown",
      "metadata": {
        "id": "hmW0jT453ANl",
        "colab_type": "text"
      },
      "source": [
        "\n",
        "### Exercício 17\n",
        "Escreva uma função chamada **ajustar**, que receba uma string chamada s como parâmetro e exiba a string com espaços suficientes à frente para que a última letra da string esteja na coluna 70 da tela:\n",
        "\n",
        "Dica: Use concatenação de strings. Além disso, o Python oferece uma função integrada chamada len, que apresenta o comprimento de uma string, então o valor de len('cepem') é 5."
      ]
    },
    {
      "cell_type": "code",
      "metadata": {
        "id": "Isb6JfZw3FGa",
        "colab_type": "code",
        "colab": {}
      },
      "source": [
        ""
      ],
      "execution_count": 0,
      "outputs": []
    },
    {
      "cell_type": "markdown",
      "metadata": {
        "id": "LGMs76p23Fmr",
        "colab_type": "text"
      },
      "source": [
        "### Exercício 18\n",
        "Faça um programa com uma função chamada somaImposto. A função possui dois parâmetros formais: **taxaImposto**, que é a quantia de imposto sobre vendas expressa em porcentagem e **custo**, que é o custo de um item antes do imposto. A função “altera” o valor de custo para incluir o imposto sobre vendas.\n",
        "\n",
        "\n",
        "\n",
        "```\n",
        "Exemplo: \n",
        "\n",
        "somaImposto(10, 130.00)\n",
        "\n",
        "Saída: 143.00\n",
        "```\n",
        "\n"
      ]
    },
    {
      "cell_type": "code",
      "metadata": {
        "id": "2fTQqip038xC",
        "colab_type": "code",
        "colab": {}
      },
      "source": [
        ""
      ],
      "execution_count": 0,
      "outputs": []
    },
    {
      "cell_type": "markdown",
      "metadata": {
        "id": "u27tAkz539Y6",
        "colab_type": "text"
      },
      "source": [
        "# Tuplas"
      ]
    },
    {
      "cell_type": "markdown",
      "metadata": {
        "id": "TKf8w7sJ4JSk",
        "colab_type": "text"
      },
      "source": [
        "x = (1,2,3)\n",
        "- Elas não são só listas imutáveis"
      ]
    },
    {
      "cell_type": "code",
      "metadata": {
        "id": "Fx5EjokZ4Zix",
        "colab_type": "code",
        "colab": {}
      },
      "source": [
        ""
      ],
      "execution_count": 0,
      "outputs": []
    },
    {
      "cell_type": "code",
      "metadata": {
        "id": "r5wNtqFv4evy",
        "colab_type": "code",
        "colab": {}
      },
      "source": [
        ""
      ],
      "execution_count": 0,
      "outputs": []
    },
    {
      "cell_type": "code",
      "metadata": {
        "id": "Oi15iFcO4kH5",
        "colab_type": "code",
        "colab": {}
      },
      "source": [
        ""
      ],
      "execution_count": 0,
      "outputs": []
    },
    {
      "cell_type": "code",
      "metadata": {
        "id": "Myn5ws3X5Esb",
        "colab_type": "code",
        "colab": {}
      },
      "source": [
        ""
      ],
      "execution_count": 0,
      "outputs": []
    },
    {
      "cell_type": "code",
      "metadata": {
        "id": "pPAkD5YX5NbS",
        "colab_type": "code",
        "colab": {}
      },
      "source": [
        ""
      ],
      "execution_count": 0,
      "outputs": []
    },
    {
      "cell_type": "code",
      "metadata": {
        "id": "EP7EMnZF5myA",
        "colab_type": "code",
        "colab": {}
      },
      "source": [
        ""
      ],
      "execution_count": 0,
      "outputs": []
    },
    {
      "cell_type": "code",
      "metadata": {
        "id": "ejLIub9f5zuD",
        "colab_type": "code",
        "colab": {}
      },
      "source": [
        ""
      ],
      "execution_count": 0,
      "outputs": []
    },
    {
      "cell_type": "code",
      "metadata": {
        "id": "Kb4Q3lN16A5H",
        "colab_type": "code",
        "colab": {}
      },
      "source": [
        ""
      ],
      "execution_count": 0,
      "outputs": []
    },
    {
      "cell_type": "code",
      "metadata": {
        "id": "KWPAEXVe7Orc",
        "colab_type": "code",
        "colab": {}
      },
      "source": [
        ""
      ],
      "execution_count": 0,
      "outputs": []
    },
    {
      "cell_type": "code",
      "metadata": {
        "id": "Sp1J3MN97e92",
        "colab_type": "code",
        "colab": {}
      },
      "source": [
        ""
      ],
      "execution_count": 0,
      "outputs": []
    },
    {
      "cell_type": "markdown",
      "metadata": {
        "id": "UsVRwecP7qoS",
        "colab_type": "text"
      },
      "source": [
        "# Conjuntos\n",
        "\n",
        "![alt text](https://github.com/avellar1975/python/raw/master/img/hashetable.png)"
      ]
    },
    {
      "cell_type": "markdown",
      "metadata": {
        "id": "tOXDrwX88u0Y",
        "colab_type": "text"
      },
      "source": [
        "- Listas e tuplas tem posições\n",
        "- Conjuntos e Dicionários: seus elementos não tem posições\n"
      ]
    },
    {
      "cell_type": "markdown",
      "metadata": {
        "id": "D7qP0Jmw9e4l",
        "colab_type": "text"
      },
      "source": [
        "## Métodos de conjuntos"
      ]
    },
    {
      "cell_type": "code",
      "metadata": {
        "id": "TyWSL53a9iDE",
        "colab_type": "code",
        "colab": {}
      },
      "source": [
        ""
      ],
      "execution_count": 0,
      "outputs": []
    },
    {
      "cell_type": "code",
      "metadata": {
        "id": "2F473sjT9iBb",
        "colab_type": "code",
        "colab": {}
      },
      "source": [
        ""
      ],
      "execution_count": 0,
      "outputs": []
    },
    {
      "cell_type": "code",
      "metadata": {
        "id": "8OWayrja9xDd",
        "colab_type": "code",
        "colab": {}
      },
      "source": [
        ""
      ],
      "execution_count": 0,
      "outputs": []
    },
    {
      "cell_type": "code",
      "metadata": {
        "id": "KlMGiA1690Ke",
        "colab_type": "code",
        "colab": {}
      },
      "source": [
        ""
      ],
      "execution_count": 0,
      "outputs": []
    },
    {
      "cell_type": "code",
      "metadata": {
        "id": "mCl5tKTw97q5",
        "colab_type": "code",
        "colab": {}
      },
      "source": [
        ""
      ],
      "execution_count": 0,
      "outputs": []
    },
    {
      "cell_type": "code",
      "metadata": {
        "id": "KAnNLe4C-DUg",
        "colab_type": "code",
        "colab": {}
      },
      "source": [
        ""
      ],
      "execution_count": 0,
      "outputs": []
    },
    {
      "cell_type": "code",
      "metadata": {
        "id": "wIRACzkX-Jvc",
        "colab_type": "code",
        "colab": {}
      },
      "source": [
        ""
      ],
      "execution_count": 0,
      "outputs": []
    },
    {
      "cell_type": "code",
      "metadata": {
        "id": "fAaw5Xv1-OKd",
        "colab_type": "code",
        "colab": {}
      },
      "source": [
        ""
      ],
      "execution_count": 0,
      "outputs": []
    },
    {
      "cell_type": "code",
      "metadata": {
        "id": "88GO5uSp_Pcq",
        "colab_type": "code",
        "colab": {}
      },
      "source": [
        ""
      ],
      "execution_count": 0,
      "outputs": []
    },
    {
      "cell_type": "code",
      "metadata": {
        "id": "hs876xvj_Pah",
        "colab_type": "code",
        "colab": {}
      },
      "source": [
        ""
      ],
      "execution_count": 0,
      "outputs": []
    },
    {
      "cell_type": "code",
      "metadata": {
        "id": "butJi8eWAs8M",
        "colab_type": "code",
        "colab": {}
      },
      "source": [
        ""
      ],
      "execution_count": 0,
      "outputs": []
    },
    {
      "cell_type": "code",
      "metadata": {
        "id": "OS-c7CpeAs56",
        "colab_type": "code",
        "colab": {}
      },
      "source": [
        ""
      ],
      "execution_count": 0,
      "outputs": []
    },
    {
      "cell_type": "code",
      "metadata": {
        "id": "D6VOIQPQBJY4",
        "colab_type": "code",
        "colab": {}
      },
      "source": [
        ""
      ],
      "execution_count": 0,
      "outputs": []
    },
    {
      "cell_type": "markdown",
      "metadata": {
        "id": "HlKxLpDK-GU6",
        "colab_type": "text"
      },
      "source": [
        "# Dicionários"
      ]
    },
    {
      "cell_type": "code",
      "metadata": {
        "id": "dwRLcqIgB3ii",
        "colab_type": "code",
        "colab": {}
      },
      "source": [
        ""
      ],
      "execution_count": 0,
      "outputs": []
    },
    {
      "cell_type": "code",
      "metadata": {
        "id": "JbizBtbICIZf",
        "colab_type": "code",
        "colab": {}
      },
      "source": [
        ""
      ],
      "execution_count": 0,
      "outputs": []
    },
    {
      "cell_type": "code",
      "metadata": {
        "id": "rjM1c6dWCIXd",
        "colab_type": "code",
        "colab": {}
      },
      "source": [
        ""
      ],
      "execution_count": 0,
      "outputs": []
    },
    {
      "cell_type": "code",
      "metadata": {
        "id": "aXzr8MPQC0DY",
        "colab_type": "code",
        "colab": {}
      },
      "source": [
        ""
      ],
      "execution_count": 0,
      "outputs": []
    },
    {
      "cell_type": "code",
      "metadata": {
        "id": "XAiSBRVcC5BY",
        "colab_type": "code",
        "colab": {}
      },
      "source": [
        ""
      ],
      "execution_count": 0,
      "outputs": []
    },
    {
      "cell_type": "code",
      "metadata": {
        "id": "1mRbfVIiC7_x",
        "colab_type": "code",
        "colab": {}
      },
      "source": [
        ""
      ],
      "execution_count": 0,
      "outputs": []
    },
    {
      "cell_type": "code",
      "metadata": {
        "id": "ng2WKScFDZtG",
        "colab_type": "code",
        "colab": {}
      },
      "source": [
        ""
      ],
      "execution_count": 0,
      "outputs": []
    },
    {
      "cell_type": "code",
      "metadata": {
        "id": "QH3etev6Islb",
        "colab_type": "code",
        "colab": {}
      },
      "source": [
        ""
      ],
      "execution_count": 0,
      "outputs": []
    },
    {
      "cell_type": "code",
      "metadata": {
        "id": "bu2PoUyLI2W6",
        "colab_type": "code",
        "colab": {}
      },
      "source": [
        ""
      ],
      "execution_count": 0,
      "outputs": []
    },
    {
      "cell_type": "code",
      "metadata": {
        "id": "JQMxTiWhI7NJ",
        "colab_type": "code",
        "colab": {}
      },
      "source": [
        ""
      ],
      "execution_count": 0,
      "outputs": []
    },
    {
      "cell_type": "code",
      "metadata": {
        "id": "aB6IDecVI7LU",
        "colab_type": "code",
        "colab": {}
      },
      "source": [
        ""
      ],
      "execution_count": 0,
      "outputs": []
    },
    {
      "cell_type": "code",
      "metadata": {
        "id": "6ZhHfau9JC6h",
        "colab_type": "code",
        "colab": {}
      },
      "source": [
        ""
      ],
      "execution_count": 0,
      "outputs": []
    },
    {
      "cell_type": "code",
      "metadata": {
        "id": "xZGGJ1PnJHhT",
        "colab_type": "code",
        "colab": {}
      },
      "source": [
        ""
      ],
      "execution_count": 0,
      "outputs": []
    },
    {
      "cell_type": "code",
      "metadata": {
        "id": "nAAw3-7UJKr5",
        "colab_type": "code",
        "colab": {}
      },
      "source": [
        ""
      ],
      "execution_count": 0,
      "outputs": []
    },
    {
      "cell_type": "markdown",
      "metadata": {
        "id": "iDjYu4OPJtJI",
        "colab_type": "text"
      },
      "source": [
        "### Exercício 19\n",
        "Dada uma lista de entradas de usuário de números inteiros, construa um\n",
        "dicionário com a lista padrão, a lista dos valores elevados ao quadrado e a lista\n",
        "dos valores elevados ao cubo\n",
        "\n",
        "\n",
        "\n",
        "```\n",
        "Fala um número aí:   1\n",
        "Fala um número aí:   2\n",
        "Fala um número aí:   3\n",
        "Fala um número aí:   4\n",
        "Fala um número aí:   5\n",
        "Fala um número aí:   6\n",
        "Fala um número aí:   7\n",
        "Fala um número aí:   8\n",
        "Fala um número aí:   9\n",
        "Fala um número aí:   10\n",
        "{'lista padrão': [1, 2, 3, 4, 5, 6, 7, 8, 9, 10], 'lista quadrada': [1, 4, 9, 16, 25, 36, 49, 64, 81, 100], 'lista cúbica': [1, 8, 27, 64, 125, 216, 343, 512, 729, 1000]}\n",
        "```\n",
        "\n"
      ]
    },
    {
      "cell_type": "markdown",
      "metadata": {
        "id": "dwbJiAYXJd4U",
        "colab_type": "text"
      },
      "source": [
        "### Exercício 20\n",
        "Crie um programa que simule o funcionamento de um caixa eletrônico. No início, pergunte ao usuário qual será o valor a ser sacado (número inteiro) e o programa vai informar quantas cédulas de cada valor serão entregues.\n",
        "\n",
        "Considere que o ATM possui notas de R\\$50, R\\$20, R\\$10 e R\\$1\n",
        "\n",
        "Deve ser dispensado o menor número de cédulas possíveis.\n",
        "\n",
        "\n",
        "```\n",
        "========================================\n",
        "   CAIXA ECONOMICA FEDERAL\n",
        "========================================\n",
        "Que valor você quer sacar? R$120\n",
        "Total de 2 de R$50.00\n",
        "Total de 1 de R$20.00\n",
        "========================================\n",
        "Volte sempre à CAIXA! Tenha um bom dia.\n",
        "```\n",
        "\n",
        "\n",
        "\n",
        "\n",
        "```\n",
        "========================================\n",
        "   CAIXA ECONOMICA FEDERAL\n",
        "========================================\n",
        "Que valor você quer sacar? R$136\n",
        "Total de 2 de R$50.00\n",
        "Total de 1 de R$20.00\n",
        "Total de 1 de R$10.00\n",
        "Total de 6 de R$ 1.00\n",
        "========================================\n",
        "Volte sempre à CAIXA! Tenha um bom dia.\n",
        "```\n",
        "\n"
      ]
    },
    {
      "cell_type": "code",
      "metadata": {
        "id": "gpS2ht8TbCAh",
        "colab_type": "code",
        "colab": {}
      },
      "source": [
        "caixaeletronico()"
      ],
      "execution_count": 0,
      "outputs": []
    },
    {
      "cell_type": "markdown",
      "metadata": {
        "id": "lfREH23FbcjY",
        "colab_type": "text"
      },
      "source": [
        "\n",
        "\n",
        "---\n",
        "\n",
        "\n",
        "\n",
        "---\n",
        "\n"
      ]
    },
    {
      "cell_type": "markdown",
      "metadata": {
        "id": "WC5ESA21LFT3",
        "colab_type": "text"
      },
      "source": [
        "# Créditos"
      ]
    },
    {
      "cell_type": "markdown",
      "metadata": {
        "id": "uo9wvluB1HGt",
        "colab_type": "text"
      },
      "source": [
        "* Licença: Licença de atribuição Creative Commons (reutilização permitida)\n",
        "* Fontes: \n",
        " * Canal de Eduardo Mendes (https://youtu.be/yTQDbqmv8Ho) \n",
        " * Tradução do livro Pense em Python (2ª ed.), de Allen B. Downey (https://penseallen.github.io/PensePython2e/)"
      ]
    },
    {
      "cell_type": "markdown",
      "metadata": {
        "id": "ckFvOyE-kQrK",
        "colab_type": "text"
      },
      "source": [
        "# Extra"
      ]
    },
    {
      "cell_type": "code",
      "metadata": {
        "id": "r2FvWqPYXN8D",
        "colab_type": "code",
        "colab": {}
      },
      "source": [
        "from datetime import datetime\n",
        "\n",
        "d1 = datetime(1975,11,27)\n",
        "d2 = datetime.now()\n",
        "\n",
        "delta = d2 - d1\n",
        "\n",
        "dias = delta.days\n",
        "anos, dias = dias // 365, dias % 365\n",
        "meses, dias = dias // 30, dias % 30\n",
        "\n",
        "print(f\"Desde {d1.day}/{d1.month}/{d1.year} se passaram {anos} anos, {meses} meses, {dias} dias.\")"
      ],
      "execution_count": 0,
      "outputs": []
    }
  ]
}