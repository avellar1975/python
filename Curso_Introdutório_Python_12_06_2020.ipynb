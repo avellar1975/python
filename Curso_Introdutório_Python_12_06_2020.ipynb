{
  "nbformat": 4,
  "nbformat_minor": 0,
  "metadata": {
    "colab": {
      "name": "Curso Introdutório Python 12-06-2020",
      "provenance": [],
      "collapsed_sections": [],
      "mount_file_id": "1Vb-sg18USAJRSjVDW8LU9z-gOkpDexPs",
      "authorship_tag": "ABX9TyP2KaEi1cfmF9G3R1rr0QjF",
      "include_colab_link": true
    },
    "kernelspec": {
      "name": "python3",
      "display_name": "Python 3"
    }
  },
  "cells": [
    {
      "cell_type": "markdown",
      "metadata": {
        "id": "view-in-github",
        "colab_type": "text"
      },
      "source": [
        "<a href=\"https://colab.research.google.com/github/avellar1975/python/blob/master/Curso_Introdut%C3%B3rio_Python_12_06_2020.ipynb\" target=\"_parent\"><img src=\"https://colab.research.google.com/assets/colab-badge.svg\" alt=\"Open In Colab\"/></a>"
      ]
    },
    {
      "cell_type": "markdown",
      "metadata": {
        "id": "zyhtTrcC8fZG",
        "colab_type": "text"
      },
      "source": [
        "# O que é um programa?"
      ]
    },
    {
      "cell_type": "markdown",
      "metadata": {
        "id": "-PWZ5LMS8qjd",
        "colab_type": "text"
      },
      "source": [
        "Um **programa** é uma sequência de instruções que especifica como executar uma operação de computação. A operação de computação pode ser algo matemático, como solucionar um sistema de equações ou encontrar as raízes de um polinômio, mas também pode ser uma operação de computação simbólica, como a busca e a substituição de textos em um documento; ou algo gráfico, como o processamento de uma imagem ou a reprodução de um vídeo.\n",
        "\n",
        "Os detalhes parecem diferentes em linguagens diferentes, mas algumas instruções básicas aparecem em quase todas as linguagens:\n",
        "\n",
        "* **entrada**\n",
        " - Receber dados do teclado, de um arquivo, da rede ou de algum outro dispositivo.\n",
        "* **saída**\n",
        "  - Exibir dados na tela, salvá-los em um arquivo, enviá-los pela rede etc.\n",
        "* **matemática**\n",
        "  - Executar operações matemáticas básicas como adição e multiplicação.\n",
        "* **execução condicional**\n",
        "  - Verificar a existência de certas condições e executar o código adequado.\n",
        "* **repetição**\n",
        " - Executar várias vezes alguma ação, normalmente com algumas variações.\n",
        "  \n",
        "Acredite ou não, isto é basicamente tudo o que é preciso saber. Cada programa que você já usou, complicado ou não, é composto de instruções muito parecidas com essas. Podemos então chegar à conclusão de que programar é o processo de quebrar uma tarefa grande e complexa em subtarefas cada vez menores, até que estas sejam simples o suficiente para serem executadas por uma dessas instruções básicas."
      ]
    },
    {
      "cell_type": "markdown",
      "metadata": {
        "id": "OlVe5HmVHd1c",
        "colab_type": "text"
      },
      "source": [
        "![Diagrama](https://github.com/avellar1975/python/blob/master/iniciante/diagrama_01.png?raw=true)"
      ]
    },
    {
      "cell_type": "markdown",
      "metadata": {
        "id": "3MnQeI1HLdZY",
        "colab_type": "text"
      },
      "source": [
        "![Diagrama expandido](https://github.com/avellar1975/python/blob/master/iniciante/diagrama_02.png?raw=true)"
      ]
    },
    {
      "cell_type": "markdown",
      "metadata": {
        "id": "fLwp61Ced2X3",
        "colab_type": "text"
      },
      "source": [
        "Receita de bolo"
      ]
    },
    {
      "cell_type": "code",
      "metadata": {
        "id": "0-lVWgIRuhUY",
        "colab_type": "code",
        "outputId": "8185edea-e1de-4c21-8f65-3410786b37d8",
        "colab": {
          "base_uri": "https://localhost:8080/",
          "height": 153
        }
      },
      "source": [
        "\"\"\"\n",
        "Programa Conceitual.\n",
        "\n",
        "Autor: Evandro Avellar\n",
        "\"\"\"\n",
        "# -- Entrada -------------------------------------------------------------------\n",
        "# Pode ser digitado, leitura de um arquivo batch, interface on-line...\n",
        "num_01 = int(input('Digite um número: '))\n",
        "num_02 = int(input('Digite outro número: '))\n",
        "\n",
        "\n",
        "# -- Processamento -------------------------------------------------------------\n",
        "# ---- Operações matemática ------------\n",
        "\n",
        "produto = num_01 * num_02\n",
        "\n",
        "# ---- Execução Condicional ------------\n",
        "\n",
        "if produto % 2 == 0:   # % - Resto da divisão\n",
        "  par_impar = 'par'\n",
        "else:\n",
        "  par_impar = 'impar'\n",
        "\n",
        "# ---- Repetição -----------------------\n",
        "# Repetição\n",
        "multiplos = [] # Uma lista vazia\n",
        "\n",
        "for i in range(11):\n",
        "  multiplos.append(i * produto)\n",
        "\n",
        "# -- Saída --------------------------------------------------------------------\n",
        "# Pode ser um arquivo, uma saída na tela, uma interface on-line ...\n",
        "print()\n",
        "print('*'*79)\n",
        "print('Saída:')\n",
        "print(f'Números escolhidos: {num_01} e {num_02}.')\n",
        "print(f'O produtos dos números foi {produto}, que é um número {par_impar}.')\n",
        "print(f'Lista de múltiplos de {produto}: {multiplos}.')"
      ],
      "execution_count": 0,
      "outputs": [
        {
          "output_type": "stream",
          "text": [
            "Digite um número: 5\n",
            "Digite outro número: 6\n",
            "\n",
            "*******************************************************************************\n",
            "Saída:\n",
            "Números escolhidos: 5 e 6.\n",
            "O produtos dos números foi 30, que é um número par.\n",
            "Lista de múltiplos de 30: [0, 30, 60, 90, 120, 150, 180, 210, 240, 270, 300].\n"
          ],
          "name": "stdout"
        }
      ]
    },
    {
      "cell_type": "markdown",
      "metadata": {
        "id": "06Kp36CYL2rz",
        "colab_type": "text"
      },
      "source": [
        "# Python\n",
        "\n",
        "Python é uma linguagem de programação de **alto nível**, **interpretada**, **de script**, **imperativa**, **orientada a objetos**, **funcional** (e por isso multi-paradigma), de **tipagem dinâmica e forte**. Foi lançada por Guido van Rossum em 1991.Atualmente possui um modelo de desenvolvimento comunitário, aberto e gerenciado pela organização sem fins lucrativos Python Software Foundation."
      ]
    },
    {
      "cell_type": "markdown",
      "metadata": {
        "id": "HyQ8nowBvUrL",
        "colab_type": "text"
      },
      "source": [
        "## Linguagem de Alto Nível - Nível de abstração\n",
        "(mais distantes da linguagem de máquina)"
      ]
    },
    {
      "cell_type": "markdown",
      "metadata": {
        "id": "q2c4F-pIwBvg",
        "colab_type": "text"
      },
      "source": [
        "### Assembly (baixo nível)\n",
        "(mais próxima de linguagem de máquina)\n",
        "\n",
        "```\n",
        "section     .text\n",
        "global      _start\n",
        "\n",
        "_start:\n",
        "\n",
        "    mov     edx,len\n",
        "    mov     ecx,msg\n",
        "    mov     ebx,1\n",
        "    mov     eax,4\n",
        "    int     0x80\n",
        "\n",
        "    mov     eax,1\n",
        "    int     0x80\n",
        "\n",
        "section     .data\n",
        "\n",
        "msg     db  'Olá mundo!',0xa \n",
        "len     equ $ - msg\n",
        "```\n",
        "\n"
      ]
    },
    {
      "cell_type": "markdown",
      "metadata": {
        "id": "lYp3LAsLxGZh",
        "colab_type": "text"
      },
      "source": [
        "### Python - Alto nível"
      ]
    },
    {
      "cell_type": "code",
      "metadata": {
        "id": "DZt2ENGEwaQF",
        "colab_type": "code",
        "outputId": "e5771a56-6fff-4f1f-a139-3105f07e6eda",
        "colab": {
          "base_uri": "https://localhost:8080/",
          "height": 34
        }
      },
      "source": [
        "print('Olá mundo!')"
      ],
      "execution_count": 0,
      "outputs": [
        {
          "output_type": "stream",
          "text": [
            "Olá mundo!\n"
          ],
          "name": "stdout"
        }
      ]
    },
    {
      "cell_type": "markdown",
      "metadata": {
        "id": "eCjqjy4XJ3Br",
        "colab_type": "text"
      },
      "source": [
        "## Compilado x Interpretado"
      ]
    },
    {
      "cell_type": "markdown",
      "metadata": {
        "id": "tonHm0Ig2wDF",
        "colab_type": "text"
      },
      "source": [
        "Aplicações que rodam interpretadas precisam do código fonte enquanto que as compiladas só precisam do código alvo para funcionar.\n",
        "\n",
        "O compilador é o que transforma o código em um programa executável.\n",
        "O interpretador é um programa que executa diretamente os comandos da linguagem.\n"
      ]
    },
    {
      "cell_type": "markdown",
      "metadata": {
        "id": "JimcMOSfIywn",
        "colab_type": "text"
      },
      "source": [
        "## Multiparadigma"
      ]
    },
    {
      "cell_type": "markdown",
      "metadata": {
        "id": "HxfFBt_8yvqM",
        "colab_type": "text"
      },
      "source": [
        "![Linguagens](https://www.robertonovaes.com.br/wp-content/uploads/2019/04/languagesptable.png)"
      ]
    },
    {
      "cell_type": "markdown",
      "metadata": {
        "id": "uBFdK3BZiE2j",
        "colab_type": "text"
      },
      "source": [
        "## Tipagem dinâmica\n",
        "Significa que o próprio interpretador do Python infere o tipo dos dados que uma variável recebe, sem a necessidade que você, o usuário da linguagem diga de que tipo determinada variável é. Exemplo de um script Python:\n",
        "\n"
      ]
    },
    {
      "cell_type": "markdown",
      "metadata": {
        "id": "HVRSA7ywi5F4",
        "colab_type": "text"
      },
      "source": [
        "Ambos os programas acima fazem a mesma coisa, somam 10 e 20 e mostram um resultado na tela, a diferença é que em C os tipos são estáticos então é necessário que o programador diga quais os tipos que i e j receberão como valores aceitáveis."
      ]
    },
    {
      "cell_type": "code",
      "metadata": {
        "id": "7pbcHJ89iOZ8",
        "colab_type": "code",
        "outputId": "c4e3a8ef-f628-4820-d7dd-02aad9a18193",
        "colab": {
          "base_uri": "https://localhost:8080/",
          "height": 34
        }
      },
      "source": [
        "i, j = 10.5 , 20.5\n",
        "print('resultado é: ', i + j)"
      ],
      "execution_count": 0,
      "outputs": [
        {
          "output_type": "stream",
          "text": [
            "resultado é:  31.0\n"
          ],
          "name": "stdout"
        }
      ]
    },
    {
      "cell_type": "code",
      "metadata": {
        "id": "zvVEswICH6zF",
        "colab_type": "code",
        "outputId": "85e11724-68ef-46fa-a425-c701a6aa04e3",
        "colab": {
          "base_uri": "https://localhost:8080/",
          "height": 34
        }
      },
      "source": [
        "type(i)"
      ],
      "execution_count": 0,
      "outputs": [
        {
          "output_type": "execute_result",
          "data": {
            "text/plain": [
              "float"
            ]
          },
          "metadata": {
            "tags": []
          },
          "execution_count": 10
        }
      ]
    },
    {
      "cell_type": "markdown",
      "metadata": {
        "id": "INnPANMxileG",
        "colab_type": "text"
      },
      "source": [
        "Vamos melhorar esta explicação com um exemplo de tipagem estática, a linguagem C. A linguagem C é estaticamente tipada, isso significa que deveremos sempre determinar qual o tipo de dados uma variável irá receber, exemplo de um programa em C:"
      ]
    },
    {
      "cell_type": "markdown",
      "metadata": {
        "id": "DFTBl70XixM4",
        "colab_type": "text"
      },
      "source": [
        "\n",
        "\n",
        "```\n",
        "#include <stdio.h>\n",
        "\n",
        "int main(){\n",
        "   int i = 10, j = 20;\n",
        "   printf(\"O resultado é: %d\\n\", i+j);\n",
        "}\n",
        "```\n",
        "\n"
      ]
    },
    {
      "cell_type": "markdown",
      "metadata": {
        "id": "ivCFBLuwjhtk",
        "colab_type": "text"
      },
      "source": [
        "## Tipagem Forte"
      ]
    },
    {
      "cell_type": "markdown",
      "metadata": {
        "id": "4dfi2qluk9n0",
        "colab_type": "text"
      },
      "source": [
        " Tipagem forte significa que o interpretador do Python avalia as expressões (evaluate) e não faz coerções automáticas entre tipos não compatíveis (conversões de valores), ou seja:"
      ]
    },
    {
      "cell_type": "code",
      "metadata": {
        "id": "aYEtaThSipd3",
        "colab_type": "code",
        "outputId": "e1001f2e-1203-4d67-c886-af0dd9201337",
        "colab": {
          "base_uri": "https://localhost:8080/",
          "height": 198
        }
      },
      "source": [
        "i = 'Pedro'\n",
        "j = 6.0\n",
        "i + j"
      ],
      "execution_count": 0,
      "outputs": [
        {
          "output_type": "error",
          "ename": "TypeError",
          "evalue": "ignored",
          "traceback": [
            "\u001b[0;31m---------------------------------------------------------------------------\u001b[0m",
            "\u001b[0;31mTypeError\u001b[0m                                 Traceback (most recent call last)",
            "\u001b[0;32m<ipython-input-11-e9c384e52968>\u001b[0m in \u001b[0;36m<module>\u001b[0;34m()\u001b[0m\n\u001b[1;32m      1\u001b[0m \u001b[0mi\u001b[0m \u001b[0;34m=\u001b[0m \u001b[0;34m'Pedro'\u001b[0m\u001b[0;34m\u001b[0m\u001b[0;34m\u001b[0m\u001b[0m\n\u001b[1;32m      2\u001b[0m \u001b[0mj\u001b[0m \u001b[0;34m=\u001b[0m \u001b[0;36m6.0\u001b[0m\u001b[0;34m\u001b[0m\u001b[0;34m\u001b[0m\u001b[0m\n\u001b[0;32m----> 3\u001b[0;31m \u001b[0mi\u001b[0m \u001b[0;34m+\u001b[0m \u001b[0mj\u001b[0m\u001b[0;34m\u001b[0m\u001b[0;34m\u001b[0m\u001b[0m\n\u001b[0m",
            "\u001b[0;31mTypeError\u001b[0m: must be str, not float"
          ]
        }
      ]
    },
    {
      "cell_type": "markdown",
      "metadata": {
        "id": "FjciYmkFlQcb",
        "colab_type": "text"
      },
      "source": [
        "Agora assim como temos linguagens com tipagem forte, temos também linguagens com **tipagem fraca** como por exemplo Javascript, vejamos o código Javascript a seguir:"
      ]
    },
    {
      "cell_type": "markdown",
      "metadata": {
        "id": "T4-6KGkeo71X",
        "colab_type": "text"
      },
      "source": [
        "![Java Script](https://github.com/avellar1975/python/blob/master/iniciante/note.jpg?raw=true)\n"
      ]
    },
    {
      "cell_type": "markdown",
      "metadata": {
        "id": "CWxvg8Mjqhdb",
        "colab_type": "text"
      },
      "source": [
        "Isso prova que o Javascript diferente do Python converte (faz coerção de tipos) ao executar operações de forma automática, isso faz com que seja uma linguagem de tipagem fraca."
      ]
    },
    {
      "cell_type": "markdown",
      "metadata": {
        "id": "sGRt2cJC3B6P",
        "colab_type": "text"
      },
      "source": [
        "## Qual versão usar?"
      ]
    },
    {
      "cell_type": "code",
      "metadata": {
        "id": "3KYhd9zTMPnv",
        "colab_type": "code",
        "outputId": "1181d961-84e0-4411-f731-08c3929ee89b",
        "colab": {
          "base_uri": "https://localhost:8080/",
          "height": 34
        }
      },
      "source": [
        "!python --version"
      ],
      "execution_count": 0,
      "outputs": [
        {
          "output_type": "stream",
          "text": [
            "Python 3.6.9\n"
          ],
          "name": "stdout"
        }
      ]
    },
    {
      "cell_type": "markdown",
      "metadata": {
        "id": "14ehc_WJBjyO",
        "colab_type": "text"
      },
      "source": [
        "## Ferramentas de Trabalho"
      ]
    },
    {
      "cell_type": "markdown",
      "metadata": {
        "id": "SA2xpEtdogL1",
        "colab_type": "text"
      },
      "source": [
        "- Editores de texto: \n",
        " - Atom, Notepad++, etc\n",
        "- IDEs( é um editor de texto com funções extras para programação):\n",
        " - PyCharm, Visual Studio Code, Eclipse, IDLE, etc\n",
        "- Por meio do terminal\n",
        "- Online (sem instalar nada)\n",
        " - Colab Google\n"
      ]
    },
    {
      "cell_type": "markdown",
      "metadata": {
        "id": "Lk2Vh1SwIoJW",
        "colab_type": "text"
      },
      "source": [
        "# Mãos a obra"
      ]
    },
    {
      "cell_type": "code",
      "metadata": {
        "id": "zNIKXZ5T9VeC",
        "colab_type": "code",
        "outputId": "aa8575fe-a1c8-4fdd-a503-da465cc34f67",
        "colab": {
          "base_uri": "https://localhost:8080/",
          "height": 215
        }
      },
      "source": [
        "# Iniciar algumas demonstrações simples:\n",
        "\n",
        "    # operadores aritméticas, parenteses\n",
        "    # comentários\n",
        "    # função type(), id(), str(), int(), float()\n",
        "    # erros\n",
        "\n",
        "'''\n",
        "Caso o programa não esteja de acordo com as regras da linguagem, erros\n",
        "de compilação ocorrerão. Ler e entender estes erros é muito importante.\n",
        "'''\n",
        "\n",
        "# Você sabe dizer qual erro existe neste programa?\n",
        "d = 3.0\n",
        "c = 2.5\n",
        "b = 4\n",
        "d = b + 90\n",
        "a = e + 1\n",
        "print(a)"
      ],
      "execution_count": 0,
      "outputs": [
        {
          "output_type": "error",
          "ename": "NameError",
          "evalue": "ignored",
          "traceback": [
            "\u001b[0;31m---------------------------------------------------------------------------\u001b[0m",
            "\u001b[0;31mNameError\u001b[0m                                 Traceback (most recent call last)",
            "\u001b[0;32m<ipython-input-16-b5738f66303a>\u001b[0m in \u001b[0;36m<module>\u001b[0;34m()\u001b[0m\n\u001b[1;32m     16\u001b[0m \u001b[0mb\u001b[0m \u001b[0;34m=\u001b[0m \u001b[0;36m4\u001b[0m\u001b[0;34m\u001b[0m\u001b[0;34m\u001b[0m\u001b[0m\n\u001b[1;32m     17\u001b[0m \u001b[0md\u001b[0m \u001b[0;34m=\u001b[0m \u001b[0mb\u001b[0m \u001b[0;34m+\u001b[0m \u001b[0;36m90\u001b[0m\u001b[0;34m\u001b[0m\u001b[0;34m\u001b[0m\u001b[0m\n\u001b[0;32m---> 18\u001b[0;31m \u001b[0ma\u001b[0m \u001b[0;34m=\u001b[0m \u001b[0me\u001b[0m \u001b[0;34m+\u001b[0m \u001b[0;36m1\u001b[0m\u001b[0;34m\u001b[0m\u001b[0;34m\u001b[0m\u001b[0m\n\u001b[0m\u001b[1;32m     19\u001b[0m \u001b[0mprint\u001b[0m\u001b[0;34m(\u001b[0m\u001b[0ma\u001b[0m\u001b[0;34m)\u001b[0m\u001b[0;34m\u001b[0m\u001b[0;34m\u001b[0m\u001b[0m\n",
            "\u001b[0;31mNameError\u001b[0m: name 'e' is not defined"
          ]
        }
      ]
    },
    {
      "cell_type": "code",
      "metadata": {
        "id": "vhBJ7xdsYB5B",
        "colab_type": "code",
        "outputId": "da0ff61c-65ac-4b90-a741-4f160e0452ee",
        "colab": {
          "base_uri": "https://localhost:8080/",
          "height": 34
        }
      },
      "source": [
        "id(a)"
      ],
      "execution_count": 0,
      "outputs": [
        {
          "output_type": "execute_result",
          "data": {
            "text/plain": [
              "140633896824624"
            ]
          },
          "metadata": {
            "tags": []
          },
          "execution_count": 18
        }
      ]
    },
    {
      "cell_type": "code",
      "metadata": {
        "id": "iIsc5DUEYIEH",
        "colab_type": "code",
        "outputId": "228946ba-154e-44e3-d8ab-bcd50e0f8ea0",
        "colab": {
          "base_uri": "https://localhost:8080/",
          "height": 34
        }
      },
      "source": [
        "b = a\n",
        "id(b)"
      ],
      "execution_count": 0,
      "outputs": [
        {
          "output_type": "execute_result",
          "data": {
            "text/plain": [
              "140633896824624"
            ]
          },
          "metadata": {
            "tags": []
          },
          "execution_count": 19
        }
      ]
    },
    {
      "cell_type": "code",
      "metadata": {
        "id": "6bxQ3btCYQmT",
        "colab_type": "code",
        "outputId": "761cce9d-890b-4280-af61-8bdc4f203b10",
        "colab": {
          "base_uri": "https://localhost:8080/",
          "height": 34
        }
      },
      "source": [
        "variavel = (9 + 10) * 10\n",
        "id(variavel)"
      ],
      "execution_count": 0,
      "outputs": [
        {
          "output_type": "execute_result",
          "data": {
            "text/plain": [
              "10920544"
            ]
          },
          "metadata": {
            "tags": []
          },
          "execution_count": 20
        }
      ]
    },
    {
      "cell_type": "code",
      "metadata": {
        "id": "Ymb3MNW8Yx6j",
        "colab_type": "code",
        "colab": {}
      },
      "source": [
        "variavel = 100\n",
        "id(variavel)\n",
        "del variavel # apaga a variável"
      ],
      "execution_count": 0,
      "outputs": []
    },
    {
      "cell_type": "code",
      "metadata": {
        "id": "W23F3JWdY_3P",
        "colab_type": "code",
        "outputId": "0b90baec-7b2e-4583-9cf1-b0648c563adb",
        "colab": {
          "base_uri": "https://localhost:8080/",
          "height": 164
        }
      },
      "source": [
        "variavel"
      ],
      "execution_count": 0,
      "outputs": [
        {
          "output_type": "error",
          "ename": "NameError",
          "evalue": "ignored",
          "traceback": [
            "\u001b[0;31m---------------------------------------------------------------------------\u001b[0m",
            "\u001b[0;31mNameError\u001b[0m                                 Traceback (most recent call last)",
            "\u001b[0;32m<ipython-input-22-7f8ddc9a0888>\u001b[0m in \u001b[0;36m<module>\u001b[0;34m()\u001b[0m\n\u001b[0;32m----> 1\u001b[0;31m \u001b[0mvariavel\u001b[0m\u001b[0;34m\u001b[0m\u001b[0;34m\u001b[0m\u001b[0m\n\u001b[0m",
            "\u001b[0;31mNameError\u001b[0m: name 'variavel' is not defined"
          ]
        }
      ]
    },
    {
      "cell_type": "code",
      "metadata": {
        "id": "DKZmWB-2WMRo",
        "colab_type": "code",
        "outputId": "9ed53926-f53b-4f0d-b3ec-8644deacf981",
        "colab": {
          "base_uri": "https://localhost:8080/",
          "height": 34
        }
      },
      "source": [
        "nome = 'Evandro'\n",
        "idade = 44\n",
        "temperatura = 19.5\n",
        "print('Meu nome é',nome)"
      ],
      "execution_count": 0,
      "outputs": [
        {
          "output_type": "stream",
          "text": [
            "Meu nome é Evandro\n"
          ],
          "name": "stdout"
        }
      ]
    },
    {
      "cell_type": "code",
      "metadata": {
        "id": "597h89mHZVj1",
        "colab_type": "code",
        "outputId": "bad17d89-29b2-4333-8bd0-5518d075b685",
        "colab": {
          "base_uri": "https://localhost:8080/",
          "height": 34
        }
      },
      "source": [
        "type(temperatura) # tipo da variável"
      ],
      "execution_count": 0,
      "outputs": [
        {
          "output_type": "execute_result",
          "data": {
            "text/plain": [
              "float"
            ]
          },
          "metadata": {
            "tags": []
          },
          "execution_count": 24
        }
      ]
    },
    {
      "cell_type": "code",
      "metadata": {
        "id": "sBiuAMO7ZsEh",
        "colab_type": "code",
        "outputId": "44413dff-a758-4055-ee41-6373854a2c72",
        "colab": {
          "base_uri": "https://localhost:8080/",
          "height": 164
        }
      },
      "source": [
        "nome + idade"
      ],
      "execution_count": 0,
      "outputs": [
        {
          "output_type": "error",
          "ename": "TypeError",
          "evalue": "ignored",
          "traceback": [
            "\u001b[0;31m---------------------------------------------------------------------------\u001b[0m",
            "\u001b[0;31mTypeError\u001b[0m                                 Traceback (most recent call last)",
            "\u001b[0;32m<ipython-input-25-820cc347d132>\u001b[0m in \u001b[0;36m<module>\u001b[0;34m()\u001b[0m\n\u001b[0;32m----> 1\u001b[0;31m \u001b[0mnome\u001b[0m \u001b[0;34m+\u001b[0m \u001b[0midade\u001b[0m\u001b[0;34m\u001b[0m\u001b[0;34m\u001b[0m\u001b[0m\n\u001b[0m",
            "\u001b[0;31mTypeError\u001b[0m: must be str, not int"
          ]
        }
      ]
    },
    {
      "cell_type": "code",
      "metadata": {
        "id": "gl53C8AXalYL",
        "colab_type": "code",
        "outputId": "c1b57cd2-597e-4990-f082-2a3b4b2d8ebd",
        "colab": {
          "base_uri": "https://localhost:8080/",
          "height": 34
        }
      },
      "source": [
        "idade = str(idade)\n",
        "nome + idade"
      ],
      "execution_count": 0,
      "outputs": [
        {
          "output_type": "execute_result",
          "data": {
            "text/plain": [
              "'Evandro44'"
            ]
          },
          "metadata": {
            "tags": []
          },
          "execution_count": 26
        }
      ]
    },
    {
      "cell_type": "code",
      "metadata": {
        "id": "oGvmE7QXaryI",
        "colab_type": "code",
        "outputId": "2d6ae51f-36c7-4c39-c729-44a2e3b5508a",
        "colab": {
          "base_uri": "https://localhost:8080/",
          "height": 34
        }
      },
      "source": [
        "temperatura = int(temperatura)\n",
        "temperatura"
      ],
      "execution_count": 0,
      "outputs": [
        {
          "output_type": "execute_result",
          "data": {
            "text/plain": [
              "19"
            ]
          },
          "metadata": {
            "tags": []
          },
          "execution_count": 27
        }
      ]
    },
    {
      "cell_type": "code",
      "metadata": {
        "id": "NmexQqAebEVJ",
        "colab_type": "code",
        "outputId": "7f5cb53d-100d-44e7-f8cf-bbed975afc12",
        "colab": {
          "base_uri": "https://localhost:8080/",
          "height": 34
        }
      },
      "source": [
        "type(temperatura)"
      ],
      "execution_count": 0,
      "outputs": [
        {
          "output_type": "execute_result",
          "data": {
            "text/plain": [
              "int"
            ]
          },
          "metadata": {
            "tags": []
          },
          "execution_count": 28
        }
      ]
    },
    {
      "cell_type": "code",
      "metadata": {
        "id": "CCLpDfPFa8ZE",
        "colab_type": "code",
        "outputId": "b02484a5-a6a8-43b7-b0dd-cff64220e5bd",
        "colab": {
          "base_uri": "https://localhost:8080/",
          "height": 34
        }
      },
      "source": [
        "temperatura = float(temperatura)\n",
        "temperatura"
      ],
      "execution_count": 0,
      "outputs": [
        {
          "output_type": "execute_result",
          "data": {
            "text/plain": [
              "19.0"
            ]
          },
          "metadata": {
            "tags": []
          },
          "execution_count": 29
        }
      ]
    },
    {
      "cell_type": "markdown",
      "metadata": {
        "id": "39dKEaPMp1yr",
        "colab_type": "text"
      },
      "source": [
        "# Duas funções nativas (internas) para começar"
      ]
    },
    {
      "cell_type": "markdown",
      "metadata": {
        "id": "x6RaBWfM0FRp",
        "colab_type": "text"
      },
      "source": [
        "## Função print( )\n",
        "Para imprimir um texto, utilizamos o comando print.\n"
      ]
    },
    {
      "cell_type": "code",
      "metadata": {
        "id": "bv2khsldpenj",
        "colab_type": "code",
        "outputId": "679dfc23-eccf-42db-cb56-6e17d96939a8",
        "colab": {
          "base_uri": "https://localhost:8080/",
          "height": 34
        }
      },
      "source": [
        "# Exercio 1\n",
        "\n",
        "print('oi, meu nome é Evandro')\n"
      ],
      "execution_count": 0,
      "outputs": [
        {
          "output_type": "stream",
          "text": [
            "oi, meu nome é Evandro\n"
          ],
          "name": "stdout"
        }
      ]
    },
    {
      "cell_type": "code",
      "metadata": {
        "id": "mcFVjG3Np_4Z",
        "colab_type": "code",
        "outputId": "cd8e5338-6e21-4585-e647-05a1611872fd",
        "colab": {
          "base_uri": "https://localhost:8080/",
          "height": 51
        }
      },
      "source": [
        "a = 10\n",
        "b = 20\n",
        "print('a contem o valor',a,', já b contem o valor',b)\n",
        "print('Outra frase qualquer')"
      ],
      "execution_count": 0,
      "outputs": [
        {
          "output_type": "stream",
          "text": [
            "a contem o valor 10 , já b contem o valor 20\n",
            "Outra frase qualquer\n"
          ],
          "name": "stdout"
        }
      ]
    },
    {
      "cell_type": "markdown",
      "metadata": {
        "id": "xoeeO_tsiK71",
        "colab_type": "text"
      },
      "source": [
        "**DESAFIO:** *A função print sempre pula uma linha ao final da impressão. Descubra na internet como usar o print de forma que ele nao mude de linha no final*\n",
        "\n"
      ]
    },
    {
      "cell_type": "markdown",
      "metadata": {
        "id": "fVeqXz7AzsNU",
        "colab_type": "text"
      },
      "source": [
        "### Exercício 1\n",
        " - Faça um programa que escreva 'Olá Mundo!' na tela\n",
        "\n",
        " Salvar num arquivo hello.py e subir na tarefa da plataforma suporte.caixaintegrada.caixa"
      ]
    },
    {
      "cell_type": "code",
      "metadata": {
        "id": "GFn-BXjus3Hg",
        "colab_type": "code",
        "colab": {}
      },
      "source": [
        "# Escrever 'Olá mundo!' na tela"
      ],
      "execution_count": 0,
      "outputs": []
    },
    {
      "cell_type": "code",
      "metadata": {
        "id": "pzTAzhCCEGZt",
        "colab_type": "code",
        "outputId": "d948d5b5-e09c-42d5-ed17-9192babe26c8",
        "colab": {
          "base_uri": "https://localhost:8080/",
          "height": 34
        }
      },
      "source": [
        "print('Olá mundo! Hoje é sexta!!!! #fiqueemcasa')"
      ],
      "execution_count": 0,
      "outputs": [
        {
          "output_type": "stream",
          "text": [
            "Olá mundo! Hoje é sexta!!!! #fiqueemcasa\n"
          ],
          "name": "stdout"
        }
      ]
    },
    {
      "cell_type": "markdown",
      "metadata": {
        "id": "2a5EGr6M0bPe",
        "colab_type": "text"
      },
      "source": [
        "## Função input( )\n",
        "\n",
        "Realiza a leitura de dados a partir do teclado.\n",
        "\n",
        "Aguarda que o usuário digite um valor e atribui o valor digitado à uma variável.\n",
        "\n",
        "Todos os dados lidos são do tipo string. \n",
        "\n",
        "Podemos converter uma string lida do teclado em um número inteiro usando a função int(), por exemplo.\n"
      ]
    },
    {
      "cell_type": "code",
      "metadata": {
        "id": "14jXu8SeqFf8",
        "colab_type": "code",
        "colab": {}
      },
      "source": [
        "# a variável dá um nome ao valor que será digitado, é uma etiqueta"
      ],
      "execution_count": 0,
      "outputs": []
    },
    {
      "cell_type": "code",
      "metadata": {
        "id": "JjQS2XwprxiM",
        "colab_type": "code",
        "outputId": "fb03bd80-e107-45e0-c006-6adb0a77a1ff",
        "colab": {
          "base_uri": "https://localhost:8080/",
          "height": 34
        }
      },
      "source": [
        "meu_nome = input('Qual é o seu nome? ')"
      ],
      "execution_count": 0,
      "outputs": [
        {
          "output_type": "stream",
          "text": [
            "Qual é o seu nome? Evandro\n"
          ],
          "name": "stdout"
        }
      ]
    },
    {
      "cell_type": "code",
      "metadata": {
        "id": "toZAeOI9sfGR",
        "colab_type": "code",
        "outputId": "0227912c-b82d-4480-d7f0-403b6c686f40",
        "colab": {
          "base_uri": "https://localhost:8080/",
          "height": 34
        }
      },
      "source": [
        "meu_nome"
      ],
      "execution_count": 0,
      "outputs": [
        {
          "output_type": "execute_result",
          "data": {
            "text/plain": [
              "'Evandro'"
            ]
          },
          "metadata": {
            "tags": []
          },
          "execution_count": 35
        }
      ]
    },
    {
      "cell_type": "code",
      "metadata": {
        "id": "IHY8_yLVs1Zd",
        "colab_type": "code",
        "outputId": "5a0e696c-70fc-4735-e46b-337fd5815cd5",
        "colab": {
          "base_uri": "https://localhost:8080/",
          "height": 34
        }
      },
      "source": [
        "idade = int(input('Qual é a sua idade?'))"
      ],
      "execution_count": 0,
      "outputs": [
        {
          "output_type": "stream",
          "text": [
            "Qual é a sua idade?44\n"
          ],
          "name": "stdout"
        }
      ]
    },
    {
      "cell_type": "code",
      "metadata": {
        "id": "-zBC8_zEda2H",
        "colab_type": "code",
        "outputId": "f2763730-e642-4e06-f0a0-d4d597a872b2",
        "colab": {
          "base_uri": "https://localhost:8080/",
          "height": 34
        }
      },
      "source": [
        "type(idade)"
      ],
      "execution_count": 0,
      "outputs": [
        {
          "output_type": "execute_result",
          "data": {
            "text/plain": [
              "int"
            ]
          },
          "metadata": {
            "tags": []
          },
          "execution_count": 37
        }
      ]
    },
    {
      "cell_type": "markdown",
      "metadata": {
        "id": "e_j5NpVBuKKg",
        "colab_type": "text"
      },
      "source": [
        "#### Exercício 2\n",
        "- Escreva um programa que lê o nome e idade e escreve na tela:\n"
      ]
    },
    {
      "cell_type": "markdown",
      "metadata": {
        "id": "mFihAaw4u0BL",
        "colab_type": "text"
      },
      "source": [
        "\n",
        "```\n",
        "\"Bem vindo <nome> fico feliz em saber que tem <idade> anos.\n",
        "```\n",
        "\n"
      ]
    },
    {
      "cell_type": "code",
      "metadata": {
        "id": "NJgE_U--0xJy",
        "colab_type": "code",
        "outputId": "b259dc7b-7c14-47e5-81ed-747bc43d8e56",
        "colab": {
          "base_uri": "https://localhost:8080/",
          "height": 68
        }
      },
      "source": [
        "nome = input('Digite seu nome: ')\n",
        "idade = input('Digite sua idade: ')\n",
        "\n",
        "print(\"Bem vindo\",nome,\"fico feliz em saber que tem\",idade,\"anos.\")"
      ],
      "execution_count": 0,
      "outputs": [
        {
          "output_type": "stream",
          "text": [
            "Digite seu nome: Evandro\n",
            "Digite sua idade: 44\n",
            "Bem vindo Evandro fico feliz em saber que tem 44 anos.\n"
          ],
          "name": "stdout"
        }
      ]
    },
    {
      "cell_type": "code",
      "metadata": {
        "id": "fH2OXaiGHwLy",
        "colab_type": "code",
        "outputId": "32e5d9ca-3c01-4e47-9b6e-eec8470e527f",
        "colab": {
          "base_uri": "https://localhost:8080/",
          "height": 34
        }
      },
      "source": [
        "nome='Isabela'\n",
        "idade= 41\n",
        "print(\"Bem vinda\",nome,\" fico feliz em saber que tem \",idade,\" anos.\")"
      ],
      "execution_count": 0,
      "outputs": [
        {
          "output_type": "stream",
          "text": [
            "Bem vinda Isabela  fico feliz em saber que tem  41  anos.\n"
          ],
          "name": "stdout"
        }
      ]
    },
    {
      "cell_type": "markdown",
      "metadata": {
        "id": "o--ldYszovWw",
        "colab_type": "text"
      },
      "source": [
        "# Variáveis não são caixas"
      ]
    },
    {
      "cell_type": "markdown",
      "metadata": {
        "id": "-eg45JMswRtu",
        "colab_type": "text"
      },
      "source": [
        "Em Python, variáveis são referências a objetos.\n",
        "\n",
        "Variáveis são rótulos (ou post-its) que identificam objetos. Objetos existem antes das variáveis.\n",
        "\n",
        "Uma variável é um nome que se refere a um valor. Um comando de atribuição ( = ) cria uma nova variável do lado direito e lhe dá um valor.\n",
        "\n",
        "Cada nome de variáveis deve começar por uma letra ou o símbolo '\\_' (underscore) seguida de letras, números e '_'. \n",
        "\n",
        "Não pode-se utilizar como parte do nome de uma variável: { ( + - * / \\ ; . , ?\n",
        "\n",
        "Atenção, maiúscula é diferente de minúscula. Assim <i>maior</i> e <i>Maior</i> são duas variáveis diferentes."
      ]
    },
    {
      "cell_type": "code",
      "metadata": {
        "id": "dNdkYSxDIfQE",
        "colab_type": "code",
        "outputId": "beeff596-b956-42d2-d1c6-d74bcc3c1d3a",
        "colab": {
          "base_uri": "https://localhost:8080/",
          "height": 198
        }
      },
      "source": [
        "Meu_nome = \"Evandro\"\n",
        "\n",
        "print(MEU_NOME) # Maiúscula é diferente de minúscula."
      ],
      "execution_count": 0,
      "outputs": [
        {
          "output_type": "error",
          "ename": "NameError",
          "evalue": "ignored",
          "traceback": [
            "\u001b[0;31m---------------------------------------------------------------------------\u001b[0m",
            "\u001b[0;31mNameError\u001b[0m                                 Traceback (most recent call last)",
            "\u001b[0;32m<ipython-input-41-ec0457579436>\u001b[0m in \u001b[0;36m<module>\u001b[0;34m()\u001b[0m\n\u001b[1;32m      1\u001b[0m \u001b[0mMeu_nome\u001b[0m \u001b[0;34m=\u001b[0m \u001b[0;34m\"Evandro\"\u001b[0m\u001b[0;34m\u001b[0m\u001b[0;34m\u001b[0m\u001b[0m\n\u001b[1;32m      2\u001b[0m \u001b[0;34m\u001b[0m\u001b[0m\n\u001b[0;32m----> 3\u001b[0;31m \u001b[0mprint\u001b[0m\u001b[0;34m(\u001b[0m\u001b[0mMEU_NOME\u001b[0m\u001b[0;34m)\u001b[0m \u001b[0;31m# Maiúscula é diferente de minúscula.\u001b[0m\u001b[0;34m\u001b[0m\u001b[0;34m\u001b[0m\u001b[0m\n\u001b[0m",
            "\u001b[0;31mNameError\u001b[0m: name 'MEU_NOME' is not defined"
          ]
        }
      ]
    },
    {
      "cell_type": "code",
      "metadata": {
        "id": "P4vk3fxYI44O",
        "colab_type": "code",
        "colab": {}
      },
      "source": [
        "name = 'Evandro'\n",
        "idade = 44\n",
        "pi = 3.1416\n",
        "opcao = True\n",
        "complexo = 1.5 + 3j\n"
      ],
      "execution_count": 0,
      "outputs": []
    },
    {
      "cell_type": "code",
      "metadata": {
        "id": "yoWRCOIkJEAY",
        "colab_type": "code",
        "outputId": "6de808f5-db90-41bc-c36a-fa9669939781",
        "colab": {
          "base_uri": "https://localhost:8080/",
          "height": 102
        }
      },
      "source": [
        "print(type(name))\n",
        "print(type(idade))\n",
        "print(type(pi))\n",
        "print(type(opcao))\n",
        "print(type(complexo))"
      ],
      "execution_count": 0,
      "outputs": [
        {
          "output_type": "stream",
          "text": [
            "<class 'str'>\n",
            "<class 'int'>\n",
            "<class 'float'>\n",
            "<class 'bool'>\n",
            "<class 'complex'>\n"
          ],
          "name": "stdout"
        }
      ]
    },
    {
      "cell_type": "code",
      "metadata": {
        "id": "zKuomsuGJWCA",
        "colab_type": "code",
        "outputId": "f03525a7-ba7b-440d-baa1-79bbacdae4a2",
        "colab": {
          "base_uri": "https://localhost:8080/",
          "height": 34
        }
      },
      "source": [
        "letra = '19'\n",
        "letra = int(letra) # Função int(x) converte x em inteiro\n",
        "type(letra)"
      ],
      "execution_count": 0,
      "outputs": [
        {
          "output_type": "execute_result",
          "data": {
            "text/plain": [
              "int"
            ]
          },
          "metadata": {
            "tags": []
          },
          "execution_count": 44
        }
      ]
    },
    {
      "cell_type": "code",
      "metadata": {
        "id": "7apaeKc8J5eW",
        "colab_type": "code",
        "outputId": "083b80ff-5208-47c9-96be-a0ec8469d7c0",
        "colab": {
          "base_uri": "https://localhost:8080/",
          "height": 34
        }
      },
      "source": [
        "a = 23 + 90 * 98\n",
        "b = a\n",
        "\n",
        "id(a) # id() mostra o endereço do objeto, ou identificador"
      ],
      "execution_count": 0,
      "outputs": [
        {
          "output_type": "execute_result",
          "data": {
            "text/plain": [
              "140633894632208"
            ]
          },
          "metadata": {
            "tags": []
          },
          "execution_count": 45
        }
      ]
    },
    {
      "cell_type": "code",
      "metadata": {
        "id": "ojnNb1thKGH5",
        "colab_type": "code",
        "outputId": "df8ed3c5-184e-4424-e23e-85160d6afece",
        "colab": {
          "base_uri": "https://localhost:8080/",
          "height": 34
        }
      },
      "source": [
        "id(b)"
      ],
      "execution_count": 0,
      "outputs": [
        {
          "output_type": "execute_result",
          "data": {
            "text/plain": [
              "140633894632208"
            ]
          },
          "metadata": {
            "tags": []
          },
          "execution_count": 46
        }
      ]
    },
    {
      "cell_type": "code",
      "metadata": {
        "id": "SQsSRm2_KNXy",
        "colab_type": "code",
        "outputId": "9b898ebf-3743-4f3e-ba74-f0f019032439",
        "colab": {
          "base_uri": "https://localhost:8080/",
          "height": 34
        }
      },
      "source": [
        "b"
      ],
      "execution_count": 0,
      "outputs": [
        {
          "output_type": "execute_result",
          "data": {
            "text/plain": [
              "8843"
            ]
          },
          "metadata": {
            "tags": []
          },
          "execution_count": 47
        }
      ]
    },
    {
      "cell_type": "code",
      "metadata": {
        "id": "IhefHI62KoYQ",
        "colab_type": "code",
        "outputId": "17528a32-74d4-4824-cb2d-6926eba83a27",
        "colab": {
          "base_uri": "https://localhost:8080/",
          "height": 34
        }
      },
      "source": [
        "x = y = z = 0.0\n",
        "x = c\n",
        "y = 7/10\n",
        "y"
      ],
      "execution_count": 0,
      "outputs": [
        {
          "output_type": "execute_result",
          "data": {
            "text/plain": [
              "0.7"
            ]
          },
          "metadata": {
            "tags": []
          },
          "execution_count": 48
        }
      ]
    },
    {
      "cell_type": "code",
      "metadata": {
        "id": "eSNwAXnVZkh6",
        "colab_type": "code",
        "colab": {}
      },
      "source": [
        "del a"
      ],
      "execution_count": 0,
      "outputs": []
    },
    {
      "cell_type": "code",
      "metadata": {
        "id": "LGJvq4xnun-Q",
        "colab_type": "code",
        "outputId": "3cf263c8-9ce2-466e-d2b5-bc1ef6bd1f9e",
        "colab": {
          "base_uri": "https://localhost:8080/",
          "height": 232
        }
      },
      "source": [
        "d = 3.0\n",
        "c = 2.5\n",
        "b = 4\n",
        "d = b + 90\n",
        "e = c * d\n",
        "a = a + 1\n",
        "print(a)\n",
        "print(e)"
      ],
      "execution_count": 0,
      "outputs": [
        {
          "output_type": "error",
          "ename": "NameError",
          "evalue": "ignored",
          "traceback": [
            "\u001b[0;31m---------------------------------------------------------------------------\u001b[0m",
            "\u001b[0;31mNameError\u001b[0m                                 Traceback (most recent call last)",
            "\u001b[0;32m<ipython-input-51-c747e657c638>\u001b[0m in \u001b[0;36m<module>\u001b[0;34m()\u001b[0m\n\u001b[1;32m      4\u001b[0m \u001b[0md\u001b[0m \u001b[0;34m=\u001b[0m \u001b[0mb\u001b[0m \u001b[0;34m+\u001b[0m \u001b[0;36m90\u001b[0m\u001b[0;34m\u001b[0m\u001b[0;34m\u001b[0m\u001b[0m\n\u001b[1;32m      5\u001b[0m \u001b[0me\u001b[0m \u001b[0;34m=\u001b[0m \u001b[0mc\u001b[0m \u001b[0;34m*\u001b[0m \u001b[0md\u001b[0m\u001b[0;34m\u001b[0m\u001b[0;34m\u001b[0m\u001b[0m\n\u001b[0;32m----> 6\u001b[0;31m \u001b[0ma\u001b[0m \u001b[0;34m=\u001b[0m \u001b[0ma\u001b[0m \u001b[0;34m+\u001b[0m \u001b[0;36m1\u001b[0m\u001b[0;34m\u001b[0m\u001b[0;34m\u001b[0m\u001b[0m\n\u001b[0m\u001b[1;32m      7\u001b[0m \u001b[0mprint\u001b[0m\u001b[0;34m(\u001b[0m\u001b[0ma\u001b[0m\u001b[0;34m)\u001b[0m\u001b[0;34m\u001b[0m\u001b[0;34m\u001b[0m\u001b[0m\n\u001b[1;32m      8\u001b[0m \u001b[0mprint\u001b[0m\u001b[0;34m(\u001b[0m\u001b[0me\u001b[0m\u001b[0;34m)\u001b[0m\u001b[0;34m\u001b[0m\u001b[0;34m\u001b[0m\u001b[0m\n",
            "\u001b[0;31mNameError\u001b[0m: name 'a' is not defined"
          ]
        }
      ]
    },
    {
      "cell_type": "code",
      "metadata": {
        "id": "nX4Ze97OMHot",
        "colab_type": "code",
        "outputId": "75d0f7d0-5891-47cd-fbae-2713a1f6ded0",
        "colab": {
          "base_uri": "https://localhost:8080/",
          "height": 164
        }
      },
      "source": [
        "w = 7/0"
      ],
      "execution_count": 0,
      "outputs": [
        {
          "output_type": "error",
          "ename": "ZeroDivisionError",
          "evalue": "ignored",
          "traceback": [
            "\u001b[0;31m---------------------------------------------------------------------------\u001b[0m",
            "\u001b[0;31mZeroDivisionError\u001b[0m                         Traceback (most recent call last)",
            "\u001b[0;32m<ipython-input-56-6dfe3299d2e0>\u001b[0m in \u001b[0;36m<module>\u001b[0;34m()\u001b[0m\n\u001b[0;32m----> 1\u001b[0;31m \u001b[0mw\u001b[0m \u001b[0;34m=\u001b[0m \u001b[0;36m7\u001b[0m\u001b[0;34m/\u001b[0m\u001b[0;36m0\u001b[0m\u001b[0;34m\u001b[0m\u001b[0;34m\u001b[0m\u001b[0m\n\u001b[0m",
            "\u001b[0;31mZeroDivisionError\u001b[0m: division by zero"
          ]
        }
      ]
    },
    {
      "cell_type": "code",
      "metadata": {
        "id": "Pf7nj-7hI_ru",
        "colab_type": "code",
        "outputId": "7580eaa4-c81f-4c98-dc21-cb420250f288",
        "colab": {
          "base_uri": "https://localhost:8080/",
          "height": 164
        }
      },
      "source": [
        "w"
      ],
      "execution_count": 0,
      "outputs": [
        {
          "output_type": "error",
          "ename": "NameError",
          "evalue": "ignored",
          "traceback": [
            "\u001b[0;31m---------------------------------------------------------------------------\u001b[0m",
            "\u001b[0;31mNameError\u001b[0m                                 Traceback (most recent call last)",
            "\u001b[0;32m<ipython-input-57-74c7db5447c3>\u001b[0m in \u001b[0;36m<module>\u001b[0;34m()\u001b[0m\n\u001b[0;32m----> 1\u001b[0;31m \u001b[0mw\u001b[0m\u001b[0;34m\u001b[0m\u001b[0;34m\u001b[0m\u001b[0m\n\u001b[0m",
            "\u001b[0;31mNameError\u001b[0m: name 'w' is not defined"
          ]
        }
      ]
    },
    {
      "cell_type": "code",
      "metadata": {
        "id": "20yuCsfx08e4",
        "colab_type": "code",
        "outputId": "009d2d85-146f-4d7f-9de7-7e73cdadee6f",
        "colab": {
          "base_uri": "https://localhost:8080/",
          "height": 34
        }
      },
      "source": [
        "numero  = 8 # inteiros são imutáveis\n",
        "print(numero, id(numero))"
      ],
      "execution_count": 0,
      "outputs": [
        {
          "output_type": "stream",
          "text": [
            "8 10914720\n"
          ],
          "name": "stdout"
        }
      ]
    },
    {
      "cell_type": "code",
      "metadata": {
        "id": "ADEQau7czC3h",
        "colab_type": "code",
        "outputId": "6d907122-258a-4900-e334-c58dbb913dbe",
        "colab": {
          "base_uri": "https://localhost:8080/",
          "height": 34
        }
      },
      "source": [
        "numero  = 9\n",
        "print(numero, id(numero))"
      ],
      "execution_count": 0,
      "outputs": [
        {
          "output_type": "stream",
          "text": [
            "9 10914752\n"
          ],
          "name": "stdout"
        }
      ]
    },
    {
      "cell_type": "markdown",
      "metadata": {
        "id": "cVxdQ8KBZ5z9",
        "colab_type": "text"
      },
      "source": [
        "**Tipos mutáveis vs. imutáveis - tópico avançado**\n",
        "\n",
        "*Os tipos internos do Python podem ser divididos em duas categorias principais – tipos mutáveis e imutáveis . Mutabilidade é apenas uma maneira sofisticada de especificar se um objeto pode ser modificado depois de ter sido declarado.*"
      ]
    },
    {
      "cell_type": "markdown",
      "metadata": {
        "id": "NyCEO5Mo3g3O",
        "colab_type": "text"
      },
      "source": [
        "# Tudo é objeto\n",
        "\n",
        "*O termo orientação a objetos significa organizar o mundo real como uma coleção de objetos que incorporam estrutura de dados e um conjunto de operações que manipulam estes dados.*\n",
        "\n",
        "Uma classe associa dados (**atributos**) e operações (**métodos**) numa só estrutura. Um objeto é uma instância de uma classe. Ou seja, uma representação da classe. "
      ]
    },
    {
      "cell_type": "markdown",
      "metadata": {
        "id": "kbMIdJJmcaCG",
        "colab_type": "text"
      },
      "source": [
        "![Classe](https://raw.githubusercontent.com/avellar1975/python/master/iniciante/classe_objeto.jpg)"
      ]
    },
    {
      "cell_type": "code",
      "metadata": {
        "id": "aFYYfwNVdZsd",
        "colab_type": "code",
        "colab": {}
      },
      "source": [
        "#implementar a classe Rato (cor, peso, nome), metodos correr, comer, dormir ...\n",
        "# Instanciar os objetos Mickey, Jerry, Stuart Little, Ligeirinho ...\n"
      ],
      "execution_count": 0,
      "outputs": []
    },
    {
      "cell_type": "code",
      "metadata": {
        "id": "lJ2gmmpPyL3-",
        "colab_type": "code",
        "colab": {}
      },
      "source": [
        "class Rato:\n",
        "    def __init__(self, cor, peso, nome):\n",
        "        self.cor = cor\n",
        "        self.peso = peso\n",
        "        self.nome = nome\n",
        "        \n",
        "    def correr(self):\n",
        "        self.peso -= 10\n",
        "        return f'Peso é igual a {self.peso}'\n",
        "\n",
        "    def comer(self):\n",
        "        self.peso += 20\n",
        "        return f'Peso é igual a {self.peso}'\n"
      ],
      "execution_count": 0,
      "outputs": []
    },
    {
      "cell_type": "code",
      "metadata": {
        "id": "IbSFo96dOC39",
        "colab_type": "code",
        "outputId": "1ac1b5bc-cc08-43e9-bb9d-80376f4ecd68",
        "colab": {
          "base_uri": "https://localhost:8080/",
          "height": 34
        }
      },
      "source": [
        "mickey = Rato('preto',25, 'Mickey')\n",
        "mickey.cor"
      ],
      "execution_count": 0,
      "outputs": [
        {
          "output_type": "execute_result",
          "data": {
            "text/plain": [
              "'preto'"
            ]
          },
          "metadata": {
            "tags": []
          },
          "execution_count": 61
        }
      ]
    },
    {
      "cell_type": "code",
      "metadata": {
        "id": "Ocr9DFE2OTBl",
        "colab_type": "code",
        "outputId": "7b9ebec4-82ba-4616-b3ed-c5a05b3ba0c7",
        "colab": {
          "base_uri": "https://localhost:8080/",
          "height": 34
        }
      },
      "source": [
        "mickey.nome"
      ],
      "execution_count": 0,
      "outputs": [
        {
          "output_type": "execute_result",
          "data": {
            "text/plain": [
              "'Mickey'"
            ]
          },
          "metadata": {
            "tags": []
          },
          "execution_count": 62
        }
      ]
    },
    {
      "cell_type": "code",
      "metadata": {
        "id": "P6t56HAfOWZ_",
        "colab_type": "code",
        "outputId": "4d8690bc-e0f2-4e31-eb1a-755e76d15943",
        "colab": {
          "base_uri": "https://localhost:8080/",
          "height": 34
        }
      },
      "source": [
        "mickey.correr()"
      ],
      "execution_count": 0,
      "outputs": [
        {
          "output_type": "execute_result",
          "data": {
            "text/plain": [
              "'Peso é igual a 15'"
            ]
          },
          "metadata": {
            "tags": []
          },
          "execution_count": 63
        }
      ]
    },
    {
      "cell_type": "code",
      "metadata": {
        "id": "s5eI59g-OdCF",
        "colab_type": "code",
        "outputId": "d735d307-7306-4622-e601-ba439d13a718",
        "colab": {
          "base_uri": "https://localhost:8080/",
          "height": 34
        }
      },
      "source": [
        "mickey.comer()"
      ],
      "execution_count": 0,
      "outputs": [
        {
          "output_type": "execute_result",
          "data": {
            "text/plain": [
              "'Peso é igual a 35'"
            ]
          },
          "metadata": {
            "tags": []
          },
          "execution_count": 64
        }
      ]
    },
    {
      "cell_type": "markdown",
      "metadata": {
        "id": "FNHPVzew8f_w",
        "colab_type": "text"
      },
      "source": [
        "# Operações com números"
      ]
    },
    {
      "cell_type": "markdown",
      "metadata": {
        "id": "0FhYzdie8mW5",
        "colab_type": "text"
      },
      "source": [
        "## +, -, \\*, **, /, //, %"
      ]
    },
    {
      "cell_type": "code",
      "metadata": {
        "id": "Bg159IL18OFb",
        "colab_type": "code",
        "outputId": "5b7ce786-bc56-4ef5-877b-e75204b3fc08",
        "colab": {
          "base_uri": "https://localhost:8080/",
          "height": 34
        }
      },
      "source": [
        "8 + 25"
      ],
      "execution_count": 0,
      "outputs": [
        {
          "output_type": "execute_result",
          "data": {
            "text/plain": [
              "33"
            ]
          },
          "metadata": {
            "tags": []
          },
          "execution_count": 65
        }
      ]
    },
    {
      "cell_type": "code",
      "metadata": {
        "id": "1_2P9JC_9HYF",
        "colab_type": "code",
        "outputId": "8f5cb6aa-7112-45db-a892-bcae269260e0",
        "colab": {
          "base_uri": "https://localhost:8080/",
          "height": 34
        }
      },
      "source": [
        "52 - 100"
      ],
      "execution_count": 0,
      "outputs": [
        {
          "output_type": "execute_result",
          "data": {
            "text/plain": [
              "-48"
            ]
          },
          "metadata": {
            "tags": []
          },
          "execution_count": 66
        }
      ]
    },
    {
      "cell_type": "code",
      "metadata": {
        "id": "YRFN4H5i7WVy",
        "colab_type": "code",
        "outputId": "97b6aee0-e720-4f9c-f621-34956fe342d5",
        "colab": {
          "base_uri": "https://localhost:8080/",
          "height": 34
        }
      },
      "source": [
        "25 * 69"
      ],
      "execution_count": 0,
      "outputs": [
        {
          "output_type": "execute_result",
          "data": {
            "text/plain": [
              "1725"
            ]
          },
          "metadata": {
            "tags": []
          },
          "execution_count": 67
        }
      ]
    },
    {
      "cell_type": "code",
      "metadata": {
        "id": "NvqPJHPIO1Ai",
        "colab_type": "code",
        "outputId": "bed14330-2f5c-404c-eacf-324468ef7b52",
        "colab": {
          "base_uri": "https://localhost:8080/",
          "height": 34
        }
      },
      "source": [
        "100 / 40"
      ],
      "execution_count": 0,
      "outputs": [
        {
          "output_type": "execute_result",
          "data": {
            "text/plain": [
              "2.5"
            ]
          },
          "metadata": {
            "tags": []
          },
          "execution_count": 68
        }
      ]
    },
    {
      "cell_type": "code",
      "metadata": {
        "id": "YaJaRcKHO4rK",
        "colab_type": "code",
        "outputId": "5a50ec99-6117-4cc6-e719-e0e68e654b3c",
        "colab": {
          "base_uri": "https://localhost:8080/",
          "height": 34
        }
      },
      "source": [
        "100 % 40 # resto da divisão inteira"
      ],
      "execution_count": 0,
      "outputs": [
        {
          "output_type": "execute_result",
          "data": {
            "text/plain": [
              "20"
            ]
          },
          "metadata": {
            "tags": []
          },
          "execution_count": 69
        }
      ]
    },
    {
      "cell_type": "code",
      "metadata": {
        "id": "5AskMoDBPAin",
        "colab_type": "code",
        "outputId": "ba590038-72e5-454a-c5e8-2b2e98b794bc",
        "colab": {
          "base_uri": "https://localhost:8080/",
          "height": 34
        }
      },
      "source": [
        "100 // 40 # quociente da divisão inteira"
      ],
      "execution_count": 0,
      "outputs": [
        {
          "output_type": "execute_result",
          "data": {
            "text/plain": [
              "2"
            ]
          },
          "metadata": {
            "tags": []
          },
          "execution_count": 70
        }
      ]
    },
    {
      "cell_type": "code",
      "metadata": {
        "id": "yxRaE6tf9XvQ",
        "colab_type": "code",
        "outputId": "6d7f3a6d-5204-4a6a-ce82-e15af919b3e1",
        "colab": {
          "base_uri": "https://localhost:8080/",
          "height": 34
        }
      },
      "source": [
        "a = 2e3 # 2 * 10² # representação exponencial de grandes números\n",
        "type(a)\n",
        "a"
      ],
      "execution_count": 0,
      "outputs": [
        {
          "output_type": "execute_result",
          "data": {
            "text/plain": [
              "2000.0"
            ]
          },
          "metadata": {
            "tags": []
          },
          "execution_count": 71
        }
      ]
    },
    {
      "cell_type": "code",
      "metadata": {
        "id": "56hbrJkeZRLb",
        "colab_type": "code",
        "outputId": "93bad30b-1ea7-4907-fc51-2f33f6adaea6",
        "colab": {
          "base_uri": "https://localhost:8080/",
          "height": 34
        }
      },
      "source": [
        "2**3 # exponenciação"
      ],
      "execution_count": 0,
      "outputs": [
        {
          "output_type": "execute_result",
          "data": {
            "text/plain": [
              "8"
            ]
          },
          "metadata": {
            "tags": []
          },
          "execution_count": 72
        }
      ]
    },
    {
      "cell_type": "markdown",
      "metadata": {
        "id": "dBC5K8fJCk7l",
        "colab_type": "text"
      },
      "source": [
        "# Tipos Booleanos\n",
        "\n",
        "True, False, None e conectivos"
      ]
    },
    {
      "cell_type": "markdown",
      "metadata": {
        "id": "wjS2GjhWDM5o",
        "colab_type": "text"
      },
      "source": [
        "### Operadores LÓGICOS\n",
        "\n",
        "```\n",
        "<, >, <=, >=, ==, !=\n",
        "```\n",
        "\n"
      ]
    },
    {
      "cell_type": "code",
      "metadata": {
        "id": "vLIdJ6hnZekl",
        "colab_type": "code",
        "outputId": "a432e104-1e81-437c-bf8d-0ee2d8d1ff75",
        "colab": {
          "base_uri": "https://localhost:8080/",
          "height": 34
        }
      },
      "source": [
        "2 > 3"
      ],
      "execution_count": 0,
      "outputs": [
        {
          "output_type": "execute_result",
          "data": {
            "text/plain": [
              "False"
            ]
          },
          "metadata": {
            "tags": []
          },
          "execution_count": 73
        }
      ]
    },
    {
      "cell_type": "code",
      "metadata": {
        "id": "_6WDqfNDZiDk",
        "colab_type": "code",
        "outputId": "17061f6b-946e-48af-e892-a96bbe82683e",
        "colab": {
          "base_uri": "https://localhost:8080/",
          "height": 34
        }
      },
      "source": [
        "nome_01 = \"Fausto\"\n",
        "nome_02 = \"Maria\"\n",
        "nome_01 == nome_02"
      ],
      "execution_count": 0,
      "outputs": [
        {
          "output_type": "execute_result",
          "data": {
            "text/plain": [
              "False"
            ]
          },
          "metadata": {
            "tags": []
          },
          "execution_count": 74
        }
      ]
    },
    {
      "cell_type": "code",
      "metadata": {
        "id": "pLDas2fmZxjN",
        "colab_type": "code",
        "outputId": "33da3f4f-73da-407c-f937-0ef60d5a4ba7",
        "colab": {
          "base_uri": "https://localhost:8080/",
          "height": 34
        }
      },
      "source": [
        "nome_03 = 'Maria'\n",
        "nome_02 == nome_03"
      ],
      "execution_count": 0,
      "outputs": [
        {
          "output_type": "execute_result",
          "data": {
            "text/plain": [
              "True"
            ]
          },
          "metadata": {
            "tags": []
          },
          "execution_count": 75
        }
      ]
    },
    {
      "cell_type": "code",
      "metadata": {
        "id": "G6erkdt0Z5xp",
        "colab_type": "code",
        "outputId": "2bfebe5b-651a-4cbb-d727-368948b4aeea",
        "colab": {
          "base_uri": "https://localhost:8080/",
          "height": 34
        }
      },
      "source": [
        "nome_01 = \"Fausto\"\n",
        "nome_02 = \"Maria\"\n",
        "nome_01 != nome_02"
      ],
      "execution_count": 0,
      "outputs": [
        {
          "output_type": "execute_result",
          "data": {
            "text/plain": [
              "True"
            ]
          },
          "metadata": {
            "tags": []
          },
          "execution_count": 76
        }
      ]
    },
    {
      "cell_type": "code",
      "metadata": {
        "id": "znwLroaYaFnZ",
        "colab_type": "code",
        "colab": {}
      },
      "source": [
        "idade_1 = 20\n",
        "idade_2 = 30\n",
        "idade_3 = 40"
      ],
      "execution_count": 0,
      "outputs": []
    },
    {
      "cell_type": "markdown",
      "metadata": {
        "id": "LnrPFM-vbRwd",
        "colab_type": "text"
      },
      "source": [
        "#### Utilização de or, and e not"
      ]
    },
    {
      "cell_type": "code",
      "metadata": {
        "id": "fApKqOc1aLgL",
        "colab_type": "code",
        "outputId": "da1eb40e-df4f-4c0d-fe9a-1779e2ddd553",
        "colab": {
          "base_uri": "https://localhost:8080/",
          "height": 34
        }
      },
      "source": [
        "idade_1 < idade_2 and idade_2 < 40 # As duas sentenças precisarm ser verdadeiras"
      ],
      "execution_count": 0,
      "outputs": [
        {
          "output_type": "execute_result",
          "data": {
            "text/plain": [
              "True"
            ]
          },
          "metadata": {
            "tags": []
          },
          "execution_count": 78
        }
      ]
    },
    {
      "cell_type": "code",
      "metadata": {
        "id": "LL9pSWroanBZ",
        "colab_type": "code",
        "outputId": "aae1a5a4-d76f-44fa-9446-8ae1f4dfa9ea",
        "colab": {
          "base_uri": "https://localhost:8080/",
          "height": 34
        }
      },
      "source": [
        "idade_1 == idade_2 or idade_2 < 40 # Um dass sentenças precisarm ser verdadeiras"
      ],
      "execution_count": 0,
      "outputs": [
        {
          "output_type": "execute_result",
          "data": {
            "text/plain": [
              "True"
            ]
          },
          "metadata": {
            "tags": []
          },
          "execution_count": 79
        }
      ]
    },
    {
      "cell_type": "code",
      "metadata": {
        "id": "NtvOwKOea2JJ",
        "colab_type": "code",
        "outputId": "d172607c-e81d-49bc-ca9d-e5baf94e13bc",
        "colab": {
          "base_uri": "https://localhost:8080/",
          "height": 34
        }
      },
      "source": [
        "idade_1 == idade_2 or idade_2 > 40"
      ],
      "execution_count": 0,
      "outputs": [
        {
          "output_type": "execute_result",
          "data": {
            "text/plain": [
              "False"
            ]
          },
          "metadata": {
            "tags": []
          },
          "execution_count": 80
        }
      ]
    },
    {
      "cell_type": "code",
      "metadata": {
        "id": "bvU0dUxva-j9",
        "colab_type": "code",
        "outputId": "76ff7458-e9c7-4395-8dc2-b98f8458e580",
        "colab": {
          "base_uri": "https://localhost:8080/",
          "height": 34
        }
      },
      "source": [
        "not True"
      ],
      "execution_count": 0,
      "outputs": [
        {
          "output_type": "execute_result",
          "data": {
            "text/plain": [
              "False"
            ]
          },
          "metadata": {
            "tags": []
          },
          "execution_count": 81
        }
      ]
    },
    {
      "cell_type": "code",
      "metadata": {
        "id": "g5KcWE-ubB-S",
        "colab_type": "code",
        "outputId": "4330b268-2a64-4d99-d8f7-c7d7536a271d",
        "colab": {
          "base_uri": "https://localhost:8080/",
          "height": 34
        }
      },
      "source": [
        "not False"
      ],
      "execution_count": 0,
      "outputs": [
        {
          "output_type": "execute_result",
          "data": {
            "text/plain": [
              "True"
            ]
          },
          "metadata": {
            "tags": []
          },
          "execution_count": 82
        }
      ]
    },
    {
      "cell_type": "code",
      "metadata": {
        "id": "7JDcAJ6WbHzR",
        "colab_type": "code",
        "outputId": "24d868cb-70a4-420d-94ef-a12b8bc63cb4",
        "colab": {
          "base_uri": "https://localhost:8080/",
          "height": 34
        }
      },
      "source": [
        "not idade_1 == idade_2 or idade_2 > 40 # Inverte o resultado final"
      ],
      "execution_count": 0,
      "outputs": [
        {
          "output_type": "execute_result",
          "data": {
            "text/plain": [
              "True"
            ]
          },
          "metadata": {
            "tags": []
          },
          "execution_count": 83
        }
      ]
    },
    {
      "cell_type": "code",
      "metadata": {
        "id": "qNS07MpvCpo4",
        "colab_type": "code",
        "outputId": "5ecf0aea-c1dd-4488-993d-2a0cc0a78114",
        "colab": {
          "base_uri": "https://localhost:8080/",
          "height": 68
        }
      },
      "source": [
        "# O que será impresso pelo programa?\n",
        "print(9 > 3) # True\n",
        "print ((3 * 4) / 2 != (2 * 3)) # False\n",
        "a = 1\n",
        "b = -1\n",
        "print(a != b) # True"
      ],
      "execution_count": 0,
      "outputs": [
        {
          "output_type": "stream",
          "text": [
            "True\n",
            "False\n",
            "True\n"
          ],
          "name": "stdout"
        }
      ]
    },
    {
      "cell_type": "code",
      "metadata": {
        "id": "wMizvf5LcBCq",
        "colab_type": "code",
        "outputId": "d0122374-12f4-41c0-d241-882779b6b95c",
        "colab": {
          "base_uri": "https://localhost:8080/",
          "height": 34
        }
      },
      "source": [
        "x = 0\n",
        "y = 0\n",
        "x <= y"
      ],
      "execution_count": 0,
      "outputs": [
        {
          "output_type": "execute_result",
          "data": {
            "text/plain": [
              "True"
            ]
          },
          "metadata": {
            "tags": []
          },
          "execution_count": 85
        }
      ]
    },
    {
      "cell_type": "markdown",
      "metadata": {
        "id": "mxhRK9L8c2C_",
        "colab_type": "text"
      },
      "source": [
        "# Estrutura de decisão"
      ]
    },
    {
      "cell_type": "code",
      "metadata": {
        "id": "yWCCuFo9G8Ym",
        "colab_type": "code",
        "colab": {}
      },
      "source": [
        "## Blocos por indentação -> while, for, if, elif, else, def ... "
      ],
      "execution_count": 0,
      "outputs": []
    },
    {
      "cell_type": "code",
      "metadata": {
        "id": "CGau1Uf8IfgV",
        "colab_type": "code",
        "outputId": "58d5d319-83e9-4c81-86ec-1132a8f9f14d",
        "colab": {
          "base_uri": "https://localhost:8080/",
          "height": 51
        }
      },
      "source": [
        "x = 600\n",
        "y = 60\n",
        "\n",
        "if x == y:\n",
        "    print('Mesmo valor')\n",
        "    print('x é igual a ',x)\n",
        "    print('y é igual a ',y)\n",
        "elif x > y:\n",
        "    print('x é maior que y')\n",
        "else:\n",
        "    print('não sei resolver x e y')\n",
        "    print('Sei sim, o y é maior que x')\n",
        "\n",
        "print('Acabou')"
      ],
      "execution_count": 0,
      "outputs": [
        {
          "output_type": "stream",
          "text": [
            "x é maior que y\n",
            "Acabou\n"
          ],
          "name": "stdout"
        }
      ]
    },
    {
      "cell_type": "markdown",
      "metadata": {
        "id": "s4254JNq75Jp",
        "colab_type": "text"
      },
      "source": [
        "### Exercício Resolvido\n",
        "\n",
        "Crie um programa que lê o numero de segundos (um inteiro) e diz\n",
        "quantos dias, horas, minutos e segundos são essa quantidade de\n",
        "segundos."
      ]
    },
    {
      "cell_type": "code",
      "metadata": {
        "id": "MMLq6otW8GMA",
        "colab_type": "code",
        "outputId": "43c9008d-c413-430e-8fa3-59e14e1d0cbe",
        "colab": {
          "base_uri": "https://localhost:8080/",
          "height": 51
        }
      },
      "source": [
        "segundos_original = int(input('Digite um número inteiro: '))\n",
        "\n",
        "minutos = segundos_original // 60\n",
        "segundos = segundos_original % 60\n",
        "\n",
        "horas = minutos // 60\n",
        "minutos = minutos % 60\n",
        "\n",
        "dias = horas // 24\n",
        "horas = horas % 24\n",
        "\n",
        "print(segundos_original,'segundos representa',dias,'dias,',horas,'horas,',minutos,'minutos e',segundos,'segundos.')"
      ],
      "execution_count": 0,
      "outputs": [
        {
          "output_type": "stream",
          "text": [
            "Digite um número inteiro: 2880\n",
            "2880 segundos representa 0 dias, 0 horas, 48 minutos e 0 segundos.\n"
          ],
          "name": "stdout"
        }
      ]
    },
    {
      "cell_type": "markdown",
      "metadata": {
        "id": "itu7dcvB5B4Y",
        "colab_type": "text"
      },
      "source": [
        "### Exercício 3\n",
        "\n",
        "Faça um programa para uma loja de tintas. O programa deverá pedir o tamanho em metros quadrados da área a ser pintada. Considere que a cobertura da tinta é de 1 litro para cada 3 metros quadrados e que a tinta é vendida em latas de 18 litros, que custam R$ 80,00. Informe ao usuário a quantidades de latas de tinta a serem compradas e o preço total. "
      ]
    },
    {
      "cell_type": "code",
      "metadata": {
        "id": "Y_JzUufSjOVI",
        "colab_type": "code",
        "outputId": "721013b9-1f79-4635-9aa6-652aa493023b",
        "colab": {
          "base_uri": "https://localhost:8080/",
          "height": 51
        }
      },
      "source": [
        "area = int(input('Digite a area em m²: '))\n",
        "\n",
        "litros = area / 3\n",
        "\n",
        "latas = litros // 18 # (divisao inteira)\n",
        "resto_tinta = litros % 18 # (resto da divisão)\n",
        "\n",
        "if latas < 1:\n",
        "    latas = 1\n",
        "elif resto_tinta == 0:\n",
        "    latas = latas\n",
        "else:\n",
        "    latas = latas + 1 \n",
        "\n",
        "print(f'Litros = {litros}, latas = {latas}')"
      ],
      "execution_count": 0,
      "outputs": [
        {
          "output_type": "stream",
          "text": [
            "Digite a area em m²: 55\n",
            "Litros = 18.333333333333332, latas = 2.0\n"
          ],
          "name": "stdout"
        }
      ]
    },
    {
      "cell_type": "markdown",
      "metadata": {
        "id": "k2XVULpkAvL4",
        "colab_type": "text"
      },
      "source": [
        "### Exercício 4\n",
        "Faça um programa que peça 2 números inteiros e um número float. Calcule e mostre:\n",
        "- O produto do dobro do primeiro com a metade do seguno\n",
        "- A soma o triplo do primeiro com o terceiro\n",
        "- O terceiro elevado ao cubo"
      ]
    },
    {
      "cell_type": "markdown",
      "metadata": {
        "id": "SGMsPznCMDGy",
        "colab_type": "text"
      },
      "source": [
        "# Condições Falsas"
      ]
    },
    {
      "cell_type": "code",
      "metadata": {
        "id": "Z0OHdvTyMPEp",
        "colab_type": "code",
        "outputId": "313b4390-e3b2-4243-b9f1-69f58f7631fc",
        "colab": {
          "base_uri": "https://localhost:8080/",
          "height": 34
        }
      },
      "source": [
        "# False, 0, None\n",
        "\n",
        "if 1:\n",
        "    print('1 é melhor que nada')"
      ],
      "execution_count": 0,
      "outputs": [
        {
          "output_type": "stream",
          "text": [
            "1 é melhor que nada\n"
          ],
          "name": "stdout"
        }
      ]
    },
    {
      "cell_type": "code",
      "metadata": {
        "id": "sZDf47Jc23GR",
        "colab_type": "code",
        "colab": {}
      },
      "source": [
        "if None:\n",
        "    print('Nada será impresso')"
      ],
      "execution_count": 0,
      "outputs": []
    },
    {
      "cell_type": "code",
      "metadata": {
        "id": "pqvxH6y_3EnR",
        "colab_type": "code",
        "outputId": "9f53cd7c-fddd-4a0b-b178-a1b7c016f228",
        "colab": {
          "base_uri": "https://localhost:8080/",
          "height": 51
        }
      },
      "source": [
        "# '', [], {} vazios também são falsos\n",
        "\n",
        "resposta = input('Pergunta 1: ')\n",
        "\n",
        "if resposta:\n",
        "    print('tem alguma coisa aí nesse texto')\n",
        "else:\n",
        "    print('Não respondeu, fala aí')"
      ],
      "execution_count": 0,
      "outputs": [
        {
          "output_type": "stream",
          "text": [
            "Pergunta 1: \n",
            "Não respondeu, fala aí\n"
          ],
          "name": "stdout"
        }
      ]
    },
    {
      "cell_type": "code",
      "metadata": {
        "id": "4C4h9ManLkOi",
        "colab_type": "code",
        "outputId": "02621580-9aa2-49f2-df01-5b8fddd0c96a",
        "colab": {
          "base_uri": "https://localhost:8080/",
          "height": 51
        }
      },
      "source": [
        "numero = int(input('Digite um  número [0-10]: '))\n",
        "\n",
        "if numero > 8:\n",
        "    print('Um bom número para nota de prova!!!')\n",
        "elif numero > 5 and numero <=8:\n",
        "    print('Sua nota tá mais ou menos')\n",
        "else:\n",
        "    print('Qualquer nota serve quando sua nota é baixa')"
      ],
      "execution_count": 0,
      "outputs": [
        {
          "output_type": "stream",
          "text": [
            "Digite um  número [0-10]: 5\n",
            "Qualquer nota serve quando sua nota é baixa\n"
          ],
          "name": "stdout"
        }
      ]
    },
    {
      "cell_type": "markdown",
      "metadata": {
        "id": "_up5A-406LwG",
        "colab_type": "text"
      },
      "source": [
        "### Exercício 5\n",
        "Faça um programa para a leitura de duas notas parciais de um aluno. O programa deve calcular a média alcançada por aluno e apresentar:\n",
        "- A mensagem \"Aprovado\", se a média for maior ou igual a sete;\n",
        "-  A mensagem \"Reprovado\", se a média for menor que sete;\n",
        "-  A mensagem \"Aprovado com Distinção\", se a média for igual a dez."
      ]
    },
    {
      "cell_type": "code",
      "metadata": {
        "id": "OTrcSZyH7RfC",
        "colab_type": "code",
        "colab": {}
      },
      "source": [
        ""
      ],
      "execution_count": 0,
      "outputs": []
    },
    {
      "cell_type": "markdown",
      "metadata": {
        "id": "vrbc2o7D3poj",
        "colab_type": "text"
      },
      "source": [
        "### Exercício 6\n",
        "\n",
        "- Pedir o preço de 3 produtos e escolher o menor preço"
      ]
    },
    {
      "cell_type": "code",
      "metadata": {
        "id": "fUF7sRFt7SJV",
        "colab_type": "code",
        "colab": {}
      },
      "source": [
        ""
      ],
      "execution_count": 0,
      "outputs": []
    },
    {
      "cell_type": "markdown",
      "metadata": {
        "id": "y-o6tKvT5_RQ",
        "colab_type": "text"
      },
      "source": [
        "# Strings"
      ]
    },
    {
      "cell_type": "code",
      "metadata": {
        "id": "bWbYC9x44S0m",
        "colab_type": "code",
        "colab": {}
      },
      "source": [
        "brian = 'ROMANES EUNT DOMUS' # aspas simples\n",
        "virgilio = \"Omnia tempus habent\" # aspas duplas\n",
        "\n",
        "# multilinhas:\n",
        "horacio = \"\"\"Carpie diem,\n",
        "quam minimum\n",
        "credula postero\"\"\""
      ],
      "execution_count": 0,
      "outputs": []
    },
    {
      "cell_type": "code",
      "metadata": {
        "id": "kvZwhQVs7DxF",
        "colab_type": "code",
        "outputId": "725271f3-cf5e-490b-8616-557a3f01af8a",
        "colab": {
          "base_uri": "https://localhost:8080/",
          "height": 34
        }
      },
      "source": [
        "brian"
      ],
      "execution_count": 0,
      "outputs": [
        {
          "output_type": "execute_result",
          "data": {
            "text/plain": [
              "'ROMANES EUNT DOMUS'"
            ]
          },
          "metadata": {
            "tags": []
          },
          "execution_count": 100
        }
      ]
    },
    {
      "cell_type": "code",
      "metadata": {
        "id": "Ol_gBgza7KW8",
        "colab_type": "code",
        "outputId": "76a1bb39-cdbc-4b6f-d81e-dfb6c9154cc0",
        "colab": {
          "base_uri": "https://localhost:8080/",
          "height": 68
        }
      },
      "source": [
        "print(horacio)"
      ],
      "execution_count": 0,
      "outputs": [
        {
          "output_type": "stream",
          "text": [
            "Carpie diem,\n",
            "quam minimum\n",
            "credula postero\n"
          ],
          "name": "stdout"
        }
      ]
    },
    {
      "cell_type": "code",
      "metadata": {
        "id": "JMYs255L7ima",
        "colab_type": "code",
        "colab": {}
      },
      "source": [
        "frase = 'eu sei \"um pouco\" de programacao'"
      ],
      "execution_count": 0,
      "outputs": []
    },
    {
      "cell_type": "code",
      "metadata": {
        "id": "nZGS6DZM72Hy",
        "colab_type": "code",
        "outputId": "212fb011-d49f-47be-9e89-db6bd7ed2c24",
        "colab": {
          "base_uri": "https://localhost:8080/",
          "height": 34
        }
      },
      "source": [
        "frase"
      ],
      "execution_count": 0,
      "outputs": [
        {
          "output_type": "execute_result",
          "data": {
            "text/plain": [
              "'eu sei \"um pouco\" de programacao'"
            ]
          },
          "metadata": {
            "tags": []
          },
          "execution_count": 103
        }
      ]
    },
    {
      "cell_type": "code",
      "metadata": {
        "id": "-u-V92EU73A-",
        "colab_type": "code",
        "outputId": "3c7ccb1b-7e4e-4ad4-dd10-5f38f7ac1f17",
        "colab": {
          "base_uri": "https://localhost:8080/",
          "height": 34
        }
      },
      "source": [
        "print(frase)"
      ],
      "execution_count": 0,
      "outputs": [
        {
          "output_type": "stream",
          "text": [
            "eu sei \"um pouco\" de programacao\n"
          ],
          "name": "stdout"
        }
      ]
    },
    {
      "cell_type": "markdown",
      "metadata": {
        "id": "Dnk02RXU7-vN",
        "colab_type": "text"
      },
      "source": [
        "### Concatenação"
      ]
    },
    {
      "cell_type": "code",
      "metadata": {
        "id": "bmWse02474pj",
        "colab_type": "code",
        "outputId": "e6941142-5b89-44ef-8016-30545afe47c1",
        "colab": {
          "base_uri": "https://localhost:8080/",
          "height": 34
        }
      },
      "source": [
        "brian.capitalize()"
      ],
      "execution_count": 0,
      "outputs": [
        {
          "output_type": "execute_result",
          "data": {
            "text/plain": [
              "'Romanes eunt domus'"
            ]
          },
          "metadata": {
            "tags": []
          },
          "execution_count": 105
        }
      ]
    },
    {
      "cell_type": "code",
      "metadata": {
        "id": "XQhRsrUL8FDH",
        "colab_type": "code",
        "outputId": "4b3ee102-cf54-4cc7-bd13-512c08dfc333",
        "colab": {
          "base_uri": "https://localhost:8080/",
          "height": 34
        }
      },
      "source": [
        "brian.lower()"
      ],
      "execution_count": 0,
      "outputs": [
        {
          "output_type": "execute_result",
          "data": {
            "text/plain": [
              "'romanes eunt domus'"
            ]
          },
          "metadata": {
            "tags": []
          },
          "execution_count": 106
        }
      ]
    },
    {
      "cell_type": "code",
      "metadata": {
        "id": "bzmea1E48Jrw",
        "colab_type": "code",
        "outputId": "0d3ef1e0-2a2e-4964-cc85-1642b5d85605",
        "colab": {
          "base_uri": "https://localhost:8080/",
          "height": 34
        }
      },
      "source": [
        "brian + brian.capitalize()"
      ],
      "execution_count": 0,
      "outputs": [
        {
          "output_type": "execute_result",
          "data": {
            "text/plain": [
              "'ROMANES EUNT DOMUSRomanes eunt domus'"
            ]
          },
          "metadata": {
            "tags": []
          },
          "execution_count": 107
        }
      ]
    },
    {
      "cell_type": "code",
      "metadata": {
        "id": "TJQBWyVVNq4y",
        "colab_type": "code",
        "outputId": "b7488221-f888-4fdb-e36d-69f9efd71ec5",
        "colab": {
          "base_uri": "https://localhost:8080/",
          "height": 34
        }
      },
      "source": [
        "virgilio * 2"
      ],
      "execution_count": 0,
      "outputs": [
        {
          "output_type": "execute_result",
          "data": {
            "text/plain": [
              "'Omnia tempus habentOmnia tempus habent'"
            ]
          },
          "metadata": {
            "tags": []
          },
          "execution_count": 108
        }
      ]
    },
    {
      "cell_type": "code",
      "metadata": {
        "id": "__Fwzhi_NwD2",
        "colab_type": "code",
        "outputId": "d776ac8e-8480-47bb-eb96-4fa89abcea30",
        "colab": {
          "base_uri": "https://localhost:8080/",
          "height": 51
        }
      },
      "source": [
        "minha_mensagem = 'Olá Aline, você é muito legal.'\n",
        "outra_mensagem = 'Você tem quantos anos?'\n",
        "print(minha_mensagem + ' ' + outra_mensagem)\n",
        "print('*' * 54)"
      ],
      "execution_count": 0,
      "outputs": [
        {
          "output_type": "stream",
          "text": [
            "Olá Aline, você é muito legal. Você tem quantos anos?\n",
            "******************************************************\n"
          ],
          "name": "stdout"
        }
      ]
    },
    {
      "cell_type": "markdown",
      "metadata": {
        "id": "lN_cDwwp9bOY",
        "colab_type": "text"
      },
      "source": [
        "## Métodos - String"
      ]
    },
    {
      "cell_type": "code",
      "metadata": {
        "id": "cOfT9NyV86L0",
        "colab_type": "code",
        "outputId": "fcca46c6-659f-471c-b02a-cdf180425ba7",
        "colab": {
          "base_uri": "https://localhost:8080/",
          "height": 34
        }
      },
      "source": [
        "a = 'Abracadabra'\n",
        "a.count('a')"
      ],
      "execution_count": 0,
      "outputs": [
        {
          "output_type": "execute_result",
          "data": {
            "text/plain": [
              "4"
            ]
          },
          "metadata": {
            "tags": []
          },
          "execution_count": 110
        }
      ]
    },
    {
      "cell_type": "code",
      "metadata": {
        "id": "K_PpRXwA9PPI",
        "colab_type": "code",
        "outputId": "fb274378-0d3b-46b5-b671-12cb147c5b59",
        "colab": {
          "base_uri": "https://localhost:8080/",
          "height": 34
        }
      },
      "source": [
        "a.lower()"
      ],
      "execution_count": 0,
      "outputs": [
        {
          "output_type": "execute_result",
          "data": {
            "text/plain": [
              "'abracadabra'"
            ]
          },
          "metadata": {
            "tags": []
          },
          "execution_count": 111
        }
      ]
    },
    {
      "cell_type": "code",
      "metadata": {
        "id": "VIt2ERu39rh7",
        "colab_type": "code",
        "outputId": "2aee61b3-b7f5-42c1-b049-6e44317c1dbc",
        "colab": {
          "base_uri": "https://localhost:8080/",
          "height": 34
        }
      },
      "source": [
        "a.index('c')"
      ],
      "execution_count": 0,
      "outputs": [
        {
          "output_type": "execute_result",
          "data": {
            "text/plain": [
              "4"
            ]
          },
          "metadata": {
            "tags": []
          },
          "execution_count": 112
        }
      ]
    },
    {
      "cell_type": "code",
      "metadata": {
        "id": "SmjNhb1l9vRz",
        "colab_type": "code",
        "outputId": "56cf08af-30e8-46bc-bb29-2643cfd75ed7",
        "colab": {
          "base_uri": "https://localhost:8080/",
          "height": 34
        }
      },
      "source": [
        "a.replace('a','c')"
      ],
      "execution_count": 0,
      "outputs": [
        {
          "output_type": "execute_result",
          "data": {
            "text/plain": [
              "'Abrcccdcbrc'"
            ]
          },
          "metadata": {
            "tags": []
          },
          "execution_count": 113
        }
      ]
    },
    {
      "cell_type": "code",
      "metadata": {
        "id": "tiSCHgkT9x9d",
        "colab_type": "code",
        "outputId": "8bd0997c-cae6-42a8-c2b9-e604bd840dd5",
        "colab": {
          "base_uri": "https://localhost:8080/",
          "height": 34
        }
      },
      "source": [
        "b = 'nome,email,telefone,endereco'\n",
        "b.split(',') # retorna uma lista"
      ],
      "execution_count": 0,
      "outputs": [
        {
          "output_type": "execute_result",
          "data": {
            "text/plain": [
              "['nome', 'email', 'telefone', 'endereco']"
            ]
          },
          "metadata": {
            "tags": []
          },
          "execution_count": 114
        }
      ]
    },
    {
      "cell_type": "code",
      "metadata": {
        "id": "upC80bIJ91f7",
        "colab_type": "code",
        "outputId": "5e3ff94b-2d2e-4ed7-ad5e-6c0489c8596c",
        "colab": {
          "base_uri": "https://localhost:8080/",
          "height": 34
        }
      },
      "source": [
        "type(b)"
      ],
      "execution_count": 0,
      "outputs": [
        {
          "output_type": "execute_result",
          "data": {
            "text/plain": [
              "str"
            ]
          },
          "metadata": {
            "tags": []
          },
          "execution_count": 115
        }
      ]
    },
    {
      "cell_type": "code",
      "metadata": {
        "id": "sXUDzGVt97C_",
        "colab_type": "code",
        "outputId": "23c2ff98-9bdf-484c-93e2-9b3f4f04c4d1",
        "colab": {
          "base_uri": "https://localhost:8080/",
          "height": 1000
        }
      },
      "source": [
        "dir(b) # lista os métodos que podem ser usados com o objeto"
      ],
      "execution_count": 0,
      "outputs": [
        {
          "output_type": "execute_result",
          "data": {
            "text/plain": [
              "['__add__',\n",
              " '__class__',\n",
              " '__contains__',\n",
              " '__delattr__',\n",
              " '__dir__',\n",
              " '__doc__',\n",
              " '__eq__',\n",
              " '__format__',\n",
              " '__ge__',\n",
              " '__getattribute__',\n",
              " '__getitem__',\n",
              " '__getnewargs__',\n",
              " '__gt__',\n",
              " '__hash__',\n",
              " '__init__',\n",
              " '__init_subclass__',\n",
              " '__iter__',\n",
              " '__le__',\n",
              " '__len__',\n",
              " '__lt__',\n",
              " '__mod__',\n",
              " '__mul__',\n",
              " '__ne__',\n",
              " '__new__',\n",
              " '__reduce__',\n",
              " '__reduce_ex__',\n",
              " '__repr__',\n",
              " '__rmod__',\n",
              " '__rmul__',\n",
              " '__setattr__',\n",
              " '__sizeof__',\n",
              " '__str__',\n",
              " '__subclasshook__',\n",
              " 'capitalize',\n",
              " 'casefold',\n",
              " 'center',\n",
              " 'count',\n",
              " 'encode',\n",
              " 'endswith',\n",
              " 'expandtabs',\n",
              " 'find',\n",
              " 'format',\n",
              " 'format_map',\n",
              " 'index',\n",
              " 'isalnum',\n",
              " 'isalpha',\n",
              " 'isdecimal',\n",
              " 'isdigit',\n",
              " 'isidentifier',\n",
              " 'islower',\n",
              " 'isnumeric',\n",
              " 'isprintable',\n",
              " 'isspace',\n",
              " 'istitle',\n",
              " 'isupper',\n",
              " 'join',\n",
              " 'ljust',\n",
              " 'lower',\n",
              " 'lstrip',\n",
              " 'maketrans',\n",
              " 'partition',\n",
              " 'replace',\n",
              " 'rfind',\n",
              " 'rindex',\n",
              " 'rjust',\n",
              " 'rpartition',\n",
              " 'rsplit',\n",
              " 'rstrip',\n",
              " 'split',\n",
              " 'splitlines',\n",
              " 'startswith',\n",
              " 'strip',\n",
              " 'swapcase',\n",
              " 'title',\n",
              " 'translate',\n",
              " 'upper',\n",
              " 'zfill']"
            ]
          },
          "metadata": {
            "tags": []
          },
          "execution_count": 116
        }
      ]
    },
    {
      "cell_type": "code",
      "metadata": {
        "id": "SuFO4CAG-BT1",
        "colab_type": "code",
        "outputId": "3d3ecb01-a184-4d59-e492-6d911470e14f",
        "colab": {
          "base_uri": "https://localhost:8080/",
          "height": 34
        }
      },
      "source": [
        "'Evandro Aline Wander Aline'.count('Aline')"
      ],
      "execution_count": 0,
      "outputs": [
        {
          "output_type": "execute_result",
          "data": {
            "text/plain": [
              "2"
            ]
          },
          "metadata": {
            "tags": []
          },
          "execution_count": 117
        }
      ]
    },
    {
      "cell_type": "code",
      "metadata": {
        "id": "AhGAAPZ5-JEi",
        "colab_type": "code",
        "outputId": "035f4066-571e-41d8-8926-c4493ade71a8",
        "colab": {
          "base_uri": "https://localhost:8080/",
          "height": 34
        }
      },
      "source": [
        "frase_02 = 'Eu te odeio!'\n",
        "frase_02.replace('odeio', 'adoro')"
      ],
      "execution_count": 0,
      "outputs": [
        {
          "output_type": "execute_result",
          "data": {
            "text/plain": [
              "'Eu te adoro!'"
            ]
          },
          "metadata": {
            "tags": []
          },
          "execution_count": 118
        }
      ]
    },
    {
      "cell_type": "code",
      "metadata": {
        "id": "r3PbhwEZ-USf",
        "colab_type": "code",
        "outputId": "09be4d05-b4c5-4602-f1a5-fa59263dbd53",
        "colab": {
          "base_uri": "https://localhost:8080/",
          "height": 34
        }
      },
      "source": [
        "'z' in frase_02"
      ],
      "execution_count": 0,
      "outputs": [
        {
          "output_type": "execute_result",
          "data": {
            "text/plain": [
              "False"
            ]
          },
          "metadata": {
            "tags": []
          },
          "execution_count": 119
        }
      ]
    },
    {
      "cell_type": "code",
      "metadata": {
        "id": "zmG1-VNG-nGV",
        "colab_type": "code",
        "outputId": "8f8150fa-36b2-4cf6-8347-225335ac84d9",
        "colab": {
          "base_uri": "https://localhost:8080/",
          "height": 34
        }
      },
      "source": [
        "'Eu' in frase_02"
      ],
      "execution_count": 0,
      "outputs": [
        {
          "output_type": "execute_result",
          "data": {
            "text/plain": [
              "True"
            ]
          },
          "metadata": {
            "tags": []
          },
          "execution_count": 120
        }
      ]
    },
    {
      "cell_type": "code",
      "metadata": {
        "id": "Bli3X1r-_FnX",
        "colab_type": "code",
        "outputId": "091398eb-f356-4563-8c8b-762c7d379092",
        "colab": {
          "base_uri": "https://localhost:8080/",
          "height": 34
        }
      },
      "source": [
        "msg = 'Arthur foi fazer um show de blues'\n",
        "\n",
        "if 'show' in msg:\n",
        "    print('Teve show')\n",
        "else:\n",
        "    print('Não teve show')"
      ],
      "execution_count": 0,
      "outputs": [
        {
          "output_type": "stream",
          "text": [
            "Teve show\n"
          ],
          "name": "stdout"
        }
      ]
    },
    {
      "cell_type": "markdown",
      "metadata": {
        "id": "XZBP939nA7NL",
        "colab_type": "text"
      },
      "source": [
        "## Formatação de Strings"
      ]
    },
    {
      "cell_type": "code",
      "metadata": {
        "id": "_uDV1ZcbAul_",
        "colab_type": "code",
        "outputId": "2e0ad2e4-df29-4023-f235-fb450216f13b",
        "colab": {
          "base_uri": "https://localhost:8080/",
          "height": 34
        }
      },
      "source": [
        "nome = 'Andrea'\n",
        "idade = 40\n",
        "\n",
        "# f-string\n",
        "f'Nome: {nome}, Idade: {idade}'"
      ],
      "execution_count": 0,
      "outputs": [
        {
          "output_type": "execute_result",
          "data": {
            "text/plain": [
              "'Nome: Andrea, Idade: 40'"
            ]
          },
          "metadata": {
            "tags": []
          },
          "execution_count": 122
        }
      ]
    },
    {
      "cell_type": "code",
      "metadata": {
        "id": "CvD0W51fBwUv",
        "colab_type": "code",
        "outputId": "8d16e0e3-4619-4bbb-8f64-fc9f1fa4a02c",
        "colab": {
          "base_uri": "https://localhost:8080/",
          "height": 34
        }
      },
      "source": [
        "# str.format() -> método .format() dos objetos da classe string\n",
        "\n",
        "'Nome: {}, Idade: {}'.format(nome, idade)"
      ],
      "execution_count": 0,
      "outputs": [
        {
          "output_type": "execute_result",
          "data": {
            "text/plain": [
              "'Nome: Andrea, Idade: 40'"
            ]
          },
          "metadata": {
            "tags": []
          },
          "execution_count": 123
        }
      ]
    },
    {
      "cell_type": "code",
      "metadata": {
        "id": "Y9sASgFERMZg",
        "colab_type": "code",
        "outputId": "3e53f2eb-144e-40be-d7e5-1959b7c718b5",
        "colab": {
          "base_uri": "https://localhost:8080/",
          "height": 34
        }
      },
      "source": [
        "print(f'Nome: {nome}, Idade: {idade}')"
      ],
      "execution_count": 0,
      "outputs": [
        {
          "output_type": "stream",
          "text": [
            "Nome: Andrea, Idade: 40\n"
          ],
          "name": "stdout"
        }
      ]
    },
    {
      "cell_type": "markdown",
      "metadata": {
        "id": "UQEzqZ3-CKg8",
        "colab_type": "text"
      },
      "source": [
        "### Exercicio 7\n",
        "Faça um programa que receba uma data de nascimento (15/07/87), neste formato, e imprima: \n",
        "`\"Você nasceu em <dia> de <mes> de <ano>\"`"
      ]
    },
    {
      "cell_type": "code",
      "metadata": {
        "id": "-879zaYmRlhR",
        "colab_type": "code",
        "outputId": "ba50b40b-c733-4db3-964c-2ab96b2a8050",
        "colab": {
          "base_uri": "https://localhost:8080/",
          "height": 34
        }
      },
      "source": [
        "data = '1987-11-15'\n",
        "ano,mes,dia = data.split('-')\n",
        "print(ano)"
      ],
      "execution_count": 0,
      "outputs": [
        {
          "output_type": "stream",
          "text": [
            "1987\n"
          ],
          "name": "stdout"
        }
      ]
    },
    {
      "cell_type": "code",
      "metadata": {
        "id": "hLqS6AvoXpjq",
        "colab_type": "code",
        "colab": {
          "base_uri": "https://localhost:8080/",
          "height": 52
        },
        "outputId": "2149d15e-aba3-4d83-dfb5-c894ce6d76b8"
      },
      "source": [
        "# Revisões e Dúvidas\n",
        "dia = 'x'\n",
        "# Função split()\n",
        "\n",
        "data = input('Digite dua data de aniversário no formato [dd/mm/aaaa]: ')\n",
        "\n",
        "if '-' in data:\n",
        "    separador = '-'\n",
        "    dia,mes,ano = data.split(separador)\n",
        "elif '/' in data:\n",
        "    separador = '/'\n",
        "    dia,mes,ano = data.split(separador)\n",
        "elif '.' in data:\n",
        "    separador = '.'\n",
        "    dia,mes,ano = data.split(separador)\n",
        "else:\n",
        "    print('Data no formato errado')\n",
        "\n",
        "if dia != 'x':\n",
        "    print(f'Você nasceu no dia {dia} do mês {mes} do ano {ano}')\n"
      ],
      "execution_count": 23,
      "outputs": [
        {
          "output_type": "stream",
          "text": [
            "Digite dua data de aniversário no formato [dd/mm/aaaa]: 23.12.2000\n",
            "Você nasceu no dia 23 do mês 12 do ano 2000\n"
          ],
          "name": "stdout"
        }
      ]
    },
    {
      "cell_type": "code",
      "metadata": {
        "id": "Tkczg7AQere1",
        "colab_type": "code",
        "colab": {
          "base_uri": "https://localhost:8080/",
          "height": 87
        },
        "outputId": "563fbe39-8763-4bec-bbde-161b1b81520b"
      },
      "source": [
        "#Função nativas\n",
        "\n",
        "#funcao(argumento)\n",
        "\n",
        "print('uma palavra')\n",
        "\n",
        "numero = -1\n",
        "denominador = 2\n",
        "resultado = numero/denominador\n",
        "print(type(numero))\n",
        "print(type(denominador))\n",
        "print(type(resultado))"
      ],
      "execution_count": 35,
      "outputs": [
        {
          "output_type": "stream",
          "text": [
            "uma palavra\n",
            "<class 'int'>\n",
            "<class 'int'>\n",
            "<class 'float'>\n"
          ],
          "name": "stdout"
        }
      ]
    },
    {
      "cell_type": "markdown",
      "metadata": {
        "id": "fZg1THRPF2oF",
        "colab_type": "text"
      },
      "source": [
        "# Laços de repetição"
      ]
    },
    {
      "cell_type": "code",
      "metadata": {
        "id": "cx1f0UKDFAB3",
        "colab_type": "code",
        "colab": {
          "base_uri": "https://localhost:8080/",
          "height": 175
        },
        "outputId": "d8e564d2-399e-42c7-845d-27e4985869bd"
      },
      "source": [
        "# while (enquanto)\n",
        "\n",
        "resposta = 'Coisa'\n",
        "\n",
        "while resposta != 's':\n",
        "    resposta = input('Vamos beber hoje [s/n]??  ')\n",
        "    print('Deixa de ser chato(a)')\n",
        "\n",
        "print('Então, bora!!!')\n"
      ],
      "execution_count": 39,
      "outputs": [
        {
          "output_type": "stream",
          "text": [
            "Vamos beber hoje [s/n]??  n\n",
            "Deixa de ser chato(a)\n",
            "Vamos beber hoje [s/n]??  não\n",
            "Deixa de ser chato(a)\n",
            "Vamos beber hoje [s/n]??  de novo não\n",
            "Deixa de ser chato(a)\n",
            "Vamos beber hoje [s/n]??  s\n",
            "Deixa de ser chato(a)\n",
            "Então, bora!!!\n"
          ],
          "name": "stdout"
        }
      ]
    },
    {
      "cell_type": "code",
      "metadata": {
        "id": "caGMSTfrHBFW",
        "colab_type": "code",
        "colab": {
          "base_uri": "https://localhost:8080/",
          "height": 52
        },
        "outputId": "31b3dda1-0d23-4c63-e1b3-79f06ad68531"
      },
      "source": [
        "resposta = 0\n",
        "pontos = 100\n",
        "\n",
        "while resposta != 14:\n",
        "    resposta = int(input('Acerte um número de 1 a 20:  '))\n",
        "    if resposta != 14:\n",
        "        print('Você errou')\n",
        "        pontos = pontos - 1\n",
        "\n",
        "print(f'Parabéns, você acertou! Seus pontos foram: {pontos}')"
      ],
      "execution_count": 46,
      "outputs": [
        {
          "output_type": "stream",
          "text": [
            "Acerte um número de 1 a 20:  14\n",
            "Parabéns, você acertou! Seus pontos foram: 100\n"
          ],
          "name": "stdout"
        }
      ]
    },
    {
      "cell_type": "code",
      "metadata": {
        "id": "SzHwr5AjIcHK",
        "colab_type": "code",
        "colab": {
          "base_uri": "https://localhost:8080/",
          "height": 105
        },
        "outputId": "353a1caa-a585-4f24-cc4d-07266a0c9c74"
      },
      "source": [
        "# utilizando o break no while\n",
        "\n",
        "resposta = input('Quer sair comigo [s/n]?  ')\n",
        "\n",
        "while resposta != 's':\n",
        "    resposta = input('Por favor [s/n] ')\n",
        "    if 'chato' in resposta or 'chata' in resposta:\n",
        "        print('Foi mal!!!')\n",
        "        break\n",
        "else:\n",
        "    print('Então bora sair!!!')"
      ],
      "execution_count": 43,
      "outputs": [
        {
          "output_type": "stream",
          "text": [
            "Quer sair comigo [s/n]?  não\n",
            "Por favor [s/n] já disse não\n",
            "Por favor [s/n] nem a pau\n",
            "Por favor [s/n] s\n",
            "Então bora sair!!!\n"
          ],
          "name": "stdout"
        }
      ]
    },
    {
      "cell_type": "markdown",
      "metadata": {
        "id": "7-yg_89nOD72",
        "colab_type": "text"
      },
      "source": [
        "### Exercicio 8\n",
        "Peça para o usuário digite uma nota de 1 a 10 e exiba uma mensagem caso o valor seja inválido, solicitando um novo valor"
      ]
    },
    {
      "cell_type": "code",
      "metadata": {
        "id": "INgYza1y88ZA",
        "colab_type": "code",
        "colab": {}
      },
      "source": [
        "   "
      ],
      "execution_count": 0,
      "outputs": []
    },
    {
      "cell_type": "markdown",
      "metadata": {
        "id": "V5-Mwaxg88_b",
        "colab_type": "text"
      },
      "source": [
        "### Exercício 9\n",
        "Faça um programa que leia 5 números e informe o maior número.\n",
        "\n",
        "Utilize estrutura de while, crie uma variavel para guardar o maior valor, iniciando ela com valor = 0"
      ]
    },
    {
      "cell_type": "code",
      "metadata": {
        "id": "fD7n7qEk9D3A",
        "colab_type": "code",
        "colab": {}
      },
      "source": [
        ""
      ],
      "execution_count": 0,
      "outputs": []
    },
    {
      "cell_type": "code",
      "metadata": {
        "id": "GXAq-H_y93vX",
        "colab_type": "code",
        "colab": {}
      },
      "source": [
        ""
      ],
      "execution_count": 0,
      "outputs": []
    },
    {
      "cell_type": "markdown",
      "metadata": {
        "id": "Vh2x6VErOVXj",
        "colab_type": "text"
      },
      "source": [
        "# FOR"
      ]
    },
    {
      "cell_type": "markdown",
      "metadata": {
        "id": "OXNaVZaMOy7V",
        "colab_type": "text"
      },
      "source": [
        "\n",
        "\n",
        "```\n",
        "for elemento in <iterável>\n",
        "  faça algo\n",
        "else:\n",
        "  faça algo\n",
        "  \n",
        "```\n",
        "\n"
      ]
    },
    {
      "cell_type": "code",
      "metadata": {
        "id": "cxXDw7oYNcP0",
        "colab_type": "code",
        "colab": {
          "base_uri": "https://localhost:8080/",
          "height": 105
        },
        "outputId": "56acb7e5-976a-407e-903d-f93be4f55495"
      },
      "source": [
        "palavra = 'CEPEM'\n",
        "\n",
        "for letra in palavra:\n",
        "    print(letra)"
      ],
      "execution_count": 47,
      "outputs": [
        {
          "output_type": "stream",
          "text": [
            "C\n",
            "E\n",
            "P\n",
            "E\n",
            "M\n"
          ],
          "name": "stdout"
        }
      ]
    },
    {
      "cell_type": "code",
      "metadata": {
        "id": "_s2FJ5FUOvAo",
        "colab_type": "code",
        "colab": {
          "base_uri": "https://localhost:8080/",
          "height": 140
        },
        "outputId": "7376be41-3d6b-4498-f3e7-78d3d839118a"
      },
      "source": [
        "msg = 'Eduardo foi ao GDF renovar sua CNH'.split()\n",
        "\n",
        "for palavra in msg:\n",
        "    print(palavra)"
      ],
      "execution_count": 49,
      "outputs": [
        {
          "output_type": "stream",
          "text": [
            "Eduardo\n",
            "foi\n",
            "ao\n",
            "GDF\n",
            "renovar\n",
            "sua\n",
            "CNH\n"
          ],
          "name": "stdout"
        }
      ]
    },
    {
      "cell_type": "code",
      "metadata": {
        "id": "Sh2JG-uSP962",
        "colab_type": "code",
        "colab": {
          "base_uri": "https://localhost:8080/",
          "height": 703
        },
        "outputId": "5d8e2d16-9487-4646-e88f-fb65eee24f4b"
      },
      "source": [
        "palavras = 'varias palavras numa mesma frAse grande'\n",
        "vogais = 'AEIOUaeiou'\n",
        "\n",
        "for letra in palavras:\n",
        "    if letra in vogais:\n",
        "        print(f'{letra} é uma vogal')\n",
        "    elif letra == ' ':\n",
        "        print('Apenas um espaço')\n",
        "    else:\n",
        "        print(f'{letra} é uma consoante')\n"
      ],
      "execution_count": 54,
      "outputs": [
        {
          "output_type": "stream",
          "text": [
            "v é uma consoante\n",
            "a é uma vogal\n",
            "r é uma consoante\n",
            "i é uma vogal\n",
            "a é uma vogal\n",
            "s é uma consoante\n",
            "Apenas um espaço\n",
            "p é uma consoante\n",
            "a é uma vogal\n",
            "l é uma consoante\n",
            "a é uma vogal\n",
            "v é uma consoante\n",
            "r é uma consoante\n",
            "a é uma vogal\n",
            "s é uma consoante\n",
            "Apenas um espaço\n",
            "n é uma consoante\n",
            "u é uma vogal\n",
            "m é uma consoante\n",
            "a é uma vogal\n",
            "Apenas um espaço\n",
            "m é uma consoante\n",
            "e é uma vogal\n",
            "s é uma consoante\n",
            "m é uma consoante\n",
            "a é uma vogal\n",
            "Apenas um espaço\n",
            "f é uma consoante\n",
            "r é uma consoante\n",
            "A é uma vogal\n",
            "s é uma consoante\n",
            "e é uma vogal\n",
            "Apenas um espaço\n",
            "g é uma consoante\n",
            "r é uma consoante\n",
            "a é uma vogal\n",
            "n é uma consoante\n",
            "d é uma consoante\n",
            "e é uma vogal\n"
          ],
          "name": "stdout"
        }
      ]
    },
    {
      "cell_type": "markdown",
      "metadata": {
        "id": "mw0Rui429Les",
        "colab_type": "text"
      },
      "source": [
        "### Exercício 10\n",
        "Faça um programa que itera em uma string e toda vez que uma vogal aparecer na sua string imprima a palavra 'vogal' entre as letras\n",
        "\n",
        "\n",
        "```\n",
        "string = banana\n",
        "\n",
        "b\n",
        "vogal\n",
        "n\n",
        "vogal\n",
        "...\n",
        "```\n",
        "\n"
      ]
    },
    {
      "cell_type": "markdown",
      "metadata": {
        "id": "MsvfuNO_SzXT",
        "colab_type": "text"
      },
      "source": [
        "# Listas"
      ]
    },
    {
      "cell_type": "code",
      "metadata": {
        "id": "c_hGFyC3SStf",
        "colab_type": "code",
        "colab": {}
      },
      "source": [
        ""
      ],
      "execution_count": 0,
      "outputs": []
    },
    {
      "cell_type": "code",
      "metadata": {
        "id": "MvZl_PscT0ow",
        "colab_type": "code",
        "colab": {}
      },
      "source": [
        ""
      ],
      "execution_count": 0,
      "outputs": []
    },
    {
      "cell_type": "code",
      "metadata": {
        "id": "1psoazHmT-4i",
        "colab_type": "code",
        "colab": {}
      },
      "source": [
        ""
      ],
      "execution_count": 0,
      "outputs": []
    },
    {
      "cell_type": "code",
      "metadata": {
        "id": "IM3iL10CUE0o",
        "colab_type": "code",
        "colab": {}
      },
      "source": [
        ""
      ],
      "execution_count": 0,
      "outputs": []
    },
    {
      "cell_type": "code",
      "metadata": {
        "id": "plXnVLrFUcKY",
        "colab_type": "code",
        "colab": {}
      },
      "source": [
        ""
      ],
      "execution_count": 0,
      "outputs": []
    },
    {
      "cell_type": "code",
      "metadata": {
        "id": "3-xpCgmOUwmM",
        "colab_type": "code",
        "colab": {}
      },
      "source": [
        ""
      ],
      "execution_count": 0,
      "outputs": []
    },
    {
      "cell_type": "code",
      "metadata": {
        "id": "UZsbgXcMU3fd",
        "colab_type": "code",
        "colab": {}
      },
      "source": [
        ""
      ],
      "execution_count": 0,
      "outputs": []
    },
    {
      "cell_type": "code",
      "metadata": {
        "id": "JThOQPjnVED9",
        "colab_type": "code",
        "colab": {}
      },
      "source": [
        ""
      ],
      "execution_count": 0,
      "outputs": []
    },
    {
      "cell_type": "code",
      "metadata": {
        "id": "Lvvk4OxtVG-G",
        "colab_type": "code",
        "colab": {}
      },
      "source": [
        ""
      ],
      "execution_count": 0,
      "outputs": []
    },
    {
      "cell_type": "markdown",
      "metadata": {
        "id": "hjcgW7bV9nPn",
        "colab_type": "text"
      },
      "source": [
        "### Exercício 11\n",
        "Faça um programa que receba uma string, com um número de ponto flutuante, e imprima qual a parte dele que não é inteira\n",
        "\n",
        "\n",
        "```\n",
        "n = '3.14'\n",
        "resposta: 14\n",
        "```\n",
        "\n"
      ]
    },
    {
      "cell_type": "code",
      "metadata": {
        "id": "CicFGvA1aHEu",
        "colab_type": "code",
        "colab": {}
      },
      "source": [
        ""
      ],
      "execution_count": 0,
      "outputs": []
    },
    {
      "cell_type": "markdown",
      "metadata": {
        "id": "hiz0nHRXVeWc",
        "colab_type": "text"
      },
      "source": [
        "## Slice - Listas\n",
        "\n",
        "[\\<de onde inclusive\\>**:**\\<até onde não inclusive\\>**:**\\<passos\\>]"
      ]
    },
    {
      "cell_type": "code",
      "metadata": {
        "id": "92nYzkGQVMXH",
        "colab_type": "code",
        "colab": {}
      },
      "source": [
        ""
      ],
      "execution_count": 0,
      "outputs": []
    },
    {
      "cell_type": "code",
      "metadata": {
        "id": "ImAaRZJKVkjF",
        "colab_type": "code",
        "colab": {}
      },
      "source": [
        ""
      ],
      "execution_count": 0,
      "outputs": []
    },
    {
      "cell_type": "code",
      "metadata": {
        "id": "aFvOvNHzVmNW",
        "colab_type": "code",
        "colab": {}
      },
      "source": [
        ""
      ],
      "execution_count": 0,
      "outputs": []
    },
    {
      "cell_type": "code",
      "metadata": {
        "id": "AGAo-Wo5VoU5",
        "colab_type": "code",
        "colab": {}
      },
      "source": [
        ""
      ],
      "execution_count": 0,
      "outputs": []
    },
    {
      "cell_type": "code",
      "metadata": {
        "id": "uKMWsh26VrMR",
        "colab_type": "code",
        "colab": {}
      },
      "source": [
        ""
      ],
      "execution_count": 0,
      "outputs": []
    },
    {
      "cell_type": "code",
      "metadata": {
        "id": "dmV4eaVhVvBD",
        "colab_type": "code",
        "colab": {}
      },
      "source": [
        ""
      ],
      "execution_count": 0,
      "outputs": []
    },
    {
      "cell_type": "code",
      "metadata": {
        "id": "KPEWGfgzV0Yz",
        "colab_type": "code",
        "colab": {}
      },
      "source": [
        ""
      ],
      "execution_count": 0,
      "outputs": []
    },
    {
      "cell_type": "code",
      "metadata": {
        "id": "FZMn4TCDXTwB",
        "colab_type": "code",
        "colab": {}
      },
      "source": [
        ""
      ],
      "execution_count": 0,
      "outputs": []
    },
    {
      "cell_type": "code",
      "metadata": {
        "id": "VveJO0KcXW6h",
        "colab_type": "code",
        "colab": {}
      },
      "source": [
        ""
      ],
      "execution_count": 0,
      "outputs": []
    },
    {
      "cell_type": "code",
      "metadata": {
        "id": "LlpVi9HeXaXZ",
        "colab_type": "code",
        "colab": {}
      },
      "source": [
        ""
      ],
      "execution_count": 0,
      "outputs": []
    },
    {
      "cell_type": "code",
      "metadata": {
        "id": "kLBGfUEbXeM7",
        "colab_type": "code",
        "colab": {}
      },
      "source": [
        ""
      ],
      "execution_count": 0,
      "outputs": []
    },
    {
      "cell_type": "code",
      "metadata": {
        "id": "r6_u5lwAXh38",
        "colab_type": "code",
        "colab": {}
      },
      "source": [
        ""
      ],
      "execution_count": 0,
      "outputs": []
    },
    {
      "cell_type": "code",
      "metadata": {
        "id": "Xjp2h8udX-hq",
        "colab_type": "code",
        "colab": {}
      },
      "source": [
        ""
      ],
      "execution_count": 0,
      "outputs": []
    },
    {
      "cell_type": "code",
      "metadata": {
        "id": "gj6ve887YQ0G",
        "colab_type": "code",
        "colab": {}
      },
      "source": [
        ""
      ],
      "execution_count": 0,
      "outputs": []
    },
    {
      "cell_type": "code",
      "metadata": {
        "id": "lXYynY5kYZjz",
        "colab_type": "code",
        "colab": {}
      },
      "source": [
        ""
      ],
      "execution_count": 0,
      "outputs": []
    },
    {
      "cell_type": "code",
      "metadata": {
        "id": "ERXaWC17YefA",
        "colab_type": "code",
        "colab": {}
      },
      "source": [
        ""
      ],
      "execution_count": 0,
      "outputs": []
    },
    {
      "cell_type": "markdown",
      "metadata": {
        "id": "xdpF5BhqZrdp",
        "colab_type": "text"
      },
      "source": [
        "## Métodos - Listas"
      ]
    },
    {
      "cell_type": "code",
      "metadata": {
        "id": "J5GxI70fYwwr",
        "colab_type": "code",
        "colab": {}
      },
      "source": [
        ""
      ],
      "execution_count": 0,
      "outputs": []
    },
    {
      "cell_type": "code",
      "metadata": {
        "id": "Cy2GfCoLZzOD",
        "colab_type": "code",
        "colab": {}
      },
      "source": [
        ""
      ],
      "execution_count": 0,
      "outputs": []
    },
    {
      "cell_type": "code",
      "metadata": {
        "id": "2kw4kti8Z1sI",
        "colab_type": "code",
        "colab": {}
      },
      "source": [
        ""
      ],
      "execution_count": 0,
      "outputs": []
    },
    {
      "cell_type": "code",
      "metadata": {
        "id": "xUxkZ1MdaA5a",
        "colab_type": "code",
        "colab": {}
      },
      "source": [
        ""
      ],
      "execution_count": 0,
      "outputs": []
    },
    {
      "cell_type": "code",
      "metadata": {
        "id": "psWBMq52aLo9",
        "colab_type": "code",
        "colab": {}
      },
      "source": [
        ""
      ],
      "execution_count": 0,
      "outputs": []
    },
    {
      "cell_type": "code",
      "metadata": {
        "id": "bhac3NthaRRw",
        "colab_type": "code",
        "colab": {}
      },
      "source": [
        ""
      ],
      "execution_count": 0,
      "outputs": []
    },
    {
      "cell_type": "code",
      "metadata": {
        "id": "oUrTiTzPaULr",
        "colab_type": "code",
        "colab": {}
      },
      "source": [
        ""
      ],
      "execution_count": 0,
      "outputs": []
    },
    {
      "cell_type": "code",
      "metadata": {
        "id": "OqwciaPNaawt",
        "colab_type": "code",
        "colab": {}
      },
      "source": [
        ""
      ],
      "execution_count": 0,
      "outputs": []
    },
    {
      "cell_type": "markdown",
      "metadata": {
        "id": "yrBINqRC-DPN",
        "colab_type": "text"
      },
      "source": [
        "### Exercício 12\n",
        "Faça um programa que: Dada uma lista [1, 2, 3, 4, 5, 6, 7, 8, 9, 10] e um número inteiro, imprima a tabuada desse número."
      ]
    },
    {
      "cell_type": "code",
      "metadata": {
        "id": "12AVWQ5NacW2",
        "colab_type": "code",
        "colab": {}
      },
      "source": [
        ""
      ],
      "execution_count": 0,
      "outputs": []
    },
    {
      "cell_type": "markdown",
      "metadata": {
        "id": "etJPXwxm-WcC",
        "colab_type": "text"
      },
      "source": [
        "### Exercício 13\n",
        "Faça um programa que dada a entrada de uma lista ele faça o cálculo acumulativo da mesma:\n",
        "\n",
        "\n",
        "\n",
        "```\n",
        "Exemplo:\n",
        "Entrada: [1, 2, 3, 4]\n",
        "Saída: [1, 3, 6, 10]\n",
        "```\n",
        "\n"
      ]
    },
    {
      "cell_type": "code",
      "metadata": {
        "id": "ZD0IXEAK-xRN",
        "colab_type": "code",
        "colab": {}
      },
      "source": [
        ""
      ],
      "execution_count": 0,
      "outputs": []
    },
    {
      "cell_type": "markdown",
      "metadata": {
        "id": "6CZr5Qrc-vzY",
        "colab_type": "text"
      },
      "source": [
        "### Exercício 14\n",
        "Faça um programa que dada a entrada de uma lista o programa calcule a combinatória de dois elementos e nos retorne as combinações em uma nova lista.\n",
        "\n",
        "######## Resolver ao vivo\n",
        "\n",
        "```\n",
        "Exemplo de entrada: [1, 2, 3, 4]\n",
        "Exemplo de saída: [[1, 2], [1, 3], [1, 4], [2, 3], [2, 4], [3, 4]]\n",
        "\n",
        "```\n",
        "\n"
      ]
    },
    {
      "cell_type": "code",
      "metadata": {
        "id": "FbMxPHDWguSv",
        "colab_type": "code",
        "colab": {}
      },
      "source": [
        ""
      ],
      "execution_count": 0,
      "outputs": []
    },
    {
      "cell_type": "markdown",
      "metadata": {
        "id": "Xkdayh80CklV",
        "colab_type": "text"
      },
      "source": [
        "# Funções\n",
        "![alt text](https://github.com/avellar1975/python/raw/master/img/funcoes.jpg)\n",
        "\n",
        "- O foco deste curso será nas funções nomeadas com return"
      ]
    },
    {
      "cell_type": "markdown",
      "metadata": {
        "id": "xLcQEEndFgFS",
        "colab_type": "text"
      },
      "source": [
        "## Funções Geradoras (yield)\n",
        "A palavra-chave yield, já é conhecida em outras linguagens, como Python, por exemplo. Na verdade, o comando yield é bastante parecido com o comando return, com a diferença que usando yield, a função continua em execução, ou seja, o valor será retornado e a função continuará executando o restante do código.\n",
        "\n"
      ]
    },
    {
      "cell_type": "code",
      "metadata": {
        "id": "IzXs6arKRgAs",
        "colab_type": "code",
        "colab": {}
      },
      "source": [
        ""
      ],
      "execution_count": 0,
      "outputs": []
    },
    {
      "cell_type": "code",
      "metadata": {
        "id": "kyvot1bCR3TS",
        "colab_type": "code",
        "colab": {}
      },
      "source": [
        ""
      ],
      "execution_count": 0,
      "outputs": []
    },
    {
      "cell_type": "code",
      "metadata": {
        "id": "580qYxz7SD0T",
        "colab_type": "code",
        "colab": {}
      },
      "source": [
        ""
      ],
      "execution_count": 0,
      "outputs": []
    },
    {
      "cell_type": "code",
      "metadata": {
        "id": "nLknUmvwSGf6",
        "colab_type": "code",
        "colab": {}
      },
      "source": [
        ""
      ],
      "execution_count": 0,
      "outputs": []
    },
    {
      "cell_type": "markdown",
      "metadata": {
        "id": "hDQSjPGtT-58",
        "colab_type": "text"
      },
      "source": [
        "## Funções lambda (anônimas)\n",
        "\n",
        "Funções lambda nada mais são do que funções anônimas. Enquanto funções normais podem ser criada utilizando def como prefixo, as funções lambda são criadas utilizando lambda."
      ]
    },
    {
      "cell_type": "code",
      "metadata": {
        "id": "9KqPsp-eUSQf",
        "colab_type": "code",
        "colab": {}
      },
      "source": [
        ""
      ],
      "execution_count": 0,
      "outputs": []
    },
    {
      "cell_type": "code",
      "metadata": {
        "id": "m4S92Ra_UZJF",
        "colab_type": "code",
        "colab": {}
      },
      "source": [
        ""
      ],
      "execution_count": 0,
      "outputs": []
    },
    {
      "cell_type": "markdown",
      "metadata": {
        "id": "pzQIOGxCVHGW",
        "colab_type": "text"
      },
      "source": [
        "## Funções nomeadas (\"normais\")\n",
        "Funções são blocos de códigos que podemos identificá-los por um determinado nome e passar parâmetros predeterminados.\n",
        "\n"
      ]
    },
    {
      "cell_type": "markdown",
      "metadata": {
        "id": "mDwdNMQ2YDLJ",
        "colab_type": "text"
      },
      "source": [
        "\n",
        "\n",
        "```\n",
        "def nome_funcao(parâmetros):\n",
        "    código\n",
        "    código\n",
        "    código\n",
        "    ...\n",
        "    return algo\n",
        "```\n",
        "\n"
      ]
    },
    {
      "cell_type": "code",
      "metadata": {
        "id": "jJbcYyqCnxWO",
        "colab_type": "code",
        "colab": {}
      },
      "source": [
        ""
      ],
      "execution_count": 0,
      "outputs": []
    },
    {
      "cell_type": "code",
      "metadata": {
        "id": "jEuVq9zyorvj",
        "colab_type": "code",
        "colab": {}
      },
      "source": [
        ""
      ],
      "execution_count": 0,
      "outputs": []
    },
    {
      "cell_type": "code",
      "metadata": {
        "id": "BsOTOs0IYMSP",
        "colab_type": "code",
        "colab": {}
      },
      "source": [
        ""
      ],
      "execution_count": 0,
      "outputs": []
    },
    {
      "cell_type": "code",
      "metadata": {
        "id": "iDEzRIyIpbhE",
        "colab_type": "code",
        "colab": {}
      },
      "source": [
        "# como seria uma funcao para calcular a media dos valores de uma lista?"
      ],
      "execution_count": 0,
      "outputs": []
    },
    {
      "cell_type": "code",
      "metadata": {
        "id": "1WmB8TK_sxe1",
        "colab_type": "code",
        "colab": {}
      },
      "source": [
        ""
      ],
      "execution_count": 0,
      "outputs": []
    },
    {
      "cell_type": "code",
      "metadata": {
        "id": "wUqrUukCs7hH",
        "colab_type": "code",
        "colab": {}
      },
      "source": [
        ""
      ],
      "execution_count": 0,
      "outputs": []
    },
    {
      "cell_type": "code",
      "metadata": {
        "id": "j61FFzBitBc6",
        "colab_type": "code",
        "colab": {}
      },
      "source": [
        ""
      ],
      "execution_count": 0,
      "outputs": []
    },
    {
      "cell_type": "markdown",
      "metadata": {
        "id": "TzRtAlWkujN6",
        "colab_type": "text"
      },
      "source": [
        "### *args\n",
        "É usado para passar um lista de argumentos variável sem palavras-chave em forma de tupla, pois a função que o recebe não necessariamente saberá quantos argumentos serão passados."
      ]
    },
    {
      "cell_type": "code",
      "metadata": {
        "id": "rIi863AXuJMA",
        "colab_type": "code",
        "colab": {}
      },
      "source": [
        ""
      ],
      "execution_count": 0,
      "outputs": []
    },
    {
      "cell_type": "markdown",
      "metadata": {
        "id": "zRrfRbWUwFm0",
        "colab_type": "text"
      },
      "source": [
        "### **kwargs\n",
        "Como a abreviação sugere, kwargs significa keyword arguments (argumentos de palavras chave). Ele permite passar um dicionário com inúmeras keys para a função."
      ]
    },
    {
      "cell_type": "code",
      "metadata": {
        "id": "NM9jIzbrwL1j",
        "colab_type": "code",
        "colab": {}
      },
      "source": [
        ""
      ],
      "execution_count": 0,
      "outputs": []
    },
    {
      "cell_type": "code",
      "metadata": {
        "id": "RpI6iexfw3JN",
        "colab_type": "code",
        "colab": {}
      },
      "source": [
        ""
      ],
      "execution_count": 0,
      "outputs": []
    },
    {
      "cell_type": "code",
      "metadata": {
        "id": "nJLmJRRgw-0T",
        "colab_type": "code",
        "colab": {}
      },
      "source": [
        ""
      ],
      "execution_count": 0,
      "outputs": []
    },
    {
      "cell_type": "markdown",
      "metadata": {
        "id": "Br5Qu2Ly2AyK",
        "colab_type": "text"
      },
      "source": [
        "### Exercício 15\n",
        "Faça um programa, com uma função, que calcule a média de uma lista.\n",
        "Funções nativas que pode ajudar:\n",
        "- len(lista) -> calcula o tamanho da lista\n",
        "- sum(lista) -> faz o somatória dos valores\n",
        "\n",
        "\n",
        "\n",
        "```\n",
        "Exemplo de entrada: [1, 3, 4, 6, 11]\n",
        "Exemplo de saída: Média: 5.0\n",
        "```"
      ]
    },
    {
      "cell_type": "markdown",
      "metadata": {
        "id": "FJaHpo6Q2k1p",
        "colab_type": "text"
      },
      "source": [
        "### Exercício 16\n",
        "Faça um programa, com uma função, que calcula a mediana de uma lista.\n",
        "Funções embutidas que podem te ajudar:\n",
        "- sorted(lista) -> ordena a lista\n",
        "\n",
        "\n",
        "\n",
        "```\n",
        "lista = [7, 4, 4, 5, 1, 7, 7, 6]\n",
        "Mediana: 5.5\n",
        "\n",
        "lista = [9, 2, 8, 9, 3, 2, 7]\n",
        "Mediana: 7\n",
        "```\n",
        "\n"
      ]
    },
    {
      "cell_type": "code",
      "metadata": {
        "id": "xLprJZTP2roj",
        "colab_type": "code",
        "colab": {}
      },
      "source": [
        ""
      ],
      "execution_count": 0,
      "outputs": []
    },
    {
      "cell_type": "markdown",
      "metadata": {
        "id": "hmW0jT453ANl",
        "colab_type": "text"
      },
      "source": [
        "\n",
        "### Exercício 17\n",
        "Escreva uma função chamada **ajustar**, que receba uma string chamada s como parâmetro e exiba a string com espaços suficientes à frente para que a última letra da string esteja na coluna 70 da tela:\n",
        "\n",
        "Dica: Use concatenação de strings. Além disso, o Python oferece uma função integrada chamada len, que apresenta o comprimento de uma string, então o valor de len('cepem') é 5."
      ]
    },
    {
      "cell_type": "code",
      "metadata": {
        "id": "Isb6JfZw3FGa",
        "colab_type": "code",
        "colab": {}
      },
      "source": [
        ""
      ],
      "execution_count": 0,
      "outputs": []
    },
    {
      "cell_type": "markdown",
      "metadata": {
        "id": "LGMs76p23Fmr",
        "colab_type": "text"
      },
      "source": [
        "### Exercício 18\n",
        "Faça um programa com uma função chamada somaImposto. A função possui dois parâmetros formais: **taxaImposto**, que é a quantia de imposto sobre vendas expressa em porcentagem e **custo**, que é o custo de um item antes do imposto. A função “altera” o valor de custo para incluir o imposto sobre vendas.\n",
        "\n",
        "\n",
        "\n",
        "```\n",
        "Exemplo: \n",
        "\n",
        "somaImposto(10, 130.00)\n",
        "\n",
        "Saída: 143.00\n",
        "```\n",
        "\n"
      ]
    },
    {
      "cell_type": "code",
      "metadata": {
        "id": "2fTQqip038xC",
        "colab_type": "code",
        "colab": {}
      },
      "source": [
        ""
      ],
      "execution_count": 0,
      "outputs": []
    },
    {
      "cell_type": "markdown",
      "metadata": {
        "id": "u27tAkz539Y6",
        "colab_type": "text"
      },
      "source": [
        "# Tuplas"
      ]
    },
    {
      "cell_type": "markdown",
      "metadata": {
        "id": "TKf8w7sJ4JSk",
        "colab_type": "text"
      },
      "source": [
        "x = (1,2,3)\n",
        "- Elas não são só listas imutáveis"
      ]
    },
    {
      "cell_type": "code",
      "metadata": {
        "id": "Fx5EjokZ4Zix",
        "colab_type": "code",
        "colab": {}
      },
      "source": [
        ""
      ],
      "execution_count": 0,
      "outputs": []
    },
    {
      "cell_type": "code",
      "metadata": {
        "id": "r5wNtqFv4evy",
        "colab_type": "code",
        "colab": {}
      },
      "source": [
        ""
      ],
      "execution_count": 0,
      "outputs": []
    },
    {
      "cell_type": "code",
      "metadata": {
        "id": "Oi15iFcO4kH5",
        "colab_type": "code",
        "colab": {}
      },
      "source": [
        ""
      ],
      "execution_count": 0,
      "outputs": []
    },
    {
      "cell_type": "code",
      "metadata": {
        "id": "Myn5ws3X5Esb",
        "colab_type": "code",
        "colab": {}
      },
      "source": [
        ""
      ],
      "execution_count": 0,
      "outputs": []
    },
    {
      "cell_type": "code",
      "metadata": {
        "id": "pPAkD5YX5NbS",
        "colab_type": "code",
        "colab": {}
      },
      "source": [
        ""
      ],
      "execution_count": 0,
      "outputs": []
    },
    {
      "cell_type": "code",
      "metadata": {
        "id": "EP7EMnZF5myA",
        "colab_type": "code",
        "colab": {}
      },
      "source": [
        ""
      ],
      "execution_count": 0,
      "outputs": []
    },
    {
      "cell_type": "code",
      "metadata": {
        "id": "ejLIub9f5zuD",
        "colab_type": "code",
        "colab": {}
      },
      "source": [
        ""
      ],
      "execution_count": 0,
      "outputs": []
    },
    {
      "cell_type": "code",
      "metadata": {
        "id": "Kb4Q3lN16A5H",
        "colab_type": "code",
        "colab": {}
      },
      "source": [
        ""
      ],
      "execution_count": 0,
      "outputs": []
    },
    {
      "cell_type": "code",
      "metadata": {
        "id": "KWPAEXVe7Orc",
        "colab_type": "code",
        "colab": {}
      },
      "source": [
        ""
      ],
      "execution_count": 0,
      "outputs": []
    },
    {
      "cell_type": "code",
      "metadata": {
        "id": "Sp1J3MN97e92",
        "colab_type": "code",
        "colab": {}
      },
      "source": [
        ""
      ],
      "execution_count": 0,
      "outputs": []
    },
    {
      "cell_type": "markdown",
      "metadata": {
        "id": "UsVRwecP7qoS",
        "colab_type": "text"
      },
      "source": [
        "# Conjuntos\n",
        "\n",
        "![alt text](https://github.com/avellar1975/python/raw/master/img/hashetable.png)"
      ]
    },
    {
      "cell_type": "markdown",
      "metadata": {
        "id": "tOXDrwX88u0Y",
        "colab_type": "text"
      },
      "source": [
        "- Listas e tuplas tem posições\n",
        "- Conjuntos e Dicionários: seus elementos não tem posições\n"
      ]
    },
    {
      "cell_type": "markdown",
      "metadata": {
        "id": "D7qP0Jmw9e4l",
        "colab_type": "text"
      },
      "source": [
        "## Métodos de conjuntos"
      ]
    },
    {
      "cell_type": "code",
      "metadata": {
        "id": "TyWSL53a9iDE",
        "colab_type": "code",
        "colab": {}
      },
      "source": [
        ""
      ],
      "execution_count": 0,
      "outputs": []
    },
    {
      "cell_type": "code",
      "metadata": {
        "id": "2F473sjT9iBb",
        "colab_type": "code",
        "colab": {}
      },
      "source": [
        ""
      ],
      "execution_count": 0,
      "outputs": []
    },
    {
      "cell_type": "code",
      "metadata": {
        "id": "8OWayrja9xDd",
        "colab_type": "code",
        "colab": {}
      },
      "source": [
        ""
      ],
      "execution_count": 0,
      "outputs": []
    },
    {
      "cell_type": "code",
      "metadata": {
        "id": "KlMGiA1690Ke",
        "colab_type": "code",
        "colab": {}
      },
      "source": [
        ""
      ],
      "execution_count": 0,
      "outputs": []
    },
    {
      "cell_type": "code",
      "metadata": {
        "id": "mCl5tKTw97q5",
        "colab_type": "code",
        "colab": {}
      },
      "source": [
        ""
      ],
      "execution_count": 0,
      "outputs": []
    },
    {
      "cell_type": "code",
      "metadata": {
        "id": "KAnNLe4C-DUg",
        "colab_type": "code",
        "colab": {}
      },
      "source": [
        ""
      ],
      "execution_count": 0,
      "outputs": []
    },
    {
      "cell_type": "code",
      "metadata": {
        "id": "wIRACzkX-Jvc",
        "colab_type": "code",
        "colab": {}
      },
      "source": [
        ""
      ],
      "execution_count": 0,
      "outputs": []
    },
    {
      "cell_type": "code",
      "metadata": {
        "id": "fAaw5Xv1-OKd",
        "colab_type": "code",
        "colab": {}
      },
      "source": [
        ""
      ],
      "execution_count": 0,
      "outputs": []
    },
    {
      "cell_type": "code",
      "metadata": {
        "id": "88GO5uSp_Pcq",
        "colab_type": "code",
        "colab": {}
      },
      "source": [
        ""
      ],
      "execution_count": 0,
      "outputs": []
    },
    {
      "cell_type": "code",
      "metadata": {
        "id": "hs876xvj_Pah",
        "colab_type": "code",
        "colab": {}
      },
      "source": [
        ""
      ],
      "execution_count": 0,
      "outputs": []
    },
    {
      "cell_type": "code",
      "metadata": {
        "id": "butJi8eWAs8M",
        "colab_type": "code",
        "colab": {}
      },
      "source": [
        ""
      ],
      "execution_count": 0,
      "outputs": []
    },
    {
      "cell_type": "code",
      "metadata": {
        "id": "OS-c7CpeAs56",
        "colab_type": "code",
        "colab": {}
      },
      "source": [
        ""
      ],
      "execution_count": 0,
      "outputs": []
    },
    {
      "cell_type": "code",
      "metadata": {
        "id": "D6VOIQPQBJY4",
        "colab_type": "code",
        "colab": {}
      },
      "source": [
        ""
      ],
      "execution_count": 0,
      "outputs": []
    },
    {
      "cell_type": "markdown",
      "metadata": {
        "id": "HlKxLpDK-GU6",
        "colab_type": "text"
      },
      "source": [
        "# Dicionários"
      ]
    },
    {
      "cell_type": "code",
      "metadata": {
        "id": "dwRLcqIgB3ii",
        "colab_type": "code",
        "colab": {}
      },
      "source": [
        ""
      ],
      "execution_count": 0,
      "outputs": []
    },
    {
      "cell_type": "code",
      "metadata": {
        "id": "JbizBtbICIZf",
        "colab_type": "code",
        "colab": {}
      },
      "source": [
        ""
      ],
      "execution_count": 0,
      "outputs": []
    },
    {
      "cell_type": "code",
      "metadata": {
        "id": "rjM1c6dWCIXd",
        "colab_type": "code",
        "colab": {}
      },
      "source": [
        ""
      ],
      "execution_count": 0,
      "outputs": []
    },
    {
      "cell_type": "code",
      "metadata": {
        "id": "aXzr8MPQC0DY",
        "colab_type": "code",
        "colab": {}
      },
      "source": [
        ""
      ],
      "execution_count": 0,
      "outputs": []
    },
    {
      "cell_type": "code",
      "metadata": {
        "id": "XAiSBRVcC5BY",
        "colab_type": "code",
        "colab": {}
      },
      "source": [
        ""
      ],
      "execution_count": 0,
      "outputs": []
    },
    {
      "cell_type": "code",
      "metadata": {
        "id": "1mRbfVIiC7_x",
        "colab_type": "code",
        "colab": {}
      },
      "source": [
        ""
      ],
      "execution_count": 0,
      "outputs": []
    },
    {
      "cell_type": "code",
      "metadata": {
        "id": "ng2WKScFDZtG",
        "colab_type": "code",
        "colab": {}
      },
      "source": [
        ""
      ],
      "execution_count": 0,
      "outputs": []
    },
    {
      "cell_type": "code",
      "metadata": {
        "id": "QH3etev6Islb",
        "colab_type": "code",
        "colab": {}
      },
      "source": [
        ""
      ],
      "execution_count": 0,
      "outputs": []
    },
    {
      "cell_type": "code",
      "metadata": {
        "id": "bu2PoUyLI2W6",
        "colab_type": "code",
        "colab": {}
      },
      "source": [
        ""
      ],
      "execution_count": 0,
      "outputs": []
    },
    {
      "cell_type": "code",
      "metadata": {
        "id": "JQMxTiWhI7NJ",
        "colab_type": "code",
        "colab": {}
      },
      "source": [
        ""
      ],
      "execution_count": 0,
      "outputs": []
    },
    {
      "cell_type": "code",
      "metadata": {
        "id": "aB6IDecVI7LU",
        "colab_type": "code",
        "colab": {}
      },
      "source": [
        ""
      ],
      "execution_count": 0,
      "outputs": []
    },
    {
      "cell_type": "code",
      "metadata": {
        "id": "6ZhHfau9JC6h",
        "colab_type": "code",
        "colab": {}
      },
      "source": [
        ""
      ],
      "execution_count": 0,
      "outputs": []
    },
    {
      "cell_type": "code",
      "metadata": {
        "id": "xZGGJ1PnJHhT",
        "colab_type": "code",
        "colab": {}
      },
      "source": [
        ""
      ],
      "execution_count": 0,
      "outputs": []
    },
    {
      "cell_type": "code",
      "metadata": {
        "id": "nAAw3-7UJKr5",
        "colab_type": "code",
        "colab": {}
      },
      "source": [
        ""
      ],
      "execution_count": 0,
      "outputs": []
    },
    {
      "cell_type": "markdown",
      "metadata": {
        "id": "iDjYu4OPJtJI",
        "colab_type": "text"
      },
      "source": [
        "### Exercício 19\n",
        "Dada uma lista de entradas de usuário de números inteiros, construa um\n",
        "dicionário com a lista padrão, a lista dos valores elevados ao quadrado e a lista\n",
        "dos valores elevados ao cubo\n",
        "\n",
        "\n",
        "\n",
        "```\n",
        "Fala um número aí:   1\n",
        "Fala um número aí:   2\n",
        "Fala um número aí:   3\n",
        "Fala um número aí:   4\n",
        "Fala um número aí:   5\n",
        "Fala um número aí:   6\n",
        "Fala um número aí:   7\n",
        "Fala um número aí:   8\n",
        "Fala um número aí:   9\n",
        "Fala um número aí:   10\n",
        "{'lista padrão': [1, 2, 3, 4, 5, 6, 7, 8, 9, 10], 'lista quadrada': [1, 4, 9, 16, 25, 36, 49, 64, 81, 100], 'lista cúbica': [1, 8, 27, 64, 125, 216, 343, 512, 729, 1000]}\n",
        "```\n",
        "\n"
      ]
    },
    {
      "cell_type": "markdown",
      "metadata": {
        "id": "dwbJiAYXJd4U",
        "colab_type": "text"
      },
      "source": [
        "### Exercício 20\n",
        "Crie um programa que simule o funcionamento de um caixa eletrônico. No início, pergunte ao usuário qual será o valor a ser sacado (número inteiro) e o programa vai informar quantas cédulas de cada valor serão entregues.\n",
        "\n",
        "Considere que o ATM possui notas de R\\$50, R\\$20, R\\$10 e R\\$1\n",
        "\n",
        "Deve ser dispensado o menor número de cédulas possíveis.\n",
        "\n",
        "\n",
        "```\n",
        "========================================\n",
        "   CAIXA ECONOMICA FEDERAL\n",
        "========================================\n",
        "Que valor você quer sacar? R$120\n",
        "Total de 2 de R$50.00\n",
        "Total de 1 de R$20.00\n",
        "========================================\n",
        "Volte sempre à CAIXA! Tenha um bom dia.\n",
        "```\n",
        "\n",
        "\n",
        "\n",
        "\n",
        "```\n",
        "========================================\n",
        "   CAIXA ECONOMICA FEDERAL\n",
        "========================================\n",
        "Que valor você quer sacar? R$136\n",
        "Total de 2 de R$50.00\n",
        "Total de 1 de R$20.00\n",
        "Total de 1 de R$10.00\n",
        "Total de 6 de R$ 1.00\n",
        "========================================\n",
        "Volte sempre à CAIXA! Tenha um bom dia.\n",
        "```\n",
        "\n"
      ]
    },
    {
      "cell_type": "code",
      "metadata": {
        "id": "gpS2ht8TbCAh",
        "colab_type": "code",
        "colab": {}
      },
      "source": [
        "caixaeletronico()"
      ],
      "execution_count": 0,
      "outputs": []
    },
    {
      "cell_type": "markdown",
      "metadata": {
        "id": "lfREH23FbcjY",
        "colab_type": "text"
      },
      "source": [
        "\n",
        "\n",
        "---\n",
        "\n",
        "\n",
        "\n",
        "---\n",
        "\n"
      ]
    },
    {
      "cell_type": "markdown",
      "metadata": {
        "id": "WC5ESA21LFT3",
        "colab_type": "text"
      },
      "source": [
        "# Créditos"
      ]
    },
    {
      "cell_type": "markdown",
      "metadata": {
        "id": "uo9wvluB1HGt",
        "colab_type": "text"
      },
      "source": [
        "* Licença: Licença de atribuição Creative Commons (reutilização permitida)\n",
        "* Fontes: \n",
        " * Canal de Eduardo Mendes (https://youtu.be/yTQDbqmv8Ho) \n",
        " * Tradução do livro Pense em Python (2ª ed.), de Allen B. Downey (https://penseallen.github.io/PensePython2e/)"
      ]
    },
    {
      "cell_type": "markdown",
      "metadata": {
        "id": "ckFvOyE-kQrK",
        "colab_type": "text"
      },
      "source": [
        "# Extra"
      ]
    },
    {
      "cell_type": "code",
      "metadata": {
        "id": "r2FvWqPYXN8D",
        "colab_type": "code",
        "colab": {}
      },
      "source": [
        "from datetime import datetime\n",
        "\n",
        "d1 = datetime(1975,11,27)\n",
        "d2 = datetime.now()\n",
        "\n",
        "delta = d2 - d1\n",
        "\n",
        "dias = delta.days\n",
        "anos, dias = dias // 365, dias % 365\n",
        "meses, dias = dias // 30, dias % 30\n",
        "\n",
        "print(f\"Desde {d1.day}/{d1.month}/{d1.year} se passaram {anos} anos, {meses} meses, {dias} dias.\")"
      ],
      "execution_count": 0,
      "outputs": []
    }
  ]
}